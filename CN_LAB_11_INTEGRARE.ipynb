{
 "cells": [
  {
   "cell_type": "markdown",
   "id": "91d86abf-d8bf-4ec0-a66c-a16a033ffa75",
   "metadata": {},
   "source": [
    "# Calcul Numeric - Laborator 11\n",
    "# Integrare numerică"
   ]
  },
  {
   "cell_type": "markdown",
   "id": "abe5608e-9a72-423d-83b6-bd381f4803d7",
   "metadata": {},
   "source": [
    "## Obiectiv\n",
    "În acest laborator, vom implementa algoritmi de integrare numerică (pentru aproximarea integralelor)."
   ]
  },
  {
   "cell_type": "markdown",
   "id": "82914210-4bcc-4227-9e47-1b62e313ecf4",
   "metadata": {},
   "source": [
    "## Formule de cuadratură\n",
    "\n",
    "Să considerăm funcția continuă $f:[a,b] \\rightarrow \\mathbb{R}$. Dorim să determinăm o secvență de coeficienți, ponderile $(a_i)_{i=\\overline{1,n}}$ ce corespund nodurilor $x_i$ din intervalul $[a,b]$ astfel încât să aproximăm integrala funcției printr-o formulă de tipul:\n",
    "$$\\int_a^b f(x) dx \\approxeq \\sum_{i=1}^n a_i f(x_i)$$"
   ]
  },
  {
   "cell_type": "markdown",
   "id": "33e7468c-0469-4807-b5ec-1730da2c0f33",
   "metadata": {},
   "source": [
    "Această aproximare poartă numele de „formulă de cuadratura”. Există mai multe modalități prin care putem stabili o astfel de formulă:\n",
    "\n",
    "- Cuadratura **Newton - Cotes**: dacă luăm noduri egal distanțate astfel încât $x_2 - x_1 = x_3 - x_2 = ... = x_n - x_{n-1}$\n",
    "- Cuadratura **Cebîșev**: atunci când toate ponderile $a_i$ sunt egale"
   ]
  },
  {
   "cell_type": "markdown",
   "id": "0a8af825-6ffc-4f74-9a21-df5921ab8db3",
   "metadata": {},
   "source": [
    "În Python, putem folosi funcția built-in `quadrature` din `scipy.integrate`."
   ]
  },
  {
   "cell_type": "markdown",
   "id": "14312768",
   "metadata": {
    "collapsed": false,
    "jupyter": {
     "outputs_hidden": false
    }
   },
   "source": [
    "### Exercițiu\n",
    "- Mai jos este definită funcția `my_fun`. Calculați integrala definită de la $-1$ la $1$ a acestei funții folosind funcția built-in `quadrature`. Testați pentru diferite valori ale constantelor $a,b$ și $c$. Consultă documentația pentru a înțelege modul în care se folosește funcția și output-ul acesteia."
   ]
  },
  {
   "cell_type": "code",
   "execution_count": null,
   "id": "ddcd52ba",
   "metadata": {
    "ExecuteTime": {
     "end_time": "2024-04-21T23:54:36.836003Z",
     "start_time": "2024-04-21T23:54:36.829010Z"
    },
    "collapsed": false,
    "jupyter": {
     "outputs_hidden": false
    }
   },
   "outputs": [],
   "source": [
    "import numpy as np\n",
    "from scipy.integrate import quadrature\n",
    "\n",
    "def my_fun(x, a, b, c):\n",
    "    # exemplu de functie rationala care depinde de parametrii a, b, c\n",
    "    return (a + b * np.sin(x)) / (4 + c * np.exp(x ** 2))\n",
    "\n"
   ]
  },
  {
   "cell_type": "markdown",
   "id": "13a0d25d",
   "metadata": {
    "collapsed": false,
    "jupyter": {
     "outputs_hidden": false
    }
   },
   "source": [
    "## Formule de tip Newton - Cotes"
   ]
  },
  {
   "cell_type": "markdown",
   "id": "bb8c7ad7",
   "metadata": {
    "collapsed": false,
    "jupyter": {
     "outputs_hidden": false
    }
   },
   "source": [
    "$frac{b-a}{n} \\sum_{i=0}^{n} f(\\frac{x_i+x_{i+1}}{2})$$$$frac{b-a}{n} \\sum_{i=0}^{n} f(\\frac{x_i+x_{i+1}}{2})$$\n"
   ]
  },
  {
   "cell_type": "markdown",
   "id": "a2c66286-1778-4613-8d0a-c8033c1175fe",
   "metadata": {},
   "source": [
    "Vom implementa în continuare diferiți algoritmi de integrare numerică care se bazează pe formule de tip Newton. Există mai multe metode alegând în mod diferit coeficienții $a_i$ și nodurile $x_i$:\n",
    "- **Metoda dreptunghiurilor**: aria de sub graficul funcției se aproximează prin intermediul mai multor dreptunghiuri le lățime egală, dar înălțime diferită dată de valoarea funcției $f$ la mijlocul dreptunghiului, adică $f(x_i + x_{i+1}) / 2$\n",
    "- **Metoda trapezelor**: pe aceeași idee, doar că se folosesc trapeze în loc de dreptunghiuri, iar capetele superioare sunt date de $f(x_i)$ și $f(x_{i+1})$\n",
    "- **Metoda Simpson**: această metodă aproximează graficul prin intermediul a mai multor parabole, din acest motiv se mai numește și metoda parabolelor\n",
    "\n",
    "\n",
    "### Metoda dreptunghiurilor\n",
    "Din curs, avem că integrala poate fi aproximată prin suma:\n",
    "$$\\frac{b-a}{n} \\sum_{i=0}^{n-1} f(\\frac{x_i+x_{i+1}}{2})$$\n",
    "cu eroarea dată de \n",
    "$$\\frac{(b-a)^2}{4n} ||f'||_\\infty$$\n"
   ]
  },
  {
   "cell_type": "markdown",
   "id": "1ae8992a-30b0-479b-9392-7a7bf10703ed",
   "metadata": {},
   "source": [
    "### Exercițiu\n",
    "Implementați metoda dreptunghiurilor pentru a aproxima funcția `my_fun`. Comparați rezultatul cu cel dat de output-ul funcției `quadrature` pentru diferite valori ale lui $n$."
   ]
  },
  {
   "cell_type": "code",
   "execution_count": null,
   "id": "8022e25c",
   "metadata": {
    "ExecuteTime": {
     "end_time": "2024-04-22T00:14:30.904705Z",
     "start_time": "2024-04-22T00:14:30.839650Z"
    },
    "collapsed": false,
    "jupyter": {
     "outputs_hidden": false
    }
   },
   "outputs": [],
   "source": []
  },
  {
   "cell_type": "markdown",
   "id": "bca6a2e0",
   "metadata": {
    "collapsed": false,
    "jupyter": {
     "outputs_hidden": false
    }
   },
   "source": [
    "### Metoda trapezelor\n",
    "În acest caz, avem \n",
    "$$  \\frac{b-a}{n} \\sum_{i=0}^{n-1} \\frac{f(x_i)+f(x_{i+1})}{2}$$\n",
    "iar eroarea este dată de \n",
    "$$\\frac{(b-a)^3}{12n^2}||f''||_\\infty$$\n",
    "\n",
    "### Exercițiu\n",
    "- Implementați și această metoda și estimați eroarea în aproximarea funcției `my_fun`. "
   ]
  },
  {
   "cell_type": "code",
   "execution_count": null,
   "id": "3e763d58",
   "metadata": {
    "collapsed": false,
    "jupyter": {
     "outputs_hidden": false
    }
   },
   "outputs": [],
   "source": []
  },
  {
   "cell_type": "markdown",
   "id": "9ddb1af0-ec1c-4a3d-8213-d1215b0b37ab",
   "metadata": {},
   "source": [
    "- Implementați și varianta sub forma compozită a metodei trapezelor\n",
    "$$  \\frac{b-a}{n}[ \\frac{f(a) + f(b)}{2} + \\sum_{i=1}^{n-1} f(x_i)]$$\n",
    "Formula este echivalentă cu cea dată mai sus, doar că implementarea ei sub această formă face ca algoritmul să fie mai rapid. Pune în evidență acest lucru comparând timpii de execuție pentru estimarea unor integrale pe intervale mai mari (dacă timpii sunt prea mici, execută estimarea de mai multe ori, folosind un `for` loop, și măsoară timpul total. Crește numărul de iterații în loop până când observi o diferență între varianta simplă și cea compozită)."
   ]
  },
  {
   "cell_type": "code",
   "execution_count": null,
   "id": "4d11d509-3474-494d-8b49-1ada1187f3a8",
   "metadata": {},
   "outputs": [],
   "source": []
  },
  {
   "cell_type": "markdown",
   "id": "097d61a4-03e2-4486-b772-dceba4c85b29",
   "metadata": {},
   "source": [
    "### Metoda Simpson\n",
    "Această metoda are cea mai mică eroare din cele trei studiate cuadraturi de tip Newton - Cotes studiate în acest laborator. Formula implementată va fi\n",
    "$$\\frac{b-a}{6n} \\sum_{i=0}^{n-1} [f(x_i) + 4f(\\frac{x_i+x_{i+1}}{2}) + f(x_{i+1})]$$"
   ]
  },
  {
   "cell_type": "markdown",
   "id": "817cb8fe-7518-474b-98a5-c7a88ff3efc2",
   "metadata": {},
   "source": [
    "### Exercițiu\n",
    "Implementați și metoda Simpson. Reprezentați pe același grafic pentru cele trei metode eroarea absolută (comparați cu output-ul funcției `quadrature`) în funcție de numărul de diviziuni considerate, $n$."
   ]
  },
  {
   "cell_type": "code",
   "execution_count": null,
   "id": "8f752d54-ddf0-4da9-b657-6b4a280193e9",
   "metadata": {},
   "outputs": [],
   "source": []
  },
  {
   "cell_type": "markdown",
   "id": "9bdb0474",
   "metadata": {
    "collapsed": false,
    "jupyter": {
     "outputs_hidden": false
    }
   },
   "source": [
    "## Caudratura Gaussiană\n",
    "Dacă definim funcția de pondere $w:I\\rightarrow \\mathbb{R}$ pe intevalul de integrare astfel încât ecuația\n",
    "$$\\int_a^b w(x)f(x) dx = \\sum_{i=1}^n a_i f(x_i)$$\n",
    "să fie satisfăcută, atunci avem următoarele metode clasice:\n",
    "\n",
    "<img width=600 src=\"https://github.com/prodangp/LaboratorCN/blob/main/media/lab11/quadratures.png?raw=true\"/>\n",
    "\n",
    "Aceste metode se pot implementa rapid cu `numpy`, de exemplu folosind funcția `leggauss` ([docs](https://numpy.org/doc/stable/reference/generated/numpy.polynomial.legendre.leggauss.html)):"
   ]
  },
  {
   "cell_type": "code",
   "execution_count": null,
   "id": "0c72fb4e-6032-41fc-b5e7-aa31bd40ab89",
   "metadata": {},
   "outputs": [],
   "source": [
    "import numpy as np\n",
    "nodes, weights = np.polynomial.legendre.leggauss(n)\n",
    "approximation = sum(weights * my_fun(nodes, 1, 1, 3))\n",
    " \n",
    "print(\"Aproximarea integralei cu Gauss - Legendre:\", approximation)"
   ]
  },
  {
   "cell_type": "markdown",
   "id": "21189f02-5330-4b69-9c9a-f3c377a1eadd",
   "metadata": {},
   "source": [
    "### Exercițiu\n",
    "Aproximează aceeași integrală folosind Gauss - Cebîșev (vezi [documentația](https://numpy.org/doc/stable/reference/routines.polynomials.chebyshev.html)). Verifică rezultatul obținut comparând rezultatul aceleași aproximări prin metodele implementate anterior (cele de tip Newton - Cotes)."
   ]
  },
  {
   "cell_type": "code",
   "execution_count": null,
   "id": "6201ca36-0af4-4083-bc44-37d41ae166b0",
   "metadata": {},
   "outputs": [],
   "source": []
  },
  {
   "cell_type": "markdown",
   "id": "5a7f1828-a05b-4b46-9766-8c3589292d99",
   "metadata": {},
   "source": [
    "### Integrale multiple\n",
    "\n",
    "O integrală dublă definită pe $D=\\{(x,y) | x \\in [a,b], \\ y \\in [c,d]\\}$ se poate aproxima cu funcția built-in `dblquad`, iar pentru integrale triple putem utiliza `tplquad`. Ambele se găsesc în modulul `integrate` din `scipy`."
   ]
  },
  {
   "cell_type": "code",
   "execution_count": null,
   "id": "15e4e91d-627e-4975-a8cb-927775af83e6",
   "metadata": {},
   "outputs": [],
   "source": [
    "from scipy import integrate\n",
    "f = lambda y, x: x * y ** 2\n",
    "# integrala dubla pentru x * y**2 pentru x de la 0 la 2 si y de la 0 la 1\n",
    "integrate.dblquad(f, 0, 2, lambda x: 0, lambda x: 1) "
   ]
  },
  {
   "cell_type": "markdown",
   "id": "f0514818-cdaf-4bca-99ab-db55b2e8bb2e",
   "metadata": {},
   "source": [
    "### Exercițiu\n",
    "Considerați funcția $f:[0,1] \\times [0,1] \\rightarrow \\mathbb{R}$ astfel încât $f(x,y)=e^{-3y}\\sin (x^2) + \\cos (xy)$. Testați `dblquad` pentru a integra funcția pe intervalul dat. Rezultatul ar trebui să fie $-0.221766...$"
   ]
  },
  {
   "cell_type": "code",
   "execution_count": null,
   "id": "7861828f-da18-491d-8cf9-96ebbaf6b420",
   "metadata": {},
   "outputs": [],
   "source": []
  }
 ],
 "metadata": {
  "kernelspec": {
   "display_name": "Python 3 (ipykernel)",
   "language": "python",
   "name": "python3"
  },
  "language_info": {
   "codemirror_mode": {
    "name": "ipython",
    "version": 3
   },
   "file_extension": ".py",
   "mimetype": "text/x-python",
   "name": "python",
   "nbconvert_exporter": "python",
   "pygments_lexer": "ipython3",
   "version": "3.11.5"
  }
 },
 "nbformat": 4,
 "nbformat_minor": 5
}
