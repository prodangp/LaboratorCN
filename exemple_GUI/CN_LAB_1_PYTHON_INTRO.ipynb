{
 "cells": [
  {
   "cell_type": "markdown",
   "metadata": {},
   "source": [
    "# Calcul Numeric - Laborator 1 - Introducere în Python"
   ]
  },
  {
   "cell_type": "markdown",
   "metadata": {},
   "source": [
    "## Introducere\n",
    "\n",
    "***Python*** este un limbaj de programare **high-level**, **interpretat** și **dinamic**. \n",
    "A fost creat de Guido van Rossum și a fost lansat pentru prima dată în 1991. Este proiectat pentru a fi ușor de înțeles și de citit, având o sintaxă clară și concisă."
   ]
  },
  {
   "cell_type": "markdown",
   "metadata": {},
   "source": [
    "![title](https://www.python.org/static/community_logos/python-logo.png)"
   ]
  },
  {
   "cell_type": "markdown",
   "metadata": {},
   "source": [
    "##### Ce înseamnă limbaj interpretat?\n",
    "\n",
    "Un limbaj interpretat este un limbaj de programare în care instrucțiunile sunt executate direct de către un interpretor, fără a fi necesară o etapă prealabilă de compilare. Acest lucru înseamnă că codul sursă al programului poate fi citit și executat linie cu linie de către interpretor la runtime (momentul în care programul rulează), fără a genera un cod mașină independent în prealabil.\n",
    "\n",
    "##### Cum adică „high-level”?\n",
    "\n",
    "Termenul \"high-level\" (de înalt nivel) se referă la modul în care este abstractizat limbajul de programare, fiind mai apropiat de limbajul uman în comparație cu limbajul mașinii. Astfel, programatorii se pot concentra mai mult pe logica aplicației și mai puțin pe detalii specifice mașinii. Astfel, sintaxa limbajului este concepută pentru a fi citită și scrisă ușor de către oameni.\n",
    "\n",
    "##### Dar de ce dinamic?\n",
    "\n",
    "Deoarece tipurile de date ale variabilelor sunt atribuite și verificate la runtime. Nu suntem obligați să declarăm explicit tipul de date al unei variabile. Mai mult, tipul unei variabile se poate modifica în timpul execuției."
   ]
  },
  {
   "cell_type": "markdown",
   "metadata": {},
   "source": [
    "![](https://d1jnx9ba8s6j9r.cloudfront.net/blog/wp-content/uploads/2019/04/2-354x300.png)"
   ]
  },
  {
   "cell_type": "markdown",
   "metadata": {},
   "source": [
    "#### Caracteristici\n",
    "- *Sintaxă simplă* - Python utilizează indentarea pentru a delimita blocurile de cod. În acest mod, codul este mai ușor de citit și înțeles.\n",
    "\n",
    "- *Multe biblioteci și framework-uri* - Există e o comunitate activă și oferă o gamă largă de biblioteci și framework-uri pentru diverse domenii, cum ar fi web developing, inteligența artificială, analiza datelor, automatizarea sarcinilor și multe altele.\n",
    "\n",
    "- *Portabil* - Este compatibil cu diverse platforme, cum ar fi Windows, Linux și macOS, ceea ce face ca codul să fie portabil între diferite sisteme de operare.\n",
    "\n",
    "- *Extensibil* - Poate fi extins prin module scrise în C sau C++, ceea ce permite integrarea ușoară cu alte limbaje de programare.\n",
    "\n",
    "\n",
    "#### Python 3\n",
    "\n",
    "\n",
    "Python 2 și Python 3 sunt două versiuni majore ale limbajului de programare Python. Python 3 a fost dezvoltat pentru a îmbunătăți și a rezolva unele probleme și inconsecvențe găsite în Python 2. În prezent, se încurajează folosirea versiunii 3, întrucât nu mai există suport oficial pentru Python 2, iar majoritatea bibliotecilor sunt destinate versiunilor noi. \n",
    "\n",
    "Citește mai mult [aici](https://www.interviewbit.com/blog/difference-between-python-2-and-3).\n",
    "\n",
    "### Documentație\n",
    "\n",
    "Documentația oficială se regăsește pe https://docs.python.org/3/\n",
    "\n",
    "Pentru cei care sunt la început există mai multe website-uri cu tutoriale și exemple demonstrative precum:\n",
    "- https://wiki.python.org/moin/BeginnersGuide/Programmers\n",
    "- https://www.w3schools.com/python/default.asp\n",
    "- https://www.learnpython.org/\n",
    "- https://pyflo.net/\n",
    "\n",
    "Fiecare bibliotecă are propria documentație. Atunci când începem să folosim o nouă bibliotecă, este indicat să aruncăm o privire și pe documentație. Mai ales că majoritatea documentațiilor sunt însoțite și de tutoriale, care pot fi foarte utile la început de drum."
   ]
  },
  {
   "cell_type": "markdown",
   "metadata": {},
   "source": [
    "### PIP\n",
    "\n",
    "`pip` este un sistem de gestionare a pachetelor pentru Python. Numele \"pip\" provine de la expresia recursivă \"Pip Installs Packages\" sau \"Pip Installs Python.\" Pentru a folosi o bibliotecă va trebui să instalăm un pachet care asigură instalarea unei sau mai multor biblioteci. Instrucțiunile de instalare sunt de obicei simple și se reduc la o singură comandă de forma `pip install <nume_pachet>`.\n",
    "\n",
    "Mai multe informații despre modul de instalare și documentația unui anumit pachet putem găsi pe site-ul pip: https://pypi.org/ \n",
    "\n",
    "\n"
   ]
  },
  {
   "cell_type": "markdown",
   "metadata": {},
   "source": [
    "![](https://i.ibb.co/zJQ4hk7/pip.png)"
   ]
  },
  {
   "cell_type": "markdown",
   "metadata": {},
   "source": [
    "### IDE: Jupyter Notebook\n",
    "Atunci când vine vorba de Python, Jupyter Notebook este unul dintre cele mai populare IDE-uri (*integrated development environments*), fiind un mediu interactiv de programare care permite crearea și partajarea de secvențe de cod, texte explicative - cum ar fi textul pe care îl citești acum, imagini și rezultate ale executării codului. Este adesea utilizat în domeniile \n",
    "științifice și de analiză de date.\n",
    "\n",
    "Putem consulta documentația Jupyter [aici](http://nbviewer.jupyter.org/urls/bitbucket.org/ipre/calico/raw/master/notebooks/Documentation/Reference%20Guide/Reference%20Guide.ipynb)."
   ]
  },
  {
   "cell_type": "markdown",
   "metadata": {},
   "source": [
    "![](http://localhost:8888/static/base/images/logo.png)"
   ]
  },
  {
   "cell_type": "code",
   "execution_count": 1,
   "metadata": {},
   "outputs": [
    {
     "name": "stdout",
     "output_type": "stream",
     "text": [
      "Requirement already satisfied: numpy in c:\\users\\georg\\anaconda3\\lib\\site-packages (1.24.3)\n"
     ]
    }
   ],
   "source": [
    "!pip install numpy"
   ]
  },
  {
   "cell_type": "markdown",
   "metadata": {},
   "source": [
    "## Tipuri de variabile. Funcția `print`."
   ]
  },
  {
   "cell_type": "code",
   "execution_count": 2,
   "metadata": {
    "scrolled": true
   },
   "outputs": [
    {
     "name": "stdout",
     "output_type": "stream",
     "text": [
      "Hello, World!\n"
     ]
    },
    {
     "data": {
      "text/plain": [
       "str"
      ]
     },
     "execution_count": 2,
     "metadata": {},
     "output_type": "execute_result"
    }
   ],
   "source": [
    "# Așa comentăm în Python\n",
    "\n",
    "variable = \"Hello, World!\"\n",
    "print(variable)\n",
    "type(variable)\n"
   ]
  },
  {
   "cell_type": "code",
   "execution_count": 3,
   "metadata": {},
   "outputs": [
    {
     "name": "stdout",
     "output_type": "stream",
     "text": [
      "<class 'int'>\n",
      "<class 'float'>\n"
     ]
    }
   ],
   "source": [
    "x = 1\n",
    "print(type(x))\n",
    "y = 1.0\n",
    "print(type(y))"
   ]
  },
  {
   "cell_type": "markdown",
   "metadata": {},
   "source": [
    "prin funcția `print` putem printa numerele într-un mod mai interesant (%d - digit, %.2f - float cu 2 zecimale)"
   ]
  },
  {
   "cell_type": "code",
   "execution_count": null,
   "metadata": {},
   "outputs": [],
   "source": [
    "x = 100.005\n",
    "y = 55.1351513513\n",
    "\n",
    "if x > y:\n",
    "    print (\"%d este mai mare decât %.2f\"% (x, y))\n",
    "else:\n",
    "    print (f\"{x} este mai mic decât {y}\")\n",
    "    \n",
    "# atenție la identație când folosim condiția if!"
   ]
  },
  {
   "cell_type": "code",
   "execution_count": null,
   "metadata": {
    "scrolled": true
   },
   "outputs": [],
   "source": [
    "a, b = 5, \"asdfghj\" # un truc pentru a atribui mai multe variabile simultan\n",
    "print(a, b)\n",
    "\n",
    "x = y = z = 7 # ce se întâmplă dacă modificăm una dintre variabile?\n",
    "print(x, y, z)\n",
    "x = 5\n",
    "print(x, y, z)"
   ]
  },
  {
   "cell_type": "code",
   "execution_count": null,
   "metadata": {
    "scrolled": true
   },
   "outputs": [],
   "source": [
    "# putem introducere și din linia de comandă (se folosește rar)\n",
    "x = input(\"introduceți x:\")\n",
    "print(x)"
   ]
  },
  {
   "cell_type": "markdown",
   "metadata": {},
   "source": [
    "### Pointeri în Python? \n",
    "\n",
    "Pointerii ca cei utilizați în limbajele de programare C și C++ sunt variabile care stochează adresa de memorie a altei variabile. Există pointeri în Python? În esență, nu.\n",
    "\n",
    "Pointerii nu sunt ZEN. Conform  [Zen of Python](https://www.python.org/dev/peps/pep-0020/#id3), Python se concentreză pe ușurința de a scrie cod, nu pe viteza de execuție. Pointerii pot fi complecși și îngreunează limbajul, lucrând cu adrese de memorie. Deci, nu are sens să vorbim de pointeri în Python.\n",
    "\n",
    "Pentru mai multe detalii consultați [acest material](https://realpython.com/pointers-in-python/)."
   ]
  },
  {
   "cell_type": "markdown",
   "metadata": {},
   "source": [
    "### Obiecte mutabile vs. obiecte imutabile\n",
    "\n",
    "Obiectele mutabile pot fi modificate, cele imutabile nu. Adică, atunci când unei variabile imutabile i se atribuie o valoare nouă, de fapt se creează un obiect nou, pentru că \"variabilele\" în Python sunt de fapt doar nume legate de obiecte (PyObject)."
   ]
  },
  {
   "cell_type": "code",
   "execution_count": null,
   "metadata": {},
   "outputs": [],
   "source": [
    "x = 2338\n",
    "y = x\n",
    "x is y"
   ]
  },
  {
   "cell_type": "markdown",
   "metadata": {},
   "source": [
    "<img src=\"https://files.realpython.com/media/py_memory3_1.ea43471d3bf6.png\" width=\"400\">"
   ]
  },
  {
   "cell_type": "code",
   "execution_count": null,
   "metadata": {
    "scrolled": true
   },
   "outputs": [],
   "source": [
    "y += 1\n",
    "print(x, y)\n",
    "x is y"
   ]
  },
  {
   "cell_type": "markdown",
   "metadata": {},
   "source": [
    "<img src=\"https://files.realpython.com/media/py_memory4.0a15e8415a15.png\" width=\"600\">\n"
   ]
  },
  {
   "cell_type": "markdown",
   "metadata": {},
   "source": [
    "## Manipularea erorilor"
   ]
  },
  {
   "cell_type": "code",
   "execution_count": null,
   "metadata": {
    "scrolled": true
   },
   "outputs": [],
   "source": [
    "a + b"
   ]
  },
  {
   "cell_type": "code",
   "execution_count": null,
   "metadata": {},
   "outputs": [],
   "source": [
    "try:\n",
    "    print(a + b)\n",
    "except TypeError as e:\n",
    "    print(e)"
   ]
  },
  {
   "cell_type": "markdown",
   "metadata": {},
   "source": [
    "## Operatori\n",
    "\n",
    "ca de obicei..."
   ]
  },
  {
   "cell_type": "code",
   "execution_count": null,
   "metadata": {},
   "outputs": [],
   "source": [
    "print(3/4)\n",
    "print(3.0 / 4.0)\n",
    "print(3%4)\n",
    "print(3//4)\n",
    "print(3**4)\n",
    "print(pow(3, 4))"
   ]
  },
  {
   "cell_type": "markdown",
   "metadata": {},
   "source": [
    "## Iteratori\n",
    "\n",
    "Sunt similari cu cei din C/C++ (for, while). \n",
    "\n",
    "Funcții imporante când lucrăm cu iteratori: `range` și `enumerate` "
   ]
  },
  {
   "cell_type": "code",
   "execution_count": 4,
   "metadata": {},
   "outputs": [
    {
     "name": "stdout",
     "output_type": "stream",
     "text": [
      "1\n",
      "2\n",
      "3\n",
      "4\n",
      "5\n",
      "6\n",
      "7\n",
      "8\n",
      "9\n"
     ]
    }
   ],
   "source": [
    "for i in range(1,10): \n",
    "    print (i)"
   ]
  },
  {
   "cell_type": "code",
   "execution_count": 5,
   "metadata": {},
   "outputs": [
    {
     "name": "stdout",
     "output_type": "stream",
     "text": [
      "1\n",
      "2\n",
      "3\n",
      "4\n",
      "5\n",
      "6\n",
      "7\n",
      "8\n",
      "9\n"
     ]
    }
   ],
   "source": [
    "i = 1\n",
    "while i < 10:\n",
    "    print(i)\n",
    "    i+=1"
   ]
  },
  {
   "cell_type": "code",
   "execution_count": 6,
   "metadata": {},
   "outputs": [
    {
     "name": "stdout",
     "output_type": "stream",
     "text": [
      "0 4\n",
      "1 5\n",
      "2 2\n",
      "3 7\n"
     ]
    }
   ],
   "source": [
    "for i, j in enumerate([4,5,2,7]): \n",
    "    print(i,j)"
   ]
  },
  {
   "cell_type": "markdown",
   "metadata": {},
   "source": [
    "## Funcții"
   ]
  },
  {
   "cell_type": "code",
   "execution_count": 9,
   "metadata": {},
   "outputs": [
    {
     "data": {
      "text/plain": [
       "20"
      ]
     },
     "execution_count": 9,
     "metadata": {},
     "output_type": "execute_result"
    }
   ],
   "source": [
    "def add_two_numbers(a, b, c=2):\n",
    "    result = a + b + c\n",
    "    return result\n",
    "\n",
    "add_two_numbers(10, 6, c=4)"
   ]
  },
  {
   "cell_type": "markdown",
   "metadata": {},
   "source": [
    "Putem adăuga și argumenți de tip keyword pentru funcție, ca în următorul exemplu:"
   ]
  },
  {
   "cell_type": "code",
   "execution_count": null,
   "metadata": {},
   "outputs": [],
   "source": [
    "def add_two_numbers(a, b, decimals=2): # am setat 2 ca valoare default pentru numarul de zecimale\n",
    "    result = a + b\n",
    "    result = round(result, decimals) # rotunjește la un număr dat de decimale\n",
    "    return result\n",
    "\n",
    "print(add_two_numbers(8.642, 6.326))\n",
    "print(add_two_numbers(8.642, 6.326, decimals=3))\n",
    "print(add_two_numbers(8.642, 6.326, decimals=1))"
   ]
  },
  {
   "cell_type": "markdown",
   "metadata": {},
   "source": [
    "Se pot folosi în interiorul funcțiilor și variabile globale. Pentru a modifica însă o variabilă globală în interiorul funcției se folosește ```global```:"
   ]
  },
  {
   "cell_type": "code",
   "execution_count": null,
   "metadata": {},
   "outputs": [],
   "source": [
    "x = \"Python\"\n",
    "\n",
    "def arata_mesaj():\n",
    "  x = \"Python 3\" # aici x este variabilă locală, deoarece statement-ul global nu s-a folosit\n",
    "  print(\"Este foarte simplu să scrii cod în \" + x)\n",
    "\n",
    "arata_mesaj()\n",
    "\n",
    "print(\"Este foarte simplu să scrii cod în \" + x)"
   ]
  },
  {
   "cell_type": "code",
   "execution_count": null,
   "metadata": {},
   "outputs": [],
   "source": [
    "x = \"Python\"\n",
    "\n",
    "def arata_mesaj():\n",
    "  global x # acum am precizat ca x-ul este de fapt x-ul global\n",
    "  x = \"Python 3\" # aici redefinim x-ul global\n",
    "  print(\"Este foarte simplu să scrii cod în \" + x)\n",
    "\n",
    "arata_mesaj()\n",
    "\n",
    "print(\"Este foarte simplu să scrii cod în \" + x)"
   ]
  },
  {
   "cell_type": "markdown",
   "metadata": {},
   "source": [
    "# Liste, Tupluri, Dicționare"
   ]
  },
  {
   "cell_type": "markdown",
   "metadata": {},
   "source": [
    "## Liste\n",
    "\n",
    "Listele sunt exact așa cum sugerează numele. Sunt liste de obiecte. Obiectele pot fi de orice tip de date (inclusiv alte liste), și este permis să se amestece tipurile de date. Este posibil să adăugați, ștergeți, inserați și numărați elemente și să sortați, inversați etc. lista."
   ]
  },
  {
   "cell_type": "code",
   "execution_count": 10,
   "metadata": {},
   "outputs": [
    {
     "name": "stdout",
     "output_type": "stream",
     "text": [
      "['A', 'B', 'F', 'G', 'd', 'x', 'c', [1, 2, 3, 'this is a string', 5.3], 3]\n"
     ]
    }
   ],
   "source": [
    "a_list = [1,2,3,\"this is a string\",5.3]\n",
    "b_list = [\"A\",\"B\",\"F\",\"G\",\"d\",\"x\",\"c\",a_list,3]\n",
    "print(b_list)"
   ]
  },
  {
   "cell_type": "code",
   "execution_count": 13,
   "metadata": {},
   "outputs": [
    {
     "data": {
      "text/plain": [
       "[1, 2, 3]"
      ]
     },
     "execution_count": 13,
     "metadata": {},
     "output_type": "execute_result"
    }
   ],
   "source": [
    "a_list[0:3]"
   ]
  },
  {
   "cell_type": "markdown",
   "metadata": {},
   "source": [
    "Este destul de intuitiv să lucrăm cu listele:"
   ]
  },
  {
   "cell_type": "code",
   "execution_count": null,
   "metadata": {},
   "outputs": [],
   "source": [
    "a = [7,5,3,4,10]\n",
    "print(a[0])\n",
    "print(a[-1])\n",
    "print(a[2:4])\n",
    "print(a[:3])\n",
    "print(a[3:])\n",
    "print(a[3:len(a)])\n",
    "print(a[1::3])"
   ]
  },
  {
   "cell_type": "code",
   "execution_count": null,
   "metadata": {},
   "outputs": [],
   "source": [
    "a.insert(0,0)\n",
    "print(a)\n",
    "a.append(8)\n",
    "print(a)\n",
    "a.reverse()\n",
    "print(a)\n",
    "a.sort()\n",
    "print(a)\n",
    "a.pop()\n",
    "print(a)\n",
    "a.remove(3)\n",
    "print(a)\n",
    "a.remove(a[4])\n",
    "print(a)"
   ]
  },
  {
   "cell_type": "markdown",
   "metadata": {},
   "source": [
    "Putem face operații elegante, cunoscute sub numele de compresii:"
   ]
  },
  {
   "cell_type": "code",
   "execution_count": null,
   "metadata": {},
   "outputs": [],
   "source": [
    "even_numbers = [x for x in range(20) if x % 2 == 0]\n",
    "print (even_numbers)"
   ]
  },
  {
   "cell_type": "markdown",
   "metadata": {},
   "source": [
    "String-urile se comportă ca și niște liste, deci putem aplica aceleași operații:"
   ]
  },
  {
   "cell_type": "code",
   "execution_count": null,
   "metadata": {},
   "outputs": [],
   "source": [
    "intrebare = \"Marian, telefonul meu unde e?\"\n",
    "caractere = [x for x in intrebare]\n",
    "print(characters)"
   ]
  },
  {
   "cell_type": "code",
   "execution_count": null,
   "metadata": {
    "scrolled": true
   },
   "outputs": [],
   "source": [
    "print(intrebare[:6], caractere[:6])"
   ]
  },
  {
   "cell_type": "code",
   "execution_count": null,
   "metadata": {},
   "outputs": [],
   "source": [
    "s1, s2 = intrebare.split(',')\n",
    "print(s1, s2)"
   ]
  },
  {
   "cell_type": "code",
   "execution_count": null,
   "metadata": {},
   "outputs": [],
   "source": [
    "s1 + s2"
   ]
  },
  {
   "cell_type": "markdown",
   "metadata": {},
   "source": [
    "## Tupluri\n",
    "Tuplurile sunt similare listelor fiind indexate, însă nu sunt liste pentru că nu se pot modifica. Sunt imutabile. Odată definite, nimic nu le mai poate schimba. "
   ]
  },
  {
   "cell_type": "code",
   "execution_count": 17,
   "metadata": {},
   "outputs": [
    {
     "name": "stdout",
     "output_type": "stream",
     "text": [
      "(1, 2, 3, 4)\n"
     ]
    }
   ],
   "source": [
    "a = (1,2,3,4)\n",
    "print(a)"
   ]
  },
  {
   "cell_type": "code",
   "execution_count": 18,
   "metadata": {
    "scrolled": true
   },
   "outputs": [
    {
     "ename": "TypeError",
     "evalue": "'tuple' object does not support item assignment",
     "output_type": "error",
     "traceback": [
      "\u001b[1;31m---------------------------------------------------------------------------\u001b[0m",
      "\u001b[1;31mTypeError\u001b[0m                                 Traceback (most recent call last)",
      "Cell \u001b[1;32mIn[18], line 1\u001b[0m\n\u001b[1;32m----> 1\u001b[0m \u001b[43ma\u001b[49m\u001b[43m[\u001b[49m\u001b[38;5;241;43m1\u001b[39;49m\u001b[43m]\u001b[49m \u001b[38;5;241m=\u001b[39m \u001b[38;5;241m2\u001b[39m\n",
      "\u001b[1;31mTypeError\u001b[0m: 'tuple' object does not support item assignment"
     ]
    }
   ],
   "source": [
    "a[1] = 2"
   ]
  },
  {
   "cell_type": "code",
   "execution_count": 19,
   "metadata": {
    "scrolled": true
   },
   "outputs": [
    {
     "data": {
      "text/plain": [
       "(2, 3)"
      ]
     },
     "execution_count": 19,
     "metadata": {},
     "output_type": "execute_result"
    }
   ],
   "source": [
    "a[1:3]"
   ]
  },
  {
   "cell_type": "code",
   "execution_count": null,
   "metadata": {},
   "outputs": [],
   "source": [
    "a = list(a)\n",
    "a"
   ]
  },
  {
   "cell_type": "markdown",
   "metadata": {},
   "source": [
    "## Dicționare\n",
    "Dicționarul este un instrument valoros în Python. Este o structură în care se stochează datele într-o manieră organizată și flexbilă. Fiecare substructură din dicționar are o cheie unică (un nume prin care se identifică). "
   ]
  },
  {
   "cell_type": "code",
   "execution_count": 20,
   "metadata": {},
   "outputs": [
    {
     "name": "stdout",
     "output_type": "stream",
     "text": [
      "Marian\n"
     ]
    }
   ],
   "source": [
    "# exemplu de dicționar\n",
    "student = {\n",
    "        'prenume': \"Marian\", \n",
    "        'cursuri': [\"Calcul Numeric\", \"Algebră liniară\"],\n",
    "        'bursier': True,\n",
    "        'anul_nasterii': 2001\n",
    "} \n",
    "\n",
    "\n",
    "# cum accesam datele dintr-un dictionar\n",
    "print(student['prenume'])"
   ]
  },
  {
   "cell_type": "code",
   "execution_count": 21,
   "metadata": {},
   "outputs": [
    {
     "name": "stdout",
     "output_type": "stream",
     "text": [
      "prenume\n",
      "cursuri\n",
      "bursier\n",
      "anul_nasterii\n"
     ]
    }
   ],
   "source": [
    "for i in student: \n",
    "    print (i) "
   ]
  },
  {
   "cell_type": "code",
   "execution_count": 22,
   "metadata": {},
   "outputs": [],
   "source": [
    "student = {\n",
    "        'prenume': \"Marian\", \n",
    "        'cursuri': \n",
    "                    {\n",
    "                        \"Calcul Numeric\": {\n",
    "                            \"promovat\": False,\n",
    "                            \"nota\": None\n",
    "                            \n",
    "                        },\n",
    "                         \"Algebră liniară\": {\n",
    "                             \"promovat\": True,\n",
    "                             \"nota\": 9\n",
    "                        },\n",
    "                    },\n",
    "        'bursier': True,\n",
    "        'anul_nasterii': 2001\n",
    "} \n",
    "\n"
   ]
  },
  {
   "cell_type": "code",
   "execution_count": null,
   "metadata": {},
   "outputs": [],
   "source": [
    "student['cursuri']['Algebră liniară']['nota']"
   ]
  },
  {
   "cell_type": "markdown",
   "metadata": {},
   "source": [
    "<center> <h1> &nbsp;&nbsp;&nbsp;&nbsp;&nbsp;&nbsp;&nbsp;  Zen of Python </h1> </center>\n",
    "<p style=\"text-align: center;\">Beautiful is better than ugly.</p>\n",
    "<p style=\"text-align: center;\">Explicit is better than implicit.</p>\n",
    "<p style=\"text-align: center;\">Simple is better than complex.</p>\n",
    "<p style=\"text-align: center;\">Complex is better than complicated.</p>\n",
    "<p style=\"text-align: center;\">Flat is better than nested.</p>\n",
    "<p style=\"text-align: center;\">Sparse is better than dense.</p>\n",
    "<p style=\"text-align: center;\">Readability counts.</p>\n",
    "<p style=\"text-align: center;\">Special cases aren't special enough to break the rules.</p>\n",
    "<p style=\"text-align: center;\">Although practicality beats purity.</p>\n",
    "<p style=\"text-align: center;\">Errors should never pass silently.</p>\n",
    "<p style=\"text-align: center;\">Unless explicitly silenced.</p>\n",
    "<p style=\"text-align: center;\">In the face of ambiguity, refuse the temptation to guess.</p>\n",
    "<p style=\"text-align: center;\">There should be one-- and preferably only one --obvious way to do it.</p>\n",
    "<p style=\"text-align: center;\">Although that way may not be obvious at first unless you're Dutch.</p>\n",
    "<p style=\"text-align: center;\">Now is better than never.</p>\n",
    "<p style=\"text-align: center;\">Although never is often better than *right* now.</p>\n",
    "<p style=\"text-align: center;\">If the implementation is hard to explain, it's a bad idea.</p>\n",
    "<p style=\"text-align: center;\">If the implementation is easy to explain, it may be a good idea.</p>\n",
    "<p style=\"text-align: center;\">Namespaces are one honking great idea -- let's do more of those!</p>\n"
   ]
  },
  {
   "cell_type": "markdown",
   "metadata": {},
   "source": [
    "### Acum, rândul vostru!"
   ]
  },
  {
   "cell_type": "markdown",
   "metadata": {},
   "source": [
    "- urmăriți tutorialele w3school până la funcții lambda:\n",
    "https://www.w3schools.com/python/default.asp\n",
    "- încearcați exercițiile de pe programiz 1, 2, 3, 5, 7, 10, 11, 13, 36, 37, 38, 45 https://www.programiz.com/python-programming/examples"
   ]
  }
 ],
 "metadata": {
  "kernelspec": {
   "display_name": "Python 3 (ipykernel)",
   "language": "python",
   "name": "python3"
  },
  "language_info": {
   "codemirror_mode": {
    "name": "ipython",
    "version": 3
   },
   "file_extension": ".py",
   "mimetype": "text/x-python",
   "name": "python",
   "nbconvert_exporter": "python",
   "pygments_lexer": "ipython3",
   "version": "3.11.0"
  }
 },
 "nbformat": 4,
 "nbformat_minor": 4
}
