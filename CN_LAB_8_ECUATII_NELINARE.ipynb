{
 "cells": [
  {
   "cell_type": "markdown",
   "id": "91d86abf-d8bf-4ec0-a66c-a16a033ffa75",
   "metadata": {},
   "source": [
    "# Calcul Numeric - Laborator 8\n",
    "# Pachetul SymPy. Principiul contracțiilor. Metoda tangentei."
   ]
  },
  {
   "cell_type": "markdown",
   "id": "abe5608e-9a72-423d-83b6-bd381f4803d7",
   "metadata": {},
   "source": [
    "## Obiectiv\n",
    "În acest laborator, vom studia alte două metode pentru estimarea soluțiilor ecuațiilor neliniare. Vom introduce și pachetul `sympy` pentru calcul simbolic. Acest pachet îl puteți folosi pentru a calcula derivatele funcțiilor direct în Python."
   ]
  },
  {
   "cell_type": "markdown",
   "id": "53684f3d-ebff-4e98-852b-c91516a63901",
   "metadata": {},
   "source": [
    "### ERATA LAB 7 : la teorema bisecției la a doua condiție este \"<\" în loc de \">\"\n",
    "\n",
    "*Fie $I_0=[a_0,b_0]=[a,b]$ și $x_0=\\frac{a_0+b_0}{2}$*\n",
    "- *Dacă $f(a)f(x)<0$, atunci $b_1=x,a_1=a$ și luăm $I_1=[a_1,b_1]=[a,x]$*\n",
    "- **Dacă $f(x)f(b) \\mathbf{<} 0$, atunci $a_1=x,b_1=b$ și luăm $I_1=[a_1,b_1]=[x,b]$**\n",
    "- *Dacă $f(x)=0$ înseamnă că $\\xi=x$; STOP.*"
   ]
  },
  {
   "cell_type": "markdown",
   "id": "82914210-4bcc-4227-9e47-1b62e313ecf4",
   "metadata": {},
   "source": [
    "## Pachetul SymPy\n",
    "Mai întâi verificați dacă aveți instalat pachetul. Dacă nu, folosiți `pip` pentru instalare."
   ]
  },
  {
   "cell_type": "code",
   "execution_count": null,
   "id": "8b1e1170-7261-408f-987e-25a5096b7ad6",
   "metadata": {},
   "outputs": [],
   "source": []
  },
  {
   "cell_type": "markdown",
   "id": "363b40f7-a8bb-4d36-9855-7b68a3e27426",
   "metadata": {},
   "source": [
    "Vom folosi pachetul pentru a calcula derivate, iar în următoarele celule vom vedea cum facem acest lucru. \n",
    "\n",
    "În primul rând, definim o funcție ca și string:"
   ]
  },
  {
   "cell_type": "code",
   "execution_count": null,
   "id": "960ce14c-47c9-48e8-8a57-98590e08a17f",
   "metadata": {
    "ExecuteTime": {
     "end_time": "2024-04-06T15:53:38.999182Z",
     "start_time": "2024-04-06T15:53:38.978881Z"
    }
   },
   "outputs": [],
   "source": [
    "f_str = \"exp(x^2)-x^2+sin(x)\""
   ]
  },
  {
   "cell_type": "markdown",
   "id": "c76f0058-ae47-46ce-bdf8-4f80d81006a8",
   "metadata": {},
   "source": [
    "Observați că pentru exponențială am folosit `exp` în loc de `e` și trebuie puse și parantezele `(` x `)`. Consultați documentația în cazul în care folosiți o funcție nouă și nu sunteți siguri."
   ]
  },
  {
   "cell_type": "code",
   "execution_count": null,
   "id": "5b112a03-c502-463a-bc7e-7b11ab174ce6",
   "metadata": {
    "ExecuteTime": {
     "end_time": "2024-04-06T15:55:24.333583Z",
     "start_time": "2024-04-06T15:55:22.772392Z"
    }
   },
   "outputs": [],
   "source": [
    "from sympy import diff, symbols\n",
    "x = symbols('x')\n",
    "\n",
    "f1_sympy = diff(f_str, x) \n",
    "f2_sympy = diff(f_str, x, 2)"
   ]
  },
  {
   "cell_type": "code",
   "execution_count": null,
   "id": "4f7ff0fa-a76e-42cd-af29-d2130819ee82",
   "metadata": {
    "ExecuteTime": {
     "end_time": "2024-04-06T16:46:06.855082Z",
     "start_time": "2024-04-06T16:45:08.444454Z"
    }
   },
   "outputs": [],
   "source": [
    "f1_sympy"
   ]
  },
  {
   "cell_type": "code",
   "execution_count": null,
   "id": "5ad7feda-59ee-4d5f-9bb0-a09dfed626c2",
   "metadata": {
    "ExecuteTime": {
     "end_time": "2024-04-06T16:46:08.899683Z",
     "start_time": "2024-04-06T16:46:06.859084Z"
    }
   },
   "outputs": [],
   "source": [
    "f2_sympy"
   ]
  },
  {
   "cell_type": "markdown",
   "id": "9aa81658-fff2-417c-ab68-13458a836580",
   "metadata": {},
   "source": [
    "### Cum folosim aceste funcții în Python?\n",
    "Momentan doar am calculat derivatele și le-am afișat sub formă simbolică. Dacă apelăm `f1(2)` pentru a calcula prima derivată în punctul 2 o să primim o eroare. Încearcă!"
   ]
  },
  {
   "cell_type": "code",
   "execution_count": null,
   "id": "44b95787-7897-47fc-8834-9a4586f2be86",
   "metadata": {
    "scrolled": true
   },
   "outputs": [],
   "source": [
    "f1_sympy(2)"
   ]
  },
  {
   "cell_type": "markdown",
   "id": "a6e95490-f137-4483-a563-5d84b65552ed",
   "metadata": {},
   "source": [
    "Deci nu putem folosi `f1_sympy` pentru a calcula derivata numeric. Trebuie să o convertim în funcție Python. Putem face asta cu `lambdify`."
   ]
  },
  {
   "cell_type": "code",
   "execution_count": null,
   "id": "fad16f7c-11bc-468a-ba8a-3b873f68e3df",
   "metadata": {
    "ExecuteTime": {
     "end_time": "2024-04-06T15:57:43.803221Z",
     "start_time": "2024-04-06T15:57:41.362029Z"
    }
   },
   "outputs": [],
   "source": [
    "from sympy import lambdify\n",
    "f1 = lambdify(x, f1_sympy)\n",
    "f1(0)"
   ]
  },
  {
   "cell_type": "markdown",
   "id": "f47a5e6e-f29a-4fae-93e7-3015367a4d10",
   "metadata": {},
   "source": [
    "### Reprezentarea grafică a funcțiilor\n",
    "Pentru a reprezenta grafic funcțiile putem folosi `np.linspace` pentru a genera valori discrete ale lui `x`, iar apoi folosim aceste valori să calculăm rezultatul funcției."
   ]
  },
  {
   "cell_type": "code",
   "execution_count": null,
   "id": "d425739c-3a2d-44c7-aaa4-310e4ce4aea8",
   "metadata": {},
   "outputs": [],
   "source": [
    "from matplotlib import pyplot as plt\n",
    "import numpy as np\n",
    "from sympy import sympify\n",
    "\n",
    "f = lambdify(x, sympify(f_str))\n",
    "x = np.linspace(0, 1, 100) # generăm 100 de valori în intervalul [0,1)\n",
    "plt.plot(x, f(x), '-', label=\"f(x)\")\n",
    "plt.plot(x, f1(x), '-', label=\"df(x)/dx\")\n",
    "plt.legend()\n",
    "plt.show()"
   ]
  },
  {
   "cell_type": "markdown",
   "id": "8eef274b-6ada-4d22-bf4e-5e08dd28dc7c",
   "metadata": {},
   "source": [
    "### Exercițiu\n",
    "- Află expresia primei derivate pentru următoarele funcții:\n",
    "    - $x^2 + ln(x^2 - 1)$\n",
    "    - $tan(x) - sin(cos(x))$\n",
    "- Reprezentați grafic cele două derivate"
   ]
  },
  {
   "cell_type": "code",
   "execution_count": null,
   "id": "36836e8f",
   "metadata": {
    "collapsed": false,
    "jupyter": {
     "outputs_hidden": false
    }
   },
   "outputs": [],
   "source": []
  },
  {
   "cell_type": "markdown",
   "id": "ff63ae47-38be-43a5-83d0-7fb538d1a9ae",
   "metadata": {},
   "source": [
    "## Principiul contracțiilor"
   ]
  },
  {
   "cell_type": "markdown",
   "id": "1cdc0b73",
   "metadata": {
    "collapsed": false,
    "jupyter": {
     "outputs_hidden": false
    }
   },
   "source": [
    "Vom implementa algoritmul ce găsește soluția unei ecuații $f(x)=g(x)-x=0$ pe baza principiului contracției (metoda aproximațiilor succesive).\n",
    "\n",
    "<img src=\"https://i.imgflip.com/8lxc7s.jpg\" width=300></img>\n",
    "\n",
    "### Exemplul 1: Ecuația lui Kepler\n",
    "Să considerăm ecuația lui Kepler:\n",
    "$$x - e \\sin(x) = t$$\n",
    "\n",
    "Vom rescrie ecuația sub forma $g(x)=x$:\n",
    "$$f(x)=x - e \\sin(x) - t = 0$$\n",
    "$$g(x) = e \\sin(x) + t$$\n",
    "și vom construi șirul $x_n$ astfel:\n",
    "$$x_0 = 0$$\n",
    "$$x_{n+1} = g(x_n) = e \\sin(x_n) + t$$\n",
    "\n",
    "Mai jos rezolvăm ecuația lui Kepler pentru $e=0.1$ la momentul de timp $t=0.1$."
   ]
  },
  {
   "cell_type": "code",
   "execution_count": null,
   "id": "293565cc",
   "metadata": {
    "collapsed": false,
    "jupyter": {
     "outputs_hidden": false
    },
    "pycharm": {
     "is_executing": true
    }
   },
   "outputs": [],
   "source": [
    "import numpy as np\n",
    "\n",
    "def solve_kepler(e, t, n=20):\n",
    "    g = lambda x: e * np.sin(x) + t\n",
    "    x = 0\n",
    "    for _ in range(n):    # conventia _ se foloseste când variabila \"_\" nu este de fapt necesară în continuare\n",
    "        x = g(x)\n",
    "    return x\n",
    "\n",
    "x = solve_kepler(0.1, 0.1)\n",
    "print(\"Soluția ecuației Kepler este\", x)\n",
    "print(r\"Verificare: x - e sin(x) - t =\", x - 0.1 * np.sin(x) - 0.1) "
   ]
  },
  {
   "cell_type": "markdown",
   "id": "4e402eef-6b4d-47e7-83e5-9eb143019682",
   "metadata": {},
   "source": [
    "### Exercițiu\n",
    "- Reprezintă grafic termenii șirului $x_n$ în funcție de $n$ pentru 20 de iterații.\n",
    "- Modifică funcția anterioară astfel încât să se oprească la o eroare mai mică de $\\epsilon=10^{-10}$ pentru valoarea obținută pentru $g(x) - x$ (care ar trebui să fie egală cu 0).  Deci în loc de $n$ vom avea argumentul cheie $\\epsilon$."
   ]
  },
  {
   "cell_type": "code",
   "execution_count": null,
   "id": "e8f021b7-8ca2-44d9-bd62-0a58fe018a12",
   "metadata": {},
   "outputs": [],
   "source": []
  },
  {
   "cell_type": "markdown",
   "id": "76b974ca",
   "metadata": {
    "collapsed": false,
    "jupyter": {
     "outputs_hidden": false
    }
   },
   "source": [
    "\n",
    "\n",
    "### Exemplul 2: Rata de natalitate\n",
    "Să ne întoarcem la scenariul discutat la laboratorul precedent, funcția pe care aplicăm algoritmul fiind\n",
    "$$f(x) = ae^x + \\frac{b}{x}(e^x -1) - c$$\n",
    "cu\n",
    "$$a=1.000.000$$\n",
    "$$b=435.000$$\n",
    "$$c=1.564.000$$"
   ]
  },
  {
   "cell_type": "markdown",
   "id": "f49e676a",
   "metadata": {
    "collapsed": false,
    "jupyter": {
     "outputs_hidden": false
    }
   },
   "source": [
    "#### Implementarea metodei aproximațiilor succesive\n",
    "Pentru a aplica metoda aproximațiilor succesive rescriem funcția sub forma $g(x)=x$:\n",
    "\n",
    "$$a e^x + \\frac{b}{x}(e^x -1) - c = 0$$\n",
    "$$axe^x + b(e^x -1) - cx = 0$$\n",
    "$$g(x)=\\frac{a}{c}xe^x + \\frac{b}{c}(e^x -1) = x$$\n",
    "\n",
    "iar apoi construim șirul $x_n$ astfel:\n",
    "$$x_0 = 0$$\n",
    "$$x_{n+1} = g(x_n) = \\frac{a}{c}x_ne^{x_n} + \\frac{b}{c}(e^{x_n} -1)$$\n",
    "\n",
    "Pentru $x_0$ putem alege orice valoare."
   ]
  },
  {
   "cell_type": "markdown",
   "id": "32e7e16a",
   "metadata": {
    "collapsed": false,
    "jupyter": {
     "outputs_hidden": false
    }
   },
   "source": [
    "### Exercițiu\n",
    "- Scrie o funcție anonimă $g$ care să reprezinte funcția $g(x)$.\n",
    "- Implementează metoda aproximațiilor succesive calculând termenii șirului $x_n$ până la n=100.\n",
    "- Calculează eroarea absolută pentru $x_{100}$. Folosește funcția `fsolve` din pachetul `scipy.optimize` pentru a găsi soluția exactă.\n",
    "- De ce crezi că am obținut o eroare atât de mare la subpunctul anterior? Dacă mărim numărul de iterații, eroarea va scădea?"
   ]
  },
  {
   "cell_type": "code",
   "execution_count": null,
   "id": "2c6cba18",
   "metadata": {
    "collapsed": false,
    "jupyter": {
     "outputs_hidden": false
    }
   },
   "outputs": [],
   "source": []
  },
  {
   "cell_type": "markdown",
   "id": "4f3a5047",
   "metadata": {
    "collapsed": false,
    "jupyter": {
     "outputs_hidden": false
    }
   },
   "source": [
    "**Rezultatul obținut la exercițiul anterior este o consecință a faptului că algoritmul nu converge. Deoarece funcția $g$ nu este o contracție, nu putem garanta convergența șirului $x_n$.**\n"
   ]
  },
  {
   "cell_type": "markdown",
   "id": "4461c493-806a-4fae-b9cf-13b48b4ba370",
   "metadata": {},
   "source": [
    "#### De unde știm că funcția va converge sau nu?\n",
    "Ca să ne asigurăm că va converge, trebuie mai întâi să găsim o $\\alpha$ - contracție, $g$, cu $\\alpha~\\in~(0, 1)$ astfel încât\n",
    "$$|g(x)-g(y)|<\\alpha|x-y|$$\n",
    "pentru orice $x,y~\\in~[a,b]$.\n",
    "\n",
    "Dacă rescriem ecuația pe care dorim să o rezolvăm sub forma $g(x)=x$, atunci soluția $x$ este un punct fix pentru $\\alpha$ - contracția construită și, conform teoremei 6 din curs (slide 30), șirul $x_n=g(x_{n-1})$ converge la unicul punct fix a lui $g$, iar eroarea maximă este dată de $\\alpha^n |b - a|$.\n",
    "\n",
    "#### Cum alegem $\\alpha$?\n",
    "Pentru a alege $\\alpha$ trebuie să găsim o funcție $g$ astfel încât $g(x)=x$ să aibă soluție unică. Pentru aceasta, putem folosi observația 2 din cursul 6 (slide 29). Dacă $g$ este derivabilă pe un interval $[a,b]$ și există o constantă $0<\\alpha<1$ astfel încât\n",
    "$$|g'(x)|\\leq \\alpha, \\forall x \\in [a,b]$$\n",
    "atunci $g$ este o contracție pe $[a,b]$ și are un singur punct fix.\n",
    "\n",
    "\n"
   ]
  },
  {
   "cell_type": "markdown",
   "id": "c91b6aab-3ee8-4769-988a-288d4719e32e",
   "metadata": {},
   "source": [
    "### Exercițiu\n",
    "- Folosind `sympy` calculati $g'$ pentru cele două exemple de mai sus:\n",
    "    - ecuația lui Kepler - $g(x)=e \\sin(x) + t$\n",
    "    - rata de natalitate - $g(x)=\\frac{a}{c}xe^x + \\frac{b}{c}(e^x -1)$"
   ]
  },
  {
   "cell_type": "code",
   "execution_count": null,
   "id": "b99a62f1-ee39-4bd0-86b3-af1731ff6caf",
   "metadata": {},
   "outputs": [],
   "source": [
    "x = symbols('x')\n",
    "g_kepler_str = \"0.1 * sin(x) + 0.1\"\n",
    "g_natalitate_str = \"1000000 * x * exp(x) / 1564000 + 435000 * (exp(x) - 1) / 1564000\"\n",
    "# continuă\n"
   ]
  },
  {
   "cell_type": "markdown",
   "id": "f3d99c9c-e76b-425c-bcd6-becfe0634d05",
   "metadata": {},
   "source": [
    "- Pentru ambele exemple reprezintă grafic $g'(x)$ în funcție de $x$ în intervalul ales.\n",
    "- Demonstrăm ușor că există o contracție $g$ pentru $\\alpha=0.1$. Alege un interval $[a,b]$ pentru ecuația lui Kepler astfel încât $|g'(x)|\\leq 0.1, \\forall x \\in [a,b]$ și estimează eroarea pentru $n=20$ iterații ale metodei aproximațiilor succesive.\n",
    "- Justifică de ce pentru al doilea exemplu nu avem contracție."
   ]
  },
  {
   "cell_type": "code",
   "execution_count": null,
   "id": "071ba6be-9d6a-4f25-ba9d-bafe056cdd08",
   "metadata": {},
   "outputs": [],
   "source": []
  },
  {
   "cell_type": "markdown",
   "id": "020ff8cd-6181-499c-b621-a0f81a0e221c",
   "metadata": {},
   "source": [
    "## Metoda tangentei"
   ]
  },
  {
   "cell_type": "markdown",
   "id": "45e87700-e425-4cef-9e3e-1e8b49a027fd",
   "metadata": {},
   "source": [
    "Din interpretarea geometrică a metodei, formula de recurență (ec. 18 din curs - slide 37) este:\n",
    "$$x_n=x_{n-1}-\\frac{f(x_{n-1})}{f'(x_{n-1})}, \\forall n \\geq 1$$\n"
   ]
  },
  {
   "cell_type": "markdown",
   "id": "400f5c83-458e-4f60-8851-ca7b718ccad3",
   "metadata": {},
   "source": [
    "Însă pentru a ne asigura că acest șir converge trebuie să verificăm următoarele condiții conform teoremei 7 din curs (slide 34):\n",
    "- Intervalul $[a,b]$ este ales astfel încât:\n",
    "    - $f(a)f(b)<0$\n",
    "    - $f'(x)\\neq 0$ și $f''(x)\\neq 0, \\forall x \\in [a,b]$\n",
    "- Termenul inițial al șirului $x_0 \\in [a,b]$ este ales astfel încât $f(x_0)f''(x_0)>0$ "
   ]
  },
  {
   "cell_type": "markdown",
   "id": "a12941aa-0ff1-4c51-ab09-5409e123be4c",
   "metadata": {},
   "source": [
    "Vom testa metoda pe ecuația ratei de natalitate."
   ]
  },
  {
   "cell_type": "code",
   "execution_count": null,
   "id": "36331fc9-20ea-47bf-823a-22072a3a8a37",
   "metadata": {},
   "outputs": [],
   "source": [
    "f_str =  \"1000000 * exp(x)  + 435000 / x * (exp(x) - 1) - 1564000\"\n",
    "x = symbols('x')\n",
    "f = lambdify(x, sympify(f_str))\n",
    "f(0.01)"
   ]
  },
  {
   "cell_type": "markdown",
   "id": "18d5fef1-8113-4291-89e8-4e9055fd632d",
   "metadata": {},
   "source": [
    "### Exercițiu\n",
    "- Calculați a prima și a doua derivată a funcției $f$ cu `sympy`."
   ]
  },
  {
   "cell_type": "code",
   "execution_count": null,
   "id": "af23b7b9-59d4-4cba-a4b9-3950683a3a75",
   "metadata": {},
   "outputs": [],
   "source": [
    "f1 = None # prima derivată\n",
    "f2 = None # a doua derivată"
   ]
  },
  {
   "cell_type": "markdown",
   "id": "f874221f-cd1e-4795-849e-d729611bd8f0",
   "metadata": {},
   "source": [
    "- Scrieți o funcție care să verifice condițiile de mai sus. Funcția va prelua intervalul și valoarea $x_0$ pentru care verificăm condițiile și va returna `True` dacă sunt îndeplinite sau `False` în caz contrar."
   ]
  },
  {
   "cell_type": "code",
   "execution_count": null,
   "id": "f2ab031e-1a0c-46dd-95fc-dfba150c7a9a",
   "metadata": {},
   "outputs": [],
   "source": [
    "def check_convergence(f, f1, f2, a, b, x0):\n",
    "    raise NotImplementedError(\"Funcție neimplementată\")"
   ]
  },
  {
   "cell_type": "markdown",
   "id": "9eaa9d3c-70e3-4bdd-9da6-2762fb4de0f9",
   "metadata": {},
   "source": [
    "- Scrie o funcție care implementează metoda tangentei astfel:\n",
    "    - se vor primii ca input funcția sub formă de string, capetele intervalului $[a,b]$ și $x_0$\n",
    "    - utilizatorul va fi înștiințat dacă algoritmul converge\n",
    "    - algoritmul se va opri atunci când $f(x)$ va fi estimat cu o eroare $\\epsilon$ stabilită de utilizator sau după un număr maxim de iterații\n",
    "    - se va afișa timpul de execuție, numărul de iterații necesar și eroarea absolută (calculată în raport cu rezultatul dat de `fsolve`)"
   ]
  },
  {
   "cell_type": "code",
   "execution_count": null,
   "id": "dd7ac12a-51b9-4675-8d69-ce45ae1f64d1",
   "metadata": {},
   "outputs": [],
   "source": [
    "import warnings\n",
    "import time\n",
    "\n",
    "def tangent_solve(f_str, a, b, x0, eps=1e-3, n_max=1000):\n",
    "    x = symbols('x')\n",
    "    f = lambdify(x, sympify(f_str))\n",
    "    f1 = lambdify(x, diff(f_str, x))\n",
    "    f2 = lambdify(x, diff(f_str, x, 2))\n",
    "    \n",
    "    if not check_convergence(f, f1, f2, a, b, x0):\n",
    "        warnings.warn(\"Algoritmul nu va converge!\")\n",
    "        \n",
    "    x = x0\n",
    "    n = 0\n",
    "    t_start = time.time() # timp start algoritm\n",
    "    \n",
    "    while np.abs(f(x)) > eps and n < n_max:\n",
    "        raise NotImplementedError(\"Funcție neimplementată\")\n",
    "        \n",
    "    print(f\"Număr de iterații: {n}\")\n",
    "    \n",
    "    print(\"Timp necesar:\", \"?\")\n",
    "    \n",
    "    return x"
   ]
  },
  {
   "cell_type": "code",
   "execution_count": null,
   "id": "36fd65d8-c5ea-42e2-9aae-1ca2f512a0c0",
   "metadata": {
    "scrolled": true
   },
   "outputs": [],
   "source": [
    "tangent_solve(f_str, 0.001, 1, 0.5)"
   ]
  },
  {
   "cell_type": "markdown",
   "id": "b5a75369-c6fe-46a6-8aa8-44ffda1b4e9b",
   "metadata": {},
   "source": [
    "#### Care dintre cele patru metode studiate în laboratoarele 7 și 8 a fost cea mai bună pentru a estima rata de natalitate?"
   ]
  },
  {
   "cell_type": "markdown",
   "id": "1d9139cd-0030-4a0c-9b1a-6f933a40a4b8",
   "metadata": {},
   "source": [
    "### Exercițiu"
   ]
  },
  {
   "cell_type": "markdown",
   "id": "1ee44276-829c-4021-a8e1-f4b03a38ec03",
   "metadata": {},
   "source": [
    "- Adună cei patru algoritmi pe care i-ai implementat în aceste laboratoare într-o singură interfață grafică. Vezi un exemplu de cum ar putea să arate pe moodle în tutorialul despre widget-uri: https://moodle.univ-ovidius.ro/mod/resource/view.php?id=35580"
   ]
  }
 ],
 "metadata": {
  "kernelspec": {
   "display_name": "Python 3 (ipykernel)",
   "language": "python",
   "name": "python3"
  },
  "language_info": {
   "codemirror_mode": {
    "name": "ipython",
    "version": 3
   },
   "file_extension": ".py",
   "mimetype": "text/x-python",
   "name": "python",
   "nbconvert_exporter": "python",
   "pygments_lexer": "ipython3",
   "version": "3.11.5"
  }
 },
 "nbformat": 4,
 "nbformat_minor": 5
}
