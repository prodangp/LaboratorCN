{
 "cells": [
  {
   "cell_type": "markdown",
   "id": "91d86abf-d8bf-4ec0-a66c-a16a033ffa75",
   "metadata": {},
   "source": [
    "# Calcul Numeric - Laborator 9\n",
    "# Estimarea soluției sistemelor de ecuații neliniare"
   ]
  },
  {
   "cell_type": "markdown",
   "id": "abe5608e-9a72-423d-83b6-bd381f4803d7",
   "metadata": {},
   "source": [
    "## Obiectiv\n",
    "În acest laborator, vom estima soluția sistemelor de ecuațiile neliniare. Vom implementa doi algoritmi. Primul bazat pe principiul contracțiilor, iar al doilea pe metoda tangentei (NeRa: Newton - Raphson)"
   ]
  },
  {
   "cell_type": "markdown",
   "id": "82914210-4bcc-4227-9e47-1b62e313ecf4",
   "metadata": {},
   "source": [
    "## Norme\n",
    "În implementarea algoritmilor vom folosi conceptul de **normă**, așa cum ați văzut și la curs. O scurtă recapitulare:\n",
    "\n",
    "### Normele vectoriale\n",
    "Normele vectoriale se calculează pentru un vector $x\\in \\mathbb{R}^n$, astfel avem:\n",
    "- Norma-1 (octaedrică): $||x||_1=\\sum^n_{i=1} |x_i|$\n",
    "- Norma-2 (sferică): $||x||_2=(\\sum^n_{i=1} x_i^2)^{1/2}$\n",
    "- Norma-p (cazul generalizat): $||x||_p=(\\sum^n_{i=1} x_i^p)^{1/p}$\n",
    "- Norma-$\\infty$ (norma cubică): $||x||_\\infty=\\max_{i=\\overline{1,n}} |x_i|$\n",
    "\n",
    "### Normele matriceale\n",
    "Normele matriceale sunt definite pe o matrice $\\mathcal{M}_n$. Cele prezentate la curs sunt:\n",
    "- Norma-1: $||A||_1=\\max_{j=\\overline{1,n}} \\sum^n_{i=1} |a_{ij}|$\n",
    "- Norma-$\\infty$: $||A||_\\infty=\\max_{i=\\overline{1,n}} \\sum^n_{j=1} |a_{ij}|$\n",
    "- Norma spectrală: $||A||_2=\\sqrt{\\rho(A^tA)}$\n",
    "- Norma Frobenius: $||A||_F=(\\sum^n_{i,j=1} a^2_{ij})^{1/2}$"
   ]
  },
  {
   "cell_type": "markdown",
   "id": "b59bd8b1",
   "metadata": {
    "collapsed": false,
    "jupyter": {
     "outputs_hidden": false
    }
   },
   "source": [
    "### Exercițiu\n",
    "- Scrie o funcție care să calculeze norma-$\\infty$ a unui vector $x$ de dimensiune $n$.\n",
    "- Scrie o funcție care să calculeze norma-$\\infty$ a unei matrice pătratică $A$ de dimensiune $n$."
   ]
  },
  {
   "cell_type": "code",
   "execution_count": null,
   "id": "5388584d",
   "metadata": {
    "ExecuteTime": {
     "end_time": "2024-04-14T18:59:07.321918Z",
     "start_time": "2024-04-14T18:59:07.308332Z"
    },
    "collapsed": false,
    "jupyter": {
     "outputs_hidden": false
    }
   },
   "outputs": [],
   "source": [
    "# TODO: norma vectoriala\n",
    "def norm_inf(matrix):\n",
    "    pass\n",
    "\n",
    "# TODO: norma matriceala\n",
    "def m_norm_inf(matrix):\n",
    "    pass\n"
   ]
  },
  {
   "cell_type": "markdown",
   "id": "798517e6",
   "metadata": {
    "collapsed": false,
    "jupyter": {
     "outputs_hidden": false
    }
   },
   "source": [
    "## Metoda aproximațiilor succesive\n",
    "Metodele implementate la laboratorul precedent pot fi extinse pentru sistemele de ecuații neliniare. Așa cum am văzut data trecută, avem nevoie de o $\\alpha$-contracție $g$ pentru a ne asigura convergența. De data asta funcția $g$ va fi definită pe un spațiu $n$-dimensional $D\\in\\mathbb{R}^n$, unde $n$ este numărul de ecuații/variabile din sistemul nostru.\n",
    "\n",
    "Avem sistemul cu două ecuații ($n=2$) astfel încât\n",
    "$$4x_1 + x_2 - 4 = 0$$\n",
    "$$\\sin{(x_1+x_2)} + 2x_2 =0$$\n",
    "atunci soluția sistemului va fi dată de vectorul $x=(x_1,x_2)$.\n",
    "\n",
    "#### Cum aducem sistemul sub forma $g(x)=x$?\n",
    "\n",
    "Separăm $x_1$ și $x_2$ în fiecare ecuație și astfel se obține:\n",
    "$$x_1=1 - x_2/4$$\n",
    "$$x_2=-\\sin{(x_1+x_2)}/2$$\n",
    "atunci\n",
    "$$g(x_1,x_2)=(1-x_2/4, -\\sin{(x_1+x_2)}/2)=(x_1,x_2)$$\n",
    "**Observație**: $g$ ia ca input un vector de lungime $n=2$ și returnează tot un vector de lungime $n=2$\n",
    "\n",
    "#### Cum arătăm că $g$ este o $\\alpha$-contracție?\n",
    "Similar ca în laboratorul trecut calculăm $g'$. Însă de data asta $g'$ va fi o matrice (matricea Jacobi). Trebuie să arătăm că există $\\alpha\\in[0,1)$ astfel încât\n",
    "$$||g'(x_1,x_2)||_\\infty \\leq \\alpha, \\forall x \\in D$$\n",
    "unde $||\\cdot||_\\infty$ este norma matriceală și o calculăm pe intervalul în care aplicăm algoritmul.\n"
   ]
  },
  {
   "cell_type": "markdown",
   "id": "2d38ea82",
   "metadata": {
    "collapsed": false,
    "jupyter": {
     "outputs_hidden": false
    }
   },
   "source": [
    "### Exercițiu\n",
    "Folosind `diff` din pachetul de calcul simbolic `SymPy` scrie o funcție care să returneze Jacobianul unei funcții $g$ sub formă de funcție anonimă cu două argumente ($x_1,x_2$). Testează funcția pe exemplul de mai sus."
   ]
  },
  {
   "cell_type": "code",
   "execution_count": null,
   "id": "8b1e1170-7261-408f-987e-25a5096b7ad6",
   "metadata": {
    "ExecuteTime": {
     "end_time": "2024-04-14T20:01:05.343516Z",
     "start_time": "2024-04-14T20:01:05.318950Z"
    }
   },
   "outputs": [],
   "source": [
    "from sympy import diff, symbols, lambdify\n",
    "\n",
    "def jacobian(g):\n",
    "    raise NotImplementedError('Funcție neimplementată complet')\n",
    "    x1, x2 = symbols('x1 x2')\n",
    "    f11 = lambdify((x1, x2), diff(g[0], x1))\n",
    "    f12 = None # continuați voi\n",
    "    f21 = None\n",
    "    f22 = None\n",
    "    return lambda x: [[f11(x[0], x[1]), f12(x[0], x[1])], [f21(x[0], x[1]), f22(x[0], x[1])]]\n",
    "\n",
    "\n",
    "g_str = [\"1 - x2/4\", \"-sin(x1+x2)/2\"]\n",
    "j = jacobian(g_str)\n",
    "j([0,0])"
   ]
  },
  {
   "cell_type": "markdown",
   "id": "2341f01f",
   "metadata": {
    "collapsed": false,
    "jupyter": {
     "outputs_hidden": false
    }
   },
   "source": [
    "Verifică dacă $g$ este o $\\alpha$-contracție. Află norma-$\\infty$ matriceală a lui $g$ în punctul $x_0=[\\pi/4, \\pi/4]$."
   ]
  },
  {
   "cell_type": "code",
   "execution_count": null,
   "id": "128dad37",
   "metadata": {
    "ExecuteTime": {
     "end_time": "2024-04-14T20:01:08.452929Z",
     "start_time": "2024-04-14T20:01:08.441370Z"
    },
    "collapsed": false,
    "jupyter": {
     "outputs_hidden": false
    }
   },
   "outputs": [],
   "source": [
    "import numpy as np\n",
    "g = [\"1 - x2/4\", \"-sin(x1+x2)/2\"]\n",
    "x0 = [np.pi/4, np.pi/4]\n",
    "print(\"Norma matriceală în x0: \", None)\n",
    "print(\"Este g o alpha-contracție?\", None)"
   ]
  },
  {
   "cell_type": "markdown",
   "id": "01215588",
   "metadata": {
    "collapsed": false,
    "jupyter": {
     "outputs_hidden": false
    }
   },
   "source": [
    "Folosind metoda aproximațiilor succesive, estimează soluția sistemului de mai sus cu o toleranță de $10^{-5}$ și un număr maxim de 100 de iterații. Alege $x_0$ ca în exemplul de mai sus."
   ]
  },
  {
   "cell_type": "code",
   "execution_count": null,
   "id": "2fd0bda2",
   "metadata": {
    "ExecuteTime": {
     "end_time": "2024-04-14T19:06:54.610086Z",
     "start_time": "2024-04-14T19:06:54.593054Z"
    },
    "collapsed": false,
    "jupyter": {
     "outputs_hidden": false
    }
   },
   "outputs": [],
   "source": [
    "tol = 1e-5\n",
    "max_iter = 100\n",
    "g_str = [\"1 - x2/4\", \"-sin(x1+x2)/2\"]\n",
    "x1, x2 = symbols('x1 x2')\n",
    "g = lambda x: (lambdify((x1, x2), g_str[0])(x[0], x[1]), lambdify((x1, x2), g_str[1])(x[0], x[1]))\n",
    "\n",
    "\n",
    "def succesive_approximations(g, x0, tol, max_iter):\n",
    "    x = x0\n",
    "    raise NotImplementedError('Funcție neimplementată complet')\n",
    "    for i in range(max_iter):\n",
    "        x_new = None # completați aici\n",
    "        if norm_inf([x_new[i] - x[i] for i in range(len(x))]) < tol:\n",
    "            # și aici\n",
    "            print(\"Numărul de iterații: \", i)\n",
    "        x = x_new\n",
    "    print(\"Numărul maxim de iterații a fost atins\")\n",
    "    return x\n",
    "\n",
    "x = succesive_approximations(g, x0, tol, max_iter)\n",
    "print(\"Soluția sistemului este: \", x)"
   ]
  },
  {
   "cell_type": "markdown",
   "id": "32e39fe2",
   "metadata": {
    "collapsed": false,
    "jupyter": {
     "outputs_hidden": false
    }
   },
   "source": [
    "\n",
    "## Metoda tangentei (Newton - Raphson)\n",
    "Relația de recurență a metodei tangentei este dată de:\n",
    "$$x^{(k+1)} = x^{(k)} - [f'(x^{(k)})]^{-1}f(x^{(k)})$$\n",
    "Vom implementa această metodă pentru sistemul de ecuații neliniare de mai sus. De data asta, $f$ va fi definită pe un spațiu $n$-dimensional $D\\in\\mathbb{R}^n$, unde $n$ este numărul de ecuații/variabile din sistemul nostru și dorim să găsim soluția $x=(x_1,x_2)$ pentru $f(x)=(0,0)$."
   ]
  },
  {
   "cell_type": "code",
   "execution_count": null,
   "id": "51ba6a4d",
   "metadata": {
    "ExecuteTime": {
     "end_time": "2024-04-14T20:10:20.080780Z",
     "start_time": "2024-04-14T20:10:20.063035Z"
    },
    "collapsed": false,
    "jupyter": {
     "outputs_hidden": false
    }
   },
   "outputs": [],
   "source": [
    "f_str = [\"4*x1 + x2 - 4\", \"sin(x1+x2) + 2*x2\"]\n",
    "x1, x2 = symbols('x1 x2')\n",
    "f = lambda x: (lambdify((x1, x2), f_str[0])(x[0], x[1]), lambdify((x1, x2), f_str[1])(x[0], x[1]))\n",
    "j = jacobian(f_str)\n",
    "\n",
    "def newton_raphson(f, x0, tol, max_iter):\n",
    "    x = x0.copy()\n",
    "    output = {}\n",
    "    for i in range(max_iter):\n",
    "        x_new = x - np.dot(np.linalg.inv(j(x0)), np.array(f(x))) # np.dot se folosește pentru a înmulți matrice\n",
    "        if norm_inf([x_new[i] - x[i] for i in range(len(x))]) < tol:\n",
    "            output['x'] = x_new\n",
    "            output['iter'] = i\n",
    "            return output\n",
    "        x = x_new\n",
    "    print(\"Numărul maxim de iterații a fost atins\")\n",
    "    output['x'] = x\n",
    "    output['iter'] = max_iter\n",
    "    return output\n",
    "\n",
    "tol = 1e-5\n",
    "max_iter = 100\n",
    "x0 = [np.pi/4, np.pi/4]\n",
    "output = newton_raphson(f, x0, tol, max_iter)\n",
    "print(\"Soluția sistemului este: \", output['x'])\n",
    "print(\"Numărul de iterații: \", output['iter'])"
   ]
  },
  {
   "cell_type": "markdown",
   "id": "ff6bec80",
   "metadata": {
    "collapsed": false,
    "jupyter": {
     "outputs_hidden": false
    }
   },
   "source": [
    "### Exercițiu\n",
    "Crește treptat toleranța de la $0.1$ la $10^{-10}$ și observă câte iterații sunt necesare pentru fiecare estimare. Plotează graficul numărului de iterații în funcție de toleranță. Indicație: pentru o mai bună vizualizare, folosește o scală logaritmică pentru toleranță (axa Ox)."
   ]
  },
  {
   "cell_type": "code",
   "execution_count": null,
   "id": "50c445c6",
   "metadata": {
    "ExecuteTime": {
     "end_time": "2024-04-14T20:13:24.004033Z",
     "start_time": "2024-04-14T20:13:23.077427Z"
    },
    "collapsed": false,
    "jupyter": {
     "outputs_hidden": false
    }
   },
   "outputs": [],
   "source": [
    "import matplotlib.pyplot as plt\n",
    "\n",
    "tol = 0.1\n",
    "max_iter = 100\n",
    "x0 = [np.pi/4, np.pi/4]\n",
    "iterations = []\n",
    "tolerances = []\n",
    "\n",
    "# calculați numărul de iterații pentru fiecare toleranță\n",
    "# completați aici\n"
   ]
  }
 ],
 "metadata": {
  "kernelspec": {
   "display_name": "Python 3 (ipykernel)",
   "language": "python",
   "name": "python3"
  },
  "language_info": {
   "codemirror_mode": {
    "name": "ipython",
    "version": 3
   },
   "file_extension": ".py",
   "mimetype": "text/x-python",
   "name": "python",
   "nbconvert_exporter": "python",
   "pygments_lexer": "ipython3",
   "version": "3.11.5"
  }
 },
 "nbformat": 4,
 "nbformat_minor": 5
}
