{
 "cells": [
  {
   "cell_type": "markdown",
   "metadata": {},
   "source": [
    "# Laborator Calcul Numeric - Tema 1"
   ]
  },
  {
   "cell_type": "markdown",
   "metadata": {},
   "source": [
    "### Secțiunea I - Funcții (6p)"
   ]
  },
  {
   "cell_type": "markdown",
   "metadata": {},
   "source": [
    "#### I.1. Numere perfecte și prime\n",
    "\n",
    "Obiectiv: Scrieți un program care afișează numerele de la 1 la 100. Dar numerele care sunt pătrate perfecte, le vom eticheta ca \"perfecte\", iar numerele prime, le vom eticheta ca \"prime\". Urmați pașii următori:"
   ]
  },
  {
   "cell_type": "markdown",
   "metadata": {},
   "source": [
    "a) Aruncați o privire asupra următoarei funcții care verifică dacă un număr este prim sau nu. Modificați numărul și rulați încă o dată funcția."
   ]
  },
  {
   "cell_type": "code",
   "execution_count": null,
   "metadata": {},
   "outputs": [],
   "source": [
    "def is_prime(number):\n",
    "    \"\"\"Check if the given number is a prime number.\"\"\"\n",
    "    if number < 2:\n",
    "        return False  # Pentru ca 1 nu este numar prim\n",
    "\n",
    "    for i in range(2, int(number**0.5) + 1):\n",
    "        if number % i == 0:\n",
    "            return False  # Numarul se divide cu i>2, deci nu e numar prim\n",
    "\n",
    "    return True  # Numarul este prim\n",
    "\n",
    "# Examplu:\n",
    "num_to_check = 17\n",
    "if is_prime(num_to_check):\n",
    "    print(f\"{num_to_check} este prim.\")\n",
    "else:\n",
    "    print(f\"{num_to_check} nu este prim.\")"
   ]
  },
  {
   "cell_type": "markdown",
   "metadata": {},
   "source": [
    "b) Folosiți ```is_prime``` să verificați dacă 32, 33 și 37 sunt numere prime."
   ]
  },
  {
   "cell_type": "code",
   "execution_count": null,
   "metadata": {},
   "outputs": [],
   "source": [
    "# Soluția ta:\n",
    "\n",
    "numbers = [32, 33, 37]\n",
    "\n",
    "# continuă ...\n"
   ]
  },
  {
   "cell_type": "markdown",
   "metadata": {},
   "source": [
    "c) Scrieți o funcție similară ```is_perfect_square``` să verificați dacă un număr este pătrat perfect sau nu."
   ]
  },
  {
   "cell_type": "code",
   "execution_count": null,
   "metadata": {},
   "outputs": [],
   "source": [
    "def is_perfect_square(number):\n",
    "    \"\"\"Check if the given number is a perfect square.\n",
    "    \n",
    "        args:\n",
    "        \n",
    "        number - the input number\n",
    "        \n",
    "    \"\"\"  # este o practică bună să adăugăm un comentariu sub funcție care să descrie scopul și argumentele funcției\n",
    "         # vezi https://peps.python.org/pep-0257/ pentru mai multe detalii\n",
    "    \n",
    "    raise NotImplementedError(\"Funcția nu a fost încă implementată\") # trebuie să implementezi tu funcția (șterge această linie)\n",
    "\n",
    "# Example usage:\n",
    "num_to_check = 16\n",
    "if is_perfect_square(num_to_check):\n",
    "    print(f\"{num_to_check} este patrat perfect.\")\n",
    "else:\n",
    "    print(f\"{num_to_check} nu este patrat perfect.\")"
   ]
  },
  {
   "cell_type": "markdown",
   "metadata": {},
   "source": [
    "d) Scrieți funcția care afișează numerele de la 1 la 100 și le etichetează corespunzător. Veți utiliza funcțiile anterioare pentru a verifica dacă numerele sunt pătrate perfecte sau prime. Afișați toate numerele, chiar dacă unele dintre ele nu au o etichetă. Funcția ar trebui să returneze un șir cu toate rezultatele sub formă de string-uri.\n",
    "\n",
    "Funcția ar trebui să afișeze ceva similar cu:\n",
    "\n",
    "1  <br>\n",
    "2 - prim <br>\n",
    "3 - prim <br>\n",
    "4 - perfect <br>\n",
    "5 <br>\n",
    "..."
   ]
  },
  {
   "cell_type": "code",
   "execution_count": null,
   "metadata": {},
   "outputs": [],
   "source": [
    "def write_numbers():\n",
    "    result = []\n",
    "    for i in range(1, 101):\n",
    "        # continuă tu ...\n",
    "        # folosește result.append() pentru a adăuga string-urile în lista cu rezultate\n",
    "    return result\n",
    "    \n",
    "write_numbers()"
   ]
  },
  {
   "cell_type": "markdown",
   "metadata": {},
   "source": [
    "e) Modificați funcția astfel încât ultimul număr afișat, adică 100, să fie un argument de tip keyword (kwarg) al funcției (să zicem N). Utilizați din nou funcția pentru a afișa aceeași listă de la 1 la 20."
   ]
  },
  {
   "cell_type": "code",
   "execution_count": null,
   "metadata": {},
   "outputs": [],
   "source": [
    "write_numbers(N=20) # ar trebui să poți rula această linie dacă ai implementat funcția corect"
   ]
  },
  {
   "cell_type": "markdown",
   "metadata": {},
   "source": [
    "e) Puneți secvența rezultată într-o listă și înlocuiți eticheta \"perfect\" cu \"pătrat perfect\". Afișați noua listă.\n",
    "Puteți verifica documentația funcției replace pentru string-uri: https://www.w3schools.com/python/ref_string_replace.asp"
   ]
  },
  {
   "cell_type": "code",
   "execution_count": null,
   "metadata": {},
   "outputs": [],
   "source": [
    "new_list = []\n",
    "for x in result:\n",
    "    # continuă ..."
   ]
  },
  {
   "cell_type": "markdown",
   "metadata": {},
   "source": [
    "#### I.2\\. Funcția swap\n",
    "\n",
    "Scrie o funcție care interschimbă două variabile (nu contează tipul). Încearcă să faci interschimbarea și cu și fără folosirea unei variabile intermediare."
   ]
  },
  {
   "cell_type": "code",
   "execution_count": null,
   "metadata": {},
   "outputs": [],
   "source": [
    "def swap(x, y):\n",
    "    raise NotImplementedError(\"Funcția nu a fost încă implementată\") # trebuie să scrii tu logica funcției, șterge sau comentează linia după implementare\n",
    "    \n",
    "x = 10\n",
    "y = 120\n",
    "print(x, y)\n",
    "\n",
    "swap(x, y)\n",
    "print(x, y)  # ar trebui să afișeze 120 10"
   ]
  },
  {
   "cell_type": "markdown",
   "metadata": {},
   "source": [
    "#### I.3. Calcul de distanțe\n",
    "\n",
    "Scrieți o funcție care calculează și returnează distanța euclidiană între două puncte u și v, unde u și v sunt ambele un tuplu dublu (x, y). De exemplu, dacă u=(3,0) și v=(0,4), funcția ar trebui să returneze 5.\n",
    "\n",
    "Puteți utiliza funcția ```math.sqrt``` dacă importați modulul math. Încercați să rezolvați exercițiul și fără a utiliza acest modul. Opțional, încercați implementarea altor tipuri de distanțe."
   ]
  },
  {
   "cell_type": "code",
   "execution_count": null,
   "metadata": {
    "scrolled": true
   },
   "outputs": [],
   "source": [
    "import math \n",
    "math.sqrt(4)"
   ]
  },
  {
   "cell_type": "code",
   "execution_count": null,
   "metadata": {},
   "outputs": [],
   "source": [
    "def compute_distance(distance_type='Euclidean'):\n",
    "    raise NotImplementedError(\"Funcția nu a fost încă implementată\")"
   ]
  },
  {
   "cell_type": "code",
   "execution_count": null,
   "metadata": {
    "scrolled": true
   },
   "outputs": [],
   "source": [
    "u = (3, 0)\n",
    "v = (0, 4)\n",
    "compute_distance(u, v) # ar trebui să obțineți 5"
   ]
  },
  {
   "cell_type": "markdown",
   "metadata": {},
   "source": [
    "### Section II - Counteri (4p)"
   ]
  },
  {
   "cell_type": "markdown",
   "metadata": {},
   "source": [
    "#### II. 1\\. Să numărăm caractere\n",
    "\n",
    "Scrieți un program care să calculeze de câte ori apare fiecare caracter într-un șir dat ```s```, fără a ține cont de diferențele de majusculă/minusculă. Indiciu: Puteți folosi metoda lower() pentru a converti literele majuscule la minuscule."
   ]
  },
  {
   "cell_type": "code",
   "execution_count": null,
   "metadata": {},
   "outputs": [],
   "source": [
    "s = \"Often, programmers fall in love with Python because of the increased productivity it provides. Since there is no compilation step, the edit-test-debug cycle is incredibly fast. Debugging Python programs is easy: a bug or bad input will never cause a segmentation fault. Instead, when the interpreter discovers an error, it raises an exception. When the program doesn't catch the exception, the interpreter prints a stack trace. A source level debugger allows inspection of local and global variables, evaluation of arbitrary expressions, setting breakpoints, stepping through the code a line at a time, and so on. The debugger is written in Python itself, testifying to Python's introspective power. On the other hand, often the quickest way to debug a program is to add a few print statements to the source: the fast edit-test-debug cycle makes this simple approach very effective.\""
   ]
  },
  {
   "cell_type": "markdown",
   "metadata": {},
   "source": [
    "#### II.2\\. Numere singuratice\n",
    "\n",
    "Scrie o funcție care determină numerele care apar doar o singură dată în lista dată."
   ]
  },
  {
   "cell_type": "code",
   "execution_count": null,
   "metadata": {},
   "outputs": [],
   "source": [
    "l = [36, 45, 58, 3, 74, 96, 64, 45, 31, 10, 24, 19, 33, 86, 99, 18, 63, 70, 85,\n",
    " 85, 63, 47, 56, 42, 70, 84, 88, 55, 20, 54, 8, 56, 51, 79, 81, 57, 37, 91,\n",
    " 1, 84, 84, 36, 66, 9, 89, 50, 42, 91, 50, 95, 90, 98, 39, 16, 82, 31, 92, 41,\n",
    " 45, 30, 66, 70, 34, 85, 94, 5, 3, 36, 72, 91, 84, 34, 87, 75, 53, 51, 20, 89, 51, 20]\n",
    "\n",
    "unique_numbers = []\n",
    "\n",
    "# continuă\n",
    "\n",
    "print(unique_numbers)"
   ]
  },
  {
   "cell_type": "code",
   "execution_count": 1,
   "metadata": {},
   "outputs": [
    {
     "name": "stdout",
     "output_type": "stream",
     "text": [
      "ar trebui să obținem ca rezultat această listă: [58, 74, 96, 64, 10, 24, 19, 33, 86, 99, 18, 47, 88, 55, 54, 8, 79, 81, 57, 37, 1, 9, 95, 90, 98, 39, 16, 82, 92, 41, 30, 94, 5, 72, 87, 75, 53]\n"
     ]
    }
   ],
   "source": [
    "expected_result = [58, 74, 96, 64, 10, 24, 19, 33, 86, 99, 18, 47, 88, 55, 54, 8, 79, 81, 57, 37, 1, 9, 95, 90, 98, 39, 16, 82, 92, 41, 30, 94, 5, 72, 87, 75, 53]\n",
    "print('ar trebui să obținem ca rezultat această listă:', expected_result)"
   ]
  },
  {
   "cell_type": "code",
   "execution_count": null,
   "metadata": {},
   "outputs": [],
   "source": []
  }
 ],
 "metadata": {
  "kernelspec": {
   "display_name": "Python 3 (ipykernel)",
   "language": "python",
   "name": "python3"
  },
  "language_info": {
   "codemirror_mode": {
    "name": "ipython",
    "version": 3
   },
   "file_extension": ".py",
   "mimetype": "text/x-python",
   "name": "python",
   "nbconvert_exporter": "python",
   "pygments_lexer": "ipython3",
   "version": "3.11.5"
  }
 },
 "nbformat": 4,
 "nbformat_minor": 2
}
