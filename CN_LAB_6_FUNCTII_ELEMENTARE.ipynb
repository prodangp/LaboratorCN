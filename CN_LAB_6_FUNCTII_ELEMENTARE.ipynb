{
 "cells": [
  {
   "cell_type": "markdown",
   "id": "91d86abf-d8bf-4ec0-a66c-a16a033ffa75",
   "metadata": {},
   "source": [
    "# Calcul Numeric - Laborator 6 - Erori de calcul. Calculul valorilor funcțiilor elementare."
   ]
  },
  {
   "cell_type": "markdown",
   "id": "abe5608e-9a72-423d-83b6-bd381f4803d7",
   "metadata": {},
   "source": [
    "## Obiectiv\n",
    "În acest laborator, vom analiza reprezentările numerice în Python, calculul de erori și vom implementa și compara diferite metode de evaluare a funcțiilor în Python."
   ]
  },
  {
   "cell_type": "markdown",
   "id": "2e2d8503-d743-4482-aa36-65769e38e0bc",
   "metadata": {},
   "source": [
    "## Reprezentări numerice\n",
    "\n",
    "### Numerele întregi\n",
    "\n",
    "Numerele întregi sunt reprezentate prin șiruri de N biți. Python3 permite să stocați numere întregi cu o precizie practic nelimitată, singura limitare provenind de la spațiul (contiguu) disponibil în memorie. În Python2, N depinde de arhitectura PC-ului, N=64 în computerele moderne."
   ]
  },
  {
   "cell_type": "code",
   "execution_count": null,
   "id": "200486f6-28a7-4db0-bb6e-0572f5a03387",
   "metadata": {
    "scrolled": true
   },
   "outputs": [],
   "source": [
    "# verificați cel mai mare nr întreg posibil\n",
    "import sys\n",
    "print(sys.maxsize)\n",
    "\n",
    "# verificați, de asemenea, că corespunde unui întreg de 64 de biți\n",
    "print(\"Sistemul dvs. este unul de 64 de biți?\", 2**63 - 1 == sys.maxsize)\n",
    "\n",
    "# Python 3 nu are o limită pentru întregi\n",
    "maxint = sys.maxsize+1\n",
    "print(maxint)"
   ]
  },
  {
   "cell_type": "markdown",
   "id": "ff63ae47-38be-43a5-83d0-7fb538d1a9ae",
   "metadata": {},
   "source": [
    "Reprezentarea binară se poate obține cu ajutorul lui `bin`:"
   ]
  },
  {
   "cell_type": "code",
   "execution_count": null,
   "id": "eb562147-9e55-4641-bd22-adf4700bc371",
   "metadata": {},
   "outputs": [],
   "source": [
    "# un număr întreg în reprezentarea decimală\n",
    "a = 23\n",
    "\n",
    "# transformarea în baza 2\n",
    "a_bin = bin(a)\n",
    "print('Reprezentarea binară a lui', a, 'este:', a_bin)"
   ]
  },
  {
   "cell_type": "markdown",
   "id": "b8349b67-b693-4679-a76d-20a7cd15cdaa",
   "metadata": {},
   "source": [
    "### Operații pe biți (bitwise)"
   ]
  },
  {
   "cell_type": "markdown",
   "id": "87541383-5bc0-4283-81a2-d3a64e52e594",
   "metadata": {},
   "source": [
    "#### Operații logice"
   ]
  },
  {
   "cell_type": "code",
   "execution_count": null,
   "id": "022d70a3-44d1-4f2e-ae60-2df9dbb04da1",
   "metadata": {},
   "outputs": [],
   "source": [
    "a = 60           # 60 = 0011 1100 \n",
    "b = 13           # 13 = 0000 1101 \n",
    "\n",
    "c = a & b        # 12 = 0000 1100\n",
    "print(\"Bitwise AND \", c)\n",
    "\n",
    "c = a | b        # 61 = 0011 1101 \n",
    "print(\"Bitwise OR  \", c)\n",
    "\n",
    "c = a ^ b        # 49 = 0011 0001\n",
    "print(\"Bitwise XOR \", c)\n",
    "\n",
    "c = ~a           # -61 = 1100 0011\n",
    "\n",
    "print(\"Bitwise NOT \", c)"
   ]
  },
  {
   "cell_type": "markdown",
   "id": "d4e90334-847c-422a-9b84-7737925e0e59",
   "metadata": {},
   "source": [
    "#### Operații de tip shift"
   ]
  },
  {
   "cell_type": "code",
   "execution_count": null,
   "id": "487dbc5c-1c54-4fe0-a443-5c16381ddb31",
   "metadata": {},
   "outputs": [],
   "source": [
    "print(\"Initial avem:\", a, bin(a))\n",
    "\n",
    "c = a << 2       # 240 = 1111 0000\n",
    "print(\"Deplasarea biților spre stânga cu 2 poziții: \", c, bin(c))\n",
    "\n",
    "c = a >> 2       # 15 = 0000 1111\n",
    "print(\"Deplasarea biților spre dreapta cu 2 poziții: \", c, bin(c))"
   ]
  },
  {
   "cell_type": "markdown",
   "id": "98871652-2f14-48d5-bcd9-d1205dd43894",
   "metadata": {},
   "source": [
    "### Numerele float"
   ]
  },
  {
   "cell_type": "markdown",
   "id": "b1d15e5f-5cd4-4876-a2a8-3d4b364a4d21",
   "metadata": {},
   "source": [
    "\n",
    "- Numerele non-integer nu pot fi reprezentate cu precizie infinită pe un computer. Numerele de precizie simplă (cunoscute și sub numele de **float**) și de precizie dublă folosesc respectiv **32** și **64** de biți.\n",
    "\n",
    "- Toate numerele zecimale în Python sunt de precizie dublă (64 de biți).\n",
    "- A fost dezvoltat un standard de către IEEE astfel încât **precizia relativă să fie aceeași în întreaga gamă de valori valide**. Cei 32 sau 64 de biți sunt împărțiți în 3 părți care caracterizează în mod unic un număr float:\n",
    "\n",
    "$$x_{float} = (-1)^s \\times 1.f \\times 2^{e-bias}$$\n",
    "\n",
    "unde *s* este **semnul**, *f* **partea fracționară** și *e* **exponentul**. Pentru a obține numere mai mici decât 1, se adaugă un termen constant **bias** la exponent.\n",
    "    \n",
    "Partea fracționară (sau **mantissa**) este definită ca:\n",
    "\n",
    "$$1.f=1+m_{n-1}2^{-1}+m_{n-2}2^{-2}+..+m_{0}2^{-n}$$\n",
    "\n",
    "unde $n$ este numărul de biți dedicați lui *f* și $m_i$ sunt coeficienții binari.\n",
    "\n",
    "- Numerele care depășesc valoarea maximă permisă sunt *overflows* și calculele care implică aceste numere furnizează răspunsuri incorecte. Numerele mai mici în valoare absolută decât valoarea minimă permisă sunt *underflows* și sunt simplu setate la zero, de asemenea, în acest caz rezultatele sunt incorecte.\n",
    "\n",
    "- Pentru numerele zecimale de precizie simplă, $0\\le e \\le 255$ și $bias=127$. Biții sunt aranjați după cum urmează:\n",
    "\n",
    "|   | *s* | *e* | *f* |\n",
    "|---|---|---|---|\n",
    "| Poziția bitului | 31 | 30-23 | 22-0 |\n",
    "\n",
    "\n",
    "Un exemplu:\n",
    "\n",
    "![](http://www.dspguide.com/graphics/F_4_2.gif)\n"
   ]
  },
  {
   "cell_type": "markdown",
   "id": "8b51fdd0-0d67-427c-bb86-7f09befd52c0",
   "metadata": {},
   "source": [
    "Avem trei valori speciale, dar acestea nu sunt numere care pot fi utilizate în sens matematic.\r\n",
    "\r\n",
    "|   |  condiții | valoare |\r\n",
    "|---|---|---|\r\n",
    "|  $+\\infty$ | s=0, e=255, f=0 | +INF  |\r\n",
    "|  $-\\infty$ | s=1, e=255, f=0 | -INF  |\r\n",
    "|  nu este un număr | e=255, f>0  | NaN  |\r\n",
    "\r\n",
    "Cea mai mare valoare este obținută pentru $f\\sim 2$ și $e=254$, adică $2\\times2^{127}\\sim 3.4\\times10^{38}$.\r\n",
    "\r\n",
    "Valoarea cea mai apropiată de zero este obținută în schimb pentru $f=2^{-23}$ și $e=0$, adică $2^{-149}\\sim 1.4\\times10^{-45}$.\r\n"
   ]
  },
  {
   "cell_type": "markdown",
   "id": "abab4aa6-b907-4e8b-a332-60c061a0a648",
   "metadata": {},
   "source": [
    "### Numere de tip double\n",
    "Pentru numerele zecimale de precizie dublă, $0\\le e \\le 2047$ și $bias=1023$. Biții sunt aranjați după cum urmează:\n",
    "\n",
    "|   | *s* | *e* | *f* |\n",
    "|---|---|---|---|\n",
    "| Poziția bitului | 63 | 62-52 | 51-0 |\n",
    "\n",
    "Valori speciale sunt, de asemenea, posibile.\n",
    "\n",
    "|   |  condiții | valoare |\n",
    "|---|---|---|\n",
    "|  $+\\infty$ | s=0, e=2047, f=0 | +INF  |\n",
    "|  $-\\infty$ | s=1, e=2047, f=0 | -INF  |\n",
    "|  nu este un număr | e=2047, f>0  | NaN  |\n",
    "\n",
    "Intervalul de valabilitate pentru numerele duble este $2.2^{-308} - 1.8^{308}$\n"
   ]
  },
  {
   "cell_type": "markdown",
   "id": "41ed952f-09bf-484d-b0c9-398967fd0eaf",
   "metadata": {},
   "source": [
    "\n",
    "Modulul `sys.float_info` în Python oferă informații despre reprezentarea zecimalei pe sistemul curent. Puteți obține aceste informații folosind următorul cod:"
   ]
  },
  {
   "cell_type": "code",
   "execution_count": null,
   "id": "99d1a0ff-46ec-4697-b10d-48cf37ba5914",
   "metadata": {
    "scrolled": true
   },
   "outputs": [],
   "source": [
    "import sys\n",
    "print(sys.float_info)"
   ]
  },
  {
   "cell_type": "markdown",
   "id": "2be11508-052e-4ef7-9351-3cd4222e874b",
   "metadata": {},
   "source": [
    "### Precizia și pericolele calculelor cu numere float și double\n",
    "Numerele zecimale pot avea doar un număr limitat de cifre zecimale semnificative, în funcție de câți biți sunt alocați pentru partea fracționară: 6-7 cifre zecimale pentru numerele de precizie simplă (float), 15-16 pentru cele de precizie dublă (double). În special, acest lucru înseamnă că calculele care implică numere cu mai multe cifre zecimale decât cele menționate nu furnizează rezultate corecte, pur și simplu pentru că reprezentarea lor binară nu permite stocarea lor cu suficientă precizie."
   ]
  },
  {
   "cell_type": "markdown",
   "id": "e4789eab-0e29-4658-a7b0-2e794ef76d8e",
   "metadata": {},
   "source": [
    "### Exercițiu\n",
    "Adaugă la valoarea inițială a unui float `x` numere din ce în ce mai mici `s` de ordinul 1e-8, 1e-9, etc. Vezi pentru ce valori `x` nu își mai va modifica cifra semnificativă astfel încât `x == x + s` să fie `True`."
   ]
  },
  {
   "cell_type": "code",
   "execution_count": null,
   "id": "8536c494-9b7d-498b-bee5-eb859e92fc81",
   "metadata": {},
   "outputs": [],
   "source": [
    "x = 12\n",
    "s = 1e-8\n",
    "x == x + s\n",
    "# micșorează s până când obții True, găsește s minim pentru care x == x + s returnează True\n",
    "\n",
    "\n"
   ]
  },
  {
   "cell_type": "markdown",
   "id": "70281060-f3a8-4c3a-b913-7764c60aef7e",
   "metadata": {},
   "source": [
    "## Erori de calcul\n",
    "Precizia numerelor float/double este una dintre cauzele principale ale erorilor de calcul în operațiile cu numere zecimale pe calculator. Deoarece numerele zecimale sunt reprezentate în format binar, unele numere zecimale cu o infinitate de cifre zecimale în baza zecimală nu pot fi reprezentate precis în formatul binar. Acest lucru duce la trunchierea sau rotunjirea cifrelor zecimale și poate provoca erori de precizie în calculele matematice. De exemplu, adunarea repetată a unor numere mici poate duce la pierderea cifrelor zecimale în rezultatul final, deoarece acestea nu pot fi reprezentate precis în formatul binar. Acest fenomen este cunoscut sub numele de **eroare de propagare a erorilor** și este o problemă comună în calculele cu numere zecimale pe calculator."
   ]
  },
  {
   "cell_type": "markdown",
   "id": "cd3d0ef7-1954-453f-bfbc-d467b29aa79e",
   "metadata": {},
   "source": [
    "### Eroarea absolută\n",
    "Eroarea absolută este diferența dintre valoarea exactă și valoarea aproximată obținută într-un calcul. Această măsură ne indică cât de mult se abate aproximarea noastră de valoarea reală. Eroarea absolută se poate calcula folosind formula:\n",
    "\n",
    "$$ \\text{Eroarea absolută} = | \\text{Valoarea exactă} - \\text{Valoarea aproximată} | $$\r\n",
    "### Eroarea relativă\n",
    " Eroarea relativă este eroarea absolută exprimată ca fracție sau raport din valoarea exactă. Această măsură ne indică cât de mare este eroarea în raport cu mărimea reală a valorii pe care o aproximăm. Eroarea relativă se poate calcula folosind formula:\n",
    " $$ \\text{Eroarea relativă} = \\frac{| \\text{Valoarea exactă} - \\text{Valoarea aproximată} |}{| \\text{Valoarea exactă} |}  $$\n"
   ]
  },
  {
   "cell_type": "markdown",
   "id": "3577bff7-742c-4620-9776-dabb965e8af0",
   "metadata": {},
   "source": [
    "### Exercițiu\n",
    "Fie valoarea aproximată pentru $\\pi$, `pi=3.14159`. Estimează eroarea absolută și cea relativă pentru această aproximare considerând că valoarea exactă este cea dată de `numpy` (vezi în celula următoare)."
   ]
  },
  {
   "cell_type": "code",
   "execution_count": null,
   "id": "a32c1140-d11c-4cc8-a55e-4afed6008ebe",
   "metadata": {},
   "outputs": [],
   "source": [
    "import numpy as np\n",
    "pi = 3.14159\n",
    "print(rf\"Valoarea aproximată =\", pi)\n",
    "print(rf\"Valoarea din NumPy =\", np.pi)\n",
    "\n",
    "# eroarea absolută\n",
    "print()\n",
    "\n",
    "# eroarea relativă\n",
    "print()"
   ]
  },
  {
   "cell_type": "markdown",
   "id": "02ea48cc-46cd-4845-94b8-af12c738a234",
   "metadata": {},
   "source": [
    "## Funcția polinomială\n",
    "\n",
    "Vom compara metodele clasice de calcul cu schema lui Horner și vom folosi funcția built-in `polyval`.\n",
    "\n",
    "### Metode de evaluare a polinomului:\n",
    "\n",
    "#### 1. Versiunea clasică de calcul:"
   ]
  },
  {
   "cell_type": "code",
   "execution_count": null,
   "id": "82546bbd-941e-40fa-bfa5-2a003e474188",
   "metadata": {},
   "outputs": [],
   "source": [
    "coeffs = [4, 3, 2, 1]\n",
    "x = 2\n",
    "y = coeffs[3] * x ** 3 + coeffs[2] * x ** 2 + coeffs[1] * x + coeffs[0]\n",
    "y"
   ]
  },
  {
   "cell_type": "code",
   "execution_count": null,
   "id": "5f530211-abe7-4590-bde4-e1bd45520f58",
   "metadata": {},
   "outputs": [],
   "source": [
    "def evaluate_polynomial_classic(coeffs, x):\n",
    "    result = 0\n",
    "    n = len(coeffs)\n",
    "    for i in range(n):\n",
    "        result += coeffs[i] * (x ** i)\n",
    "    return result"
   ]
  },
  {
   "cell_type": "code",
   "execution_count": null,
   "id": "0f726ee4-0294-44b4-a81d-b4fb7c69dd08",
   "metadata": {},
   "outputs": [],
   "source": [
    "evaluate_polynomial_classic(coeffs, x)"
   ]
  },
  {
   "cell_type": "markdown",
   "id": "7b636db7-f07c-4f9a-a328-6955f582a46a",
   "metadata": {},
   "source": [
    "#### 2. Schema Horner"
   ]
  },
  {
   "cell_type": "code",
   "execution_count": null,
   "id": "73a160f9-ad54-4321-8a19-890a6de35b82",
   "metadata": {},
   "outputs": [],
   "source": [
    "# versiunea cu schema lui Horner\n",
    "def evaluate_polynomial_horner(coeffs, x):\n",
    "    n = len(coeffs)\n",
    "    result = coeffs[n - 1]  \n",
    "    for i in list(range(0, n - 1))[::-1]:\n",
    "        raise NotImplementedError(\"Se pare că implementarea este incompletă. Finalizează tu!\")\n",
    "    return result\n",
    "\n",
    "evaluate_polynomial_horner(coeffs, x)"
   ]
  },
  {
   "cell_type": "markdown",
   "id": "4c57bd43-4e92-46dd-a88f-d60356fc0013",
   "metadata": {},
   "source": [
    "#### 3. Cu `polyval`\n",
    "\n",
    "### Exercițiu\n",
    "- Completează implementarea funcției din celula anterioară.\n",
    "- Implementează varianta cu `polyval` consultând documentația: https://numpy.org/doc/stable/reference/generated/numpy.polyval.html"
   ]
  },
  {
   "cell_type": "code",
   "execution_count": null,
   "id": "011e05f3-91ed-45a5-b10e-d0d343e58bfc",
   "metadata": {},
   "outputs": [],
   "source": [
    "# Implementare folosind funcții lambda și funcția polyval:\n",
    "from numpy import polyval"
   ]
  },
  {
   "cell_type": "code",
   "execution_count": null,
   "id": "13b88962-96bf-4aeb-a9ef-c17385bc42bb",
   "metadata": {},
   "outputs": [],
   "source": []
  },
  {
   "cell_type": "markdown",
   "id": "f0f09556-4357-4c26-827b-f52716669127",
   "metadata": {},
   "source": [
    "### Compararea timpilor de execuție\n",
    "Pentru a compara timpul de execuție al celor trei metode, vom măsura cât timp durează evaluarea polinomului pentru un anumit grad, folosind modulele `time` și `numpy` pentru a genera coeficienții și punctul în care se evaluează polinomul."
   ]
  },
  {
   "cell_type": "code",
   "execution_count": null,
   "id": "d3893363-e3a0-45a2-99d8-5f450e537d3c",
   "metadata": {},
   "outputs": [],
   "source": [
    "import numpy as np\n",
    "import time\n",
    "\n",
    "# Generare coeficienți random pentru un polinom de grad dat\n",
    "degree = 50\n",
    "coeffs = np.random.rand(degree+1)\n",
    "\n",
    "# Punctul în care se evaluează polinomul\n",
    "x_value = 2\n",
    "\n",
    "# Măsurarea timpului de execuție pentru fiecare metodă\n",
    "start_time = time.time()\n",
    "result_classic = evaluate_polynomial_classic(coeffs, x_value)\n",
    "classic_time = time.time() - start_time\n",
    "\n",
    "start_time = time.time()\n",
    "result_horner = evaluate_polynomial_horner(coeffs, x_value)\n",
    "horner_time = time.time() - start_time\n",
    "\n",
    "start_time = time.time()\n",
    "result_polyval = polyval(coeffs, x_value)\n",
    "polyval_time = time.time() - start_time\n",
    "\n",
    "print(\"Metoda clasică de calcul a durat:\", classic_time)\n",
    "print(\"Metoda cu schema lui Horner a durat:\", horner_time)\n",
    "print(\"Metoda cu polyval a durat:\", polyval_time)"
   ]
  },
  {
   "cell_type": "markdown",
   "id": "59e36bf1-6278-44ad-b75b-74d67763cd2d",
   "metadata": {},
   "source": [
    "## Funcția exponențială\n",
    "Pentru a calcula o estimare a funcției exponențiale, putem folosi seria Taylor pentru funcția exponențială:\r\n",
    "\r\n",
    "$$ e^x = \\sum_{n=0}^{\\infty} \\frac{x^n}{n!} $$\r\n",
    "\r\n",
    "Această serie poate fi folosită pentru a calcula o estimare a lui $e^x$, folosind un număr finit de termeni din serie. Cu cât numărul de termeni este mai mare, cu atât estimarea devine mai precisă.\r\n"
   ]
  },
  {
   "cell_type": "code",
   "execution_count": null,
   "id": "f8354f0c-c2d4-40db-bd19-ce8950b3ab3c",
   "metadata": {},
   "outputs": [],
   "source": [
    "def taylor_exp(x, n):\n",
    "    \"\"\"\n",
    "    Calculează estimarea exponențialei folosind seria Taylor.\n",
    "\n",
    "    :param x: Valoarea pentru care se calculează exponențiala.\n",
    "    :param n: Numărul de termeni din seria Taylor.\n",
    "    :return: Estimarea exponențialei.\n",
    "    \"\"\"\n",
    "    raise NotImplementedError(\"Implementează tu!\")"
   ]
  },
  {
   "cell_type": "markdown",
   "id": "d6c17e1b-e30d-4ba3-9949-510301134760",
   "metadata": {},
   "source": [
    "### Exercițiu\n",
    "- Implementează funcția `taylor_exp`. Te poți folosi de biblioteca `math` pentru a calcula factorialul (vezi documentația).\n",
    "- Calculează eroarea absolută și cea relativă pentru `n=10` și `x=3`\n",
    "- Determină `n` astfel încât valoarea aproximativă să coincidă până la a 12-a zecimală cu valoarea exactă dată de funcția built-in `exp` pentru `x=3`.\n",
    "- Reprezintă grafic folosind `matplotlib` eroarea absolută și cea relativă în funcție de `n` pentru `x=3`. Ce puteți observa?\n",
    "- Repetă experimentul de la punctul anterior pentru un `x` mult mai mare. Ce impact are valoarea lui `x` asupra erorii?"
   ]
  },
  {
   "cell_type": "code",
   "execution_count": null,
   "id": "0822ea1b-5314-417d-9ef0-ab98b177c343",
   "metadata": {},
   "outputs": [],
   "source": [
    "taylor_exp(1, 10)"
   ]
  },
  {
   "attachments": {},
   "cell_type": "markdown",
   "id": "d284a9a9-5c2d-48f9-b37f-81bbfb74d382",
   "metadata": {},
   "source": [
    "## Funcția putere\n",
    "Pentru aproximarea rădăcinii de ordin k a lui $\\alpha$, utilizăm algoritmul prezentat la curs:\n",
    "\n",
    "$$ x_{n+1} = \\frac{1}{k} \\left( (k - 1) \\cdot x_n + \\frac{\\alpha}{x_n^{(k - 1)}} \\right) $$\r\n"
   ]
  },
  {
   "cell_type": "code",
   "execution_count": null,
   "id": "25a8d65b-c81a-435d-aa05-80e177902b90",
   "metadata": {},
   "outputs": [],
   "source": [
    "def approx_root(alpha, k, x0, iterations):\n",
    "    \"\"\"\n",
    "    Aproximează rădăcina de ordin k a lui alpha folosind metoda specificată.\n",
    "\n",
    "    :param alpha: Valoarea pentru care se calculează rădăcina.\n",
    "    :param k: Ordinul rădăcinii.\n",
    "    :param x0: Valoarea inițială de pornire.\n",
    "    :param iterations: Numărul de iterații.\n",
    "    :return: Aproximarea rădăcinii.\n",
    "    \"\"\"\n",
    "    xn = x0\n",
    "    for _ in range(iterations):\n",
    "        raise NotImplementedError(\"Din păcate, ceva lipsește din implementare. Completează tu!\")\n",
    "    return xn\n",
    "\n",
    "\n",
    "alpha = 15625\n",
    "k = 3\n",
    "x0 = 5\n",
    "iterations = 5\n",
    "\n",
    "approximation = approx_root(alpha, k, x0, iterations)\n",
    "print(f\"Aproximarea rădăcinii de ordin {k} a lui {alpha} este: {approximation}\") # trebuie să obții 25\n"
   ]
  },
  {
   "cell_type": "markdown",
   "id": "3cc940d9-ca88-4123-8e3d-c7060525919a",
   "metadata": {},
   "source": [
    "### Exercițiu\n",
    "- Completează implementarea funcției de mai sus.\n",
    "- Execută celula din nou, dar folosind 5 iterații. Ce observi?\n",
    "- Pentru același număr de iterații, încercați diferite valori pentru `x0`. Comentează rezultatele. Opțional, folosește o reprezentare grafică dacă îți este util acest lucru.\n",
    "- Implementează o funcție care să nu aibă nevoie de numărul de iterații ca argument. Funcția va returna rădăcina atunci când eroarea relativă va fi mai mică decât un $\\epsilon$ definit de utilizator. "
   ]
  },
  {
   "cell_type": "code",
   "execution_count": null,
   "id": "8dc7bca2-0ee8-4935-b8cf-19fe0db4fa5b",
   "metadata": {},
   "outputs": [],
   "source": [
    "def approx_root_2(alpha, k, x0, eps=0.05):\n",
    "    \"\"\"\n",
    "    Aproximează rădăcina de ordin k a lui alpha folosind metoda specificată.\n",
    "\n",
    "    :param alpha: Valoarea pentru care se calculează rădăcina.\n",
    "    :param k: Ordinul rădăcinii.\n",
    "    :param x0: Valoarea inițială de pornire.\n",
    "    :param eps: Eroarea relativă maximă admisă, necesară pentru a returna rezultatul final.\n",
    "    :return: Aproximarea rădăcinii.\n",
    "    \"\"\"\n",
    "    xn = x0\n",
    "    raise NotImplementedError(\"Funcția nu este implementată!\")"
   ]
  },
  {
   "cell_type": "code",
   "execution_count": null,
   "id": "328d7e42-fd17-4cf6-b78d-2c0d0cd2e0de",
   "metadata": {},
   "outputs": [],
   "source": []
  },
  {
   "cell_type": "markdown",
   "id": "e82a1ae2-f4bc-47f6-8a0e-101b6dcd859b",
   "metadata": {},
   "source": [
    "## Alte funcții\n",
    "Alege alte funcții discutate la curs și implementează calculul acestora. Pentru portofoliu sunt necesare minim două funcții trigonometrice (sin/cos).\n",
    "Compară timpii de execuție cu metodele built-in din bibliotecile `math` și `numpy`."
   ]
  },
  {
   "cell_type": "code",
   "execution_count": null,
   "id": "65eb3694-f208-4839-a821-61db2a52917a",
   "metadata": {},
   "outputs": [],
   "source": []
  },
  {
   "cell_type": "code",
   "execution_count": null,
   "id": "c5003ae7-2382-4a30-aec6-6f387a7c4297",
   "metadata": {},
   "outputs": [],
   "source": []
  },
  {
   "cell_type": "code",
   "execution_count": null,
   "id": "9debb6fe-ba34-4627-8692-76676def2be8",
   "metadata": {},
   "outputs": [],
   "source": []
  },
  {
   "cell_type": "code",
   "execution_count": null,
   "id": "b99a62f1-ee39-4bd0-86b3-af1731ff6caf",
   "metadata": {},
   "outputs": [],
   "source": []
  },
  {
   "cell_type": "code",
   "execution_count": null,
   "id": "f3222ee4-e61d-4d66-873f-26b083168c7e",
   "metadata": {},
   "outputs": [],
   "source": []
  }
 ],
 "metadata": {
  "kernelspec": {
   "display_name": "Python 3 (ipykernel)",
   "language": "python",
   "name": "python3"
  },
  "language_info": {
   "codemirror_mode": {
    "name": "ipython",
    "version": 3
   },
   "file_extension": ".py",
   "mimetype": "text/x-python",
   "name": "python",
   "nbconvert_exporter": "python",
   "pygments_lexer": "ipython3",
   "version": "3.11.5"
  }
 },
 "nbformat": 4,
 "nbformat_minor": 5
}
