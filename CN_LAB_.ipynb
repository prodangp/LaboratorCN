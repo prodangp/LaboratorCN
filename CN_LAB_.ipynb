{
 "cells": [
  {
   "cell_type": "markdown",
   "id": "9e66d58a-cc88-4f36-af90-9fea6092eea4",
   "metadata": {},
   "source": [
    "### Funcții anonime (lambda)\n",
    "Există adesea nevoia de a crea funcții specifice care îndeplinesc o anumită sarcină și servesc ca intrare pentru o funcție de ordin superior (HOF), cum ar fi map sau filter. În astfel de cazuri, aceste funcții sunt adesea scrise sub formă de funcții anonime sau lambda. Sintaxa este următoarea:\n",
    "\n",
    "`lambda argumente : expresie`\n",
    "\n",
    "În situații complexe, s-ar putea să fie dificil de înțeles pentru ce este folosită o anumită funcție lambda. Din acest motiv ar putea fi rescrisă ca o funcție normală."
   ]
  },
  {
   "cell_type": "code",
   "execution_count": 1,
   "id": "ab153172-083d-4a6a-875d-41777a193505",
   "metadata": {},
   "outputs": [
    {
     "data": {
      "text/plain": [
       "7"
      ]
     },
     "execution_count": 1,
     "metadata": {},
     "output_type": "execute_result"
    }
   ],
   "source": [
    "sum = lambda x, y: x + y\n",
    "sum(3, 4)"
   ]
  },
  {
   "cell_type": "code",
   "execution_count": 2,
   "id": "0128e800-adbe-40a2-bbf4-78336355d566",
   "metadata": {},
   "outputs": [
    {
     "name": "stdout",
     "output_type": "stream",
     "text": [
      "0\n",
      "1\n",
      "4\n",
      "9\n",
      "16\n"
     ]
    }
   ],
   "source": [
    "for i in map(lambda x: x*x, range(5)): print (i)"
   ]
  },
  {
   "cell_type": "code",
   "execution_count": 3,
   "id": "b33fec43-39cb-4b95-bdf8-734c7c733e5f",
   "metadata": {},
   "outputs": [
    {
     "name": "stdout",
     "output_type": "stream",
     "text": [
      "['two', 'three']\n"
     ]
    }
   ],
   "source": [
    "# funcție care filtrează string-urile dintr-o listă\n",
    "y = [1, 'two', 'three', 4, 5]\n",
    "s = list(filter(lambda x: type(x) == str, y))\n",
    "print(s)"
   ]
  },
  {
   "cell_type": "markdown",
   "id": "82c06ac1-ee7a-4380-9d13-fabe4138fc92",
   "metadata": {},
   "source": [
    "### Exercițiu\n",
    "- scrieți o funcție lambda care verifică dacă un număr este par (returnează True dacă numărul este par)\n",
    "- folosiți map pentru a găsi valorile funcției `y = 0.5 * x + 0.2` pentru `x` în intervalul [0, 1), folosește pasul de 0.01 când creezi valorile pentru `x` cu funcția `range`"
   ]
  },
  {
   "cell_type": "code",
   "execution_count": null,
   "id": "ca15c3d5-a8df-4c4f-ae6e-944530380a8f",
   "metadata": {},
   "outputs": [],
   "source": []
  }
 ],
 "metadata": {
  "kernelspec": {
   "display_name": "Python 3 (ipykernel)",
   "language": "python",
   "name": "python3"
  },
  "language_info": {
   "codemirror_mode": {
    "name": "ipython",
    "version": 3
   },
   "file_extension": ".py",
   "mimetype": "text/x-python",
   "name": "python",
   "nbconvert_exporter": "python",
   "pygments_lexer": "ipython3",
   "version": "3.11.0"
  }
 },
 "nbformat": 4,
 "nbformat_minor": 5
}
