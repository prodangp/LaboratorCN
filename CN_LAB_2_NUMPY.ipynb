{
 "cells": [
  {
   "cell_type": "markdown",
   "metadata": {},
   "source": [
    "# Calcul Numeric - Laborator 2 - Funcții. Pachetul NumPy."
   ]
  },
  {
   "cell_type": "markdown",
   "metadata": {},
   "source": [
    "## Funcții\n",
    "\n",
    "Funcțiile se definesc prin statement-ul ```def``` \n",
    "\n",
    "#### Argumentul unei funcții\n",
    "Un obiect transmis unei funcții nu creează un obiect nou accesibil doar în aceea funcție. Imaginați-vă că aveți o listă ```x=[1, 2, 3]```, adică un obiect mutabil. Dacă în interiorul funcției se schimbă conținutul listei, de exemplu ```x[0] = 9```, atunci ```x``` se schimbă și în afara funcției.\n",
    "\n",
    "Aceste obiecte sunt transmise ca argument al funcției sub formă de variabilă sau direct. Argumentele acestea pot fi simple, adică argumente poziționale, care se identifică pe baza poziției, sau pot fi de tip „keyword”. În acest caz se identifică printr-un cuvant-cheie .\n",
    "\n",
    "\n",
    "Mai jos avem câteva funcții care ilustrează diferite moduri în care putem apela o funcție."
   ]
  },
  {
   "cell_type": "markdown",
   "metadata": {},
   "source": [
    "#### Exemplul 1: funcție fără argument"
   ]
  },
  {
   "cell_type": "code",
   "execution_count": null,
   "metadata": {},
   "outputs": [],
   "source": [
    "import random\n",
    "def propozitie_random():\n",
    "    subiecte = [\"Un pinguin\", \"O girafă\", \"Un extraterestru\", \"O maimuță\", \"Un cățel\"]\n",
    "    predicate = [\"a dansat\", \"a cântat\", \"a căzut\", \"a râs\", \"a făcut o glumă\"]\n",
    "    complemente = [\"pe o minge\", \"într-un hamac\", \"sub ploaie\", \"cu o chitară\", \"cu o pizza\"]\n",
    "\n",
    "    subiect_aleatoriu = random.choice(subiecte)\n",
    "    predicat_aleatoriu = random.choice(predicate)\n",
    "    complement_aleatoriu = random.choice(complemente)\n",
    "\n",
    "    return f\"{subiect_aleatoriu} {predicat_aleatoriu} {complement_aleatoriu}!\""
   ]
  },
  {
   "cell_type": "code",
   "execution_count": null,
   "metadata": {},
   "outputs": [],
   "source": [
    "# în acest caz, funcția nu are niciun argument:\n",
    "propozitie_random()"
   ]
  },
  {
   "cell_type": "markdown",
   "metadata": {},
   "source": [
    "#### Exemplul 2: funcție cu un argument pozițional"
   ]
  },
  {
   "cell_type": "code",
   "execution_count": null,
   "metadata": {},
   "outputs": [],
   "source": [
    "def salutare(nume):  # argumentul este nume \n",
    "    \"\"\"\n",
    "    Funcție care salută pe cineva după nume.\n",
    "    \"\"\"\n",
    "    mesaj_salutare = f\"Salut, {nume}! Cum îți merge astăzi?\"\n",
    "    return mesaj_salutare"
   ]
  },
  {
   "cell_type": "code",
   "execution_count": null,
   "metadata": {},
   "outputs": [],
   "source": [
    "salutare('Marian')  # obiectul este definit în apelarea funcției"
   ]
  },
  {
   "cell_type": "code",
   "execution_count": null,
   "metadata": {},
   "outputs": [],
   "source": [
    "nume = 'Mirel'\n",
    "salutare(nume) # variabila nume este folosită în apelarea funcției, obiectul fiind definit/creat înainte"
   ]
  },
  {
   "cell_type": "markdown",
   "metadata": {},
   "source": [
    "#### Exemplul 3: funcție cu un argument pozițional și un argument cheie"
   ]
  },
  {
   "cell_type": "code",
   "execution_count": null,
   "metadata": {},
   "outputs": [],
   "source": [
    "def mesaj_personalizat(mesaj, urgent=False):\n",
    "    \"\"\"\n",
    "    Funcție care afișează un mesaj personalizat și, dacă este specificat, un MESAJ URGENT.\n",
    "    MESAJELE URGENTE SUNT SCRISE CU MAJUSCULE.\n",
    "    \"\"\"\n",
    "    if urgent:\n",
    "        mesaj = mesaj.upper()\n",
    "        mesaj = \"[URGENT] \" + mesaj\n",
    "\n",
    "    print(mesaj)"
   ]
  },
  {
   "cell_type": "code",
   "execution_count": null,
   "metadata": {
    "scrolled": true
   },
   "outputs": [],
   "source": [
    "mesaj_personalizat('nu uita sa iti faci tema', urgent=True)"
   ]
  },
  {
   "cell_type": "markdown",
   "metadata": {},
   "source": [
    "#### Exemplul 4: o funcție generală"
   ]
  },
  {
   "cell_type": "code",
   "execution_count": null,
   "metadata": {
    "scrolled": true
   },
   "outputs": [],
   "source": [
    "def exemplu_functie(arg1, arg2, cheie1=None, cheie2=None):\n",
    "    \"\"\"O funcție exemplu cu argumente pozitionale și cheie.\"\"\"\n",
    "    print(\"Argumente poziționale:\", arg1, arg2)\n",
    "    print(\"Argumente cheie:\", cheie1, cheie2)\n",
    "\n",
    "exemplu_functie(\"B\", \"A\", cheie1=\"C\", cheie2=\"D\")\n",
    "exemplu_functie(\"B\", \"A\", \"C\", cheie2=\"D\")\n",
    "exemplu_functie(\"B\", \"A\", \"C\", \"D\")"
   ]
  },
  {
   "cell_type": "markdown",
   "metadata": {},
   "source": [
    "### Momentul Zen\n",
    "\n",
    "După cum am menționat la laboratorul precedent, Python e ZEN. Luați o pauză să reflectați asupra exemplelor de mai sus și să le înțelegeți. \n",
    "\n",
    "<img width=200 src='https://i.imgflip.com/8gesrj.jpg'/>\n",
    "\n",
    "Experimentați lucruri noi răspunzând la următoarele întrebări:\n",
    "- Încearcă sa apelezi funcția din exemplul 3 fără argument cheie (doar cu mesajul). Ce se întâmplă?\n",
    "- Ce se întâmplă dacă apelezi funcția din exemplul 3 doar cu argumentul cheie, fără cel pozițional?\n",
    "- Care sunt diferențele dintre argumentul pozițional și cel cheie?\n",
    "- Gândește-te la un argument pe care l-ai putea folosi în funcția din exemplul 1.\n",
    "- Apelați funcția din exemplul 4 doar prin argumente poziționale: ```exemplu_functie(\"B\", \"A\", \"C\", \"D\")```. Ce observați?\n",
    "- Apelați funcția din exemplul 4 specificând un argument cheie înaintea unuia pozițional: ```exemplu_functie(\"B\", cheie1=\"A\", \"C\", \"D\")```\n",
    "- Cum decizi dacă un argument ar trebui să fie pozițional sau cheie? "
   ]
  },
  {
   "cell_type": "code",
   "execution_count": null,
   "metadata": {},
   "outputs": [],
   "source": [
    "# Experimentele tale:\n",
    "\n",
    "\n",
    "\n",
    "\n"
   ]
  },
  {
   "cell_type": "markdown",
   "metadata": {},
   "source": [
    "### Funcții anonime (lambda)\n",
    "Există adesea nevoia de a crea funcții specifice care îndeplinesc o anumită sarcină și servesc ca intrare pentru o funcție de ordin superior (HOF), cum ar fi map sau filter. În astfel de cazuri, aceste funcții sunt adesea scrise sub formă de funcții anonime sau lambda. Sintaxa este următoarea:\n",
    "\n",
    "`lambda argumente : expresie`\n",
    "\n",
    "În situații complexe, s-ar putea să fie dificil de înțeles pentru ce este folosită o anumită funcție lambda. Din acest motiv ar putea fi rescrisă ca o funcție normală."
   ]
  },
  {
   "cell_type": "code",
   "execution_count": null,
   "metadata": {},
   "outputs": [],
   "source": [
    "sum = lambda x, y: x + y\n",
    "sum(3, 4)"
   ]
  },
  {
   "cell_type": "code",
   "execution_count": null,
   "metadata": {
    "scrolled": false
   },
   "outputs": [],
   "source": [
    "for i in map(lambda x: x*x, range(5)): print (i)"
   ]
  },
  {
   "cell_type": "code",
   "execution_count": null,
   "metadata": {},
   "outputs": [],
   "source": [
    "# funcție care filtrează string-urile dintr-o listă\n",
    "y = [1, 'two', 'three', 4, 5]\n",
    "s = list(filter(lambda x: type(x) == str, y))\n",
    "print(s)"
   ]
  },
  {
   "cell_type": "markdown",
   "metadata": {},
   "source": [
    "### Exercițiu\n",
    "- scrieți o funcție lambda care verifică dacă un număr este par (returnează True dacă numărul este par)\n",
    "- folosiți map pentru a găsi valorile funcției `y = 0.5 * x + 0.2` pentru `x` în intervalul [0, 1), folosește pasul de 0.01 când creezi valorile pentru `x` cu funcția `range`\n",
    "- rescrieți funcția `salutare` din exemplul 2 ca o funcție anonimă"
   ]
  },
  {
   "cell_type": "code",
   "execution_count": null,
   "metadata": {},
   "outputs": [],
   "source": [
    "# Exercițiu\n",
    "\n",
    "\n",
    "\n",
    "\n",
    "\n",
    "\n"
   ]
  },
  {
   "cell_type": "markdown",
   "metadata": {},
   "source": [
    "## Module/Pachete/Biblioteci\n",
    "Definiții:\n",
    "\n",
    "- Module: Un modul este un fișier care conține funcții Python, variabile globale etc. Este pur și simplu un fișier .py care conține cod/executabil Python.\n",
    "\n",
    "- Pachete: Un pachet este un spațiu de nume care conține mai multe pachete/module. Este un director care conține un fișier special init.py.\n",
    "\n",
    "- Biblioteci: O bibliotecă este o colecție de diferite pachete. Conceptual, nu există diferență între pachet și bibliotecă în Python.\n",
    "\n",
    "Modulele/pachetele/bibliotecile pot fi ușor \"importate\" și făcute funcționale în codul tău Python. Un set de biblioteci este inclus în fiecare instalare Python. Altele pot fi instalate local și apoi importate. Propriul tău cod aflat în altă parte pe computerul tău (local) poate fi de asemenea importat."
   ]
  },
  {
   "cell_type": "code",
   "execution_count": null,
   "metadata": {},
   "outputs": [],
   "source": [
    "###### toate \"chestiile\" din biblioteca math pot fi utilizate\n",
    "import math\n",
    "print(math.pi)\n",
    "\n",
    "# poți atribui o etichetă bibliotecii math pentru comoditate\n",
    "import math as m\n",
    "print(m.pi)\n",
    "\n",
    "# alternativ, poți importa doar un anumit \"element\" din bibliotecă\n",
    "from math import pi    # poți adăuga mai multe elemente deodată, le listezi separate prin \",\"\n",
    "# from math import pi, sqrt\n",
    "print(pi)\n",
    "\n",
    "# sau poți importa totul (foarte periculos!!!)\n",
    "from math import *\n",
    "print(sqrt(7))"
   ]
  },
  {
   "cell_type": "markdown",
   "metadata": {},
   "source": [
    "## NumPy"
   ]
  },
  {
   "cell_type": "markdown",
   "metadata": {},
   "source": [
    "NumPy este un pachet fundamental pentru calculul științific în Python. Conține, printre altele:\n",
    "\n",
    "- obiecte array de tip tablou N-dimensional\n",
    "- operații sofisticate și rapide cu array-uri\n",
    "- instrumente pentru integrarea codului C/C++ și Fortran (nu le vom discuta în acest laborator din păcate)\n",
    "- generare de numere (pseudo-)aleatoare\n",
    "- algebră liniară, transformate Fourier și multe altele\n",
    "\n",
    "\n",
    "Link către documentația NumPy: https://numpy.org/doc/stable/user/whatisnumpy.html\n",
    "\n",
    "Există convenția ca denumirea acestui pachet să se prescurteze cu alias-ul `np`. NumPy se importă cu următoarea comandă: "
   ]
  },
  {
   "cell_type": "code",
   "execution_count": null,
   "metadata": {},
   "outputs": [],
   "source": [
    "import numpy as np "
   ]
  },
  {
   "cell_type": "markdown",
   "metadata": {},
   "source": [
    "Dacă nu aveți instalat pachetul, folosiți `pip`:"
   ]
  },
  {
   "cell_type": "code",
   "execution_count": null,
   "metadata": {},
   "outputs": [],
   "source": [
    "!pip install numpy"
   ]
  },
  {
   "cell_type": "markdown",
   "metadata": {},
   "source": [
    "### Array-urile NumPy"
   ]
  },
  {
   "cell_type": "markdown",
   "metadata": {},
   "source": [
    "Array-urile NumPy diferă de listele Python, deoarece NumPy oferă:\n",
    "\n",
    "- suport complet pentru tablouri multidimensionale\n",
    "- eficiență\n",
    "- proiectat pentru calcul științific (comoditate)\n",
    "\n",
    "Similar altor limbaje de programare care au un focus specific (de exemplu, \"orientat pe obiect\"), array-urile în numpy sunt atât de centrale încât dezvoltarea aplicațiilor științifice poate fi considerată \"orientată pe array-uri\".\n",
    "\n",
    "Array-urile (tablourile) NumPy au o dimensiune fixă la creare, spre deosebire de listele Python (care pot crește dinamic). Modificarea dimensiunii unui ndarray va crea un nou tablou și va șterge originalul.\n",
    "\n",
    "Elementele dintr-un tablou NumPy trebuie să fie de același tip de date și, astfel, vor avea aceeași dimensiune în memorie. Excepția: se pot avea tablouri de obiecte (Python, inclusiv NumPy), permițând astfel tablouri de elemente de dimensiuni diferite.\n",
    "\n",
    "Tablourile NumPy facilitează operațiile matematice avansate și alte tipuri de operații pe un număr mare de date. În mod tipic, astfel de operații sunt executate mai eficient și cu mai puțin cod decât este posibil utilizând secvențele încorporate în Python.\n",
    "\n",
    "O demonstrație a eficienței NumPy:"
   ]
  },
  {
   "cell_type": "code",
   "execution_count": null,
   "metadata": {},
   "outputs": [],
   "source": [
    "# standard python\n",
    "L = range(1000)\n",
    "print('cu python normal: ')\n",
    "%timeit [i**2 for i in L]\n",
    "\n",
    "# numpy\n",
    "a = np.arange(1000)\n",
    "print('cu numpy: ')\n",
    "%timeit a**2"
   ]
  },
  {
   "cell_type": "markdown",
   "metadata": {},
   "source": [
    "#### De câte ori este mai rapid NumPy decât Python-ul standard?"
   ]
  },
  {
   "cell_type": "markdown",
   "metadata": {},
   "source": [
    "### Tipuri de date în NumPy"
   ]
  },
  {
   "cell_type": "markdown",
   "metadata": {},
   "source": [
    "Un array NumPy este o grilă de valori omogene (toate de același tip) și este indexat printr-un tuplu de numere întregi pozitive.\n",
    "\n",
    "Toate tipurile de date standard sunt disponibile:"
   ]
  },
  {
   "cell_type": "code",
   "execution_count": null,
   "metadata": {},
   "outputs": [],
   "source": [
    "# Tipul trebuie specificat atunci când se creează tabloul\n",
    "a = np.array([1, 2, 3], 'float64')\n",
    "print(a, a.dtype, '\\n')\n",
    "a = np.array([1, 2, 3], 'uint32')\n",
    "print(a, a.dtype, '\\n')\n",
    "\n",
    "# Alternativ, putem lăsa Python să deducă tipul:\n",
    "a = np.array([1, 2, 3.3])\n",
    "print(a, a.dtype, '\\n')\n",
    "\n",
    "# Sunt permise și numerele complexe\n",
    "a = np.array([1+2j, 3+4j, 5+6*1j])\n",
    "print(a, a.dtype, '\\n')\n",
    "\n",
    "# Booleene\n",
    "a = np.array([True, False, False, True])\n",
    "print(a, a.dtype, '\\n')\n",
    "\n",
    "# Tipuri non-numerice sunt, de asemenea, permise: șiruri de caractere\n",
    "a = np.array(['bonjour messieurs dames', 'Hello', 'Hallo'])\n",
    "print(a, a.dtype, '\\n')"
   ]
  },
  {
   "cell_type": "markdown",
   "metadata": {},
   "source": [
    "### Dimensiuni\n",
    "Numărul de dimesiuni este rank-ul array-ului. Forma (shape-ul) unui array este o pereche (tuplu) de întregi care indică dimensiunea tabloului de-a lungul fiecărei dimensiuni.\n",
    "#### Tablouri 1D"
   ]
  },
  {
   "cell_type": "code",
   "execution_count": null,
   "metadata": {},
   "outputs": [],
   "source": [
    "a1 = np.array([0, 1, 2, 3])\n",
    "print(\"array: \\n\", a1)\n",
    "print(\"rank:\", a1.ndim)\n",
    "print(\"shape:\", a1.shape)\n",
    "print(\"marimea primei dim (axis):\", len(a1)) # not recommended in >1D"
   ]
  },
  {
   "cell_type": "markdown",
   "metadata": {},
   "source": [
    "#### Tablouri 2D"
   ]
  },
  {
   "cell_type": "code",
   "execution_count": null,
   "metadata": {},
   "outputs": [],
   "source": [
    "a2_3 = np.array([[0, 1, 2], [3, 4, 5]])\n",
    "print(\"2 x 3 array: \\n\", a2_3)\n",
    "print(\"rank:\", a2_3.ndim)\n",
    "print(\"shape:\", a2_3.shape)\n",
    "print(\"marimea primei dim (axis):\", len(a2_3))"
   ]
  },
  {
   "cell_type": "markdown",
   "metadata": {},
   "source": [
    "#### Tablouri 3D"
   ]
  },
  {
   "cell_type": "code",
   "execution_count": null,
   "metadata": {},
   "outputs": [],
   "source": [
    "a2_3_4 = np.array([[[1, 10, 100, 1000], [2, 20, 200, 2000], [3, 30, 300, 3000]], \n",
    "                   [[4, 40, 400, 4000], [5, 50, 500, 5000], [6, 60, 600, 6000]]])\n",
    "print(\"2 x 3 x 4 array:\\n\", a2_3_4)\n",
    "print(\"rank:\", a2_3_4.ndim)\n",
    "print(\"shape:\", a2_3_4.shape)\n",
    "print(\"marimea primei dim (axis):\", len(a2_3_4))"
   ]
  },
  {
   "cell_type": "markdown",
   "metadata": {},
   "source": [
    "### Inițializarea tablourilor\n",
    "Tablourile pot fi create din liste, dar și liste pot fi obținute din tablouri (cu toate acestea, amintiți-vă că cele două nu sunt echivalente, deoarece un tablou NumPy nu este o listă):"
   ]
  },
  {
   "cell_type": "code",
   "execution_count": null,
   "metadata": {},
   "outputs": [],
   "source": [
    "l = [0, 1, 2, 3]\n",
    "a = np.array(l)\n",
    "print(a.tolist(), type(a.tolist()))"
   ]
  },
  {
   "cell_type": "markdown",
   "metadata": {},
   "source": [
    "Folosind `arange` și `linspace`:"
   ]
  },
  {
   "cell_type": "code",
   "execution_count": null,
   "metadata": {},
   "outputs": [],
   "source": [
    "# distanțat uniform:\n",
    "print(np.arange(1, 9, 2)) # la fel ca \"range\": start, end (exclusiv), pas\n",
    "\n",
    "# la fel, dar precizând numărul de elemente:\n",
    "print(np.linspace(0, 1, 2)) # start, end, nr elemente "
   ]
  },
  {
   "cell_type": "markdown",
   "metadata": {},
   "source": [
    "\n",
    "\n",
    "### Exercițiu\n",
    "- creați un tablou NumPy cu toate numerele pare de la 1 la 100 (inclusiv 100)\n",
    "\n",
    "<img width=200 src='https://i.imgflip.com/8gogcy.jpg'/>"
   ]
  },
  {
   "cell_type": "code",
   "execution_count": null,
   "metadata": {},
   "outputs": [],
   "source": [
    "# Exercițiu\n",
    "\n",
    "\n",
    "\n",
    "\n",
    "\n"
   ]
  },
  {
   "cell_type": "markdown",
   "metadata": {},
   "source": [
    "Inițializarea unor tablouri triviale:"
   ]
  },
  {
   "cell_type": "code",
   "execution_count": null,
   "metadata": {},
   "outputs": [],
   "source": [
    "# matrice 3x3 de 1\n",
    "ones = np.ones((3, 3))\n",
    "print(ones, '\\n')\n",
    "\n",
    "# matrice 2x2 de zerouri\n",
    "zeros = np.zeros((2, 2))\n",
    "print(zeros, '\\n')\n",
    "\n",
    "# matricea unitate 3x3\n",
    "unity3d = np.eye(3)\n",
    "#unity3d = np.identity(3) # np.identity este echivalent cu np.eye\n",
    "print(unity3d, '\\n')\n",
    "\n",
    "# matrice diagonală\n",
    "diagonal = np.diag(np.array([1, 20, 3, 4]))\n",
    "print(diagonal, '\\n')\n",
    "\n",
    "# matrice creată din compresiune de listă\n",
    "array = np.array([(i, j) for i in range(2) for j in range(3)])\n",
    "print(array, '\\n')\n",
    "\n",
    "# matrice creată cu ajutorul unei funcții anonime\n",
    "fromfunct = np.fromfunction(lambda i, j: (i - 2)**2 + (j - i)**2, (5, 5))\n",
    "print(fromfunct, '\\n')"
   ]
  },
  {
   "cell_type": "markdown",
   "metadata": {},
   "source": [
    "### Redimensionarea și concatenarea\n",
    "Un tablou 1D poate fi redimensionat într-un array cu mai multe dimensiuni"
   ]
  },
  {
   "cell_type": "code",
   "execution_count": null,
   "metadata": {},
   "outputs": [],
   "source": [
    "a = np.arange(0, 6)\n",
    "m = a.reshape(3, 2) \n",
    "# Aveți grijă, redimensionarea trebuie să fie validă. Numărul total de elemente rămâne la fel: 1 x 6 = 3 x 2. \n",
    "# e.g. nu puteți redimensiona un tablou cu 100 de elemente într-unul cu dimensiunile 3x50, deoarece sunt necesare 3x50=150 elemente\n",
    "\n",
    "print(\"original:\", a, '\\n')\n",
    "print(\"reshaped:\", m, '\\n')\n",
    "\n",
    "a_from_m = m.flatten()\n",
    "print(\"flattened array (înapoi la original):\", a_from_m, '\\n')\n",
    "\n",
    "# când aplicam flatten(), array-urile multidimensionale se reduc la o singură dimensiune - obținem un tablou 1D cu toate elementele"
   ]
  },
  {
   "cell_type": "markdown",
   "metadata": {},
   "source": [
    "### Exercițiu\n",
    "\n",
    "- redimensionați următorul tablou într-un tablou tridimensional:"
   ]
  },
  {
   "cell_type": "code",
   "execution_count": null,
   "metadata": {},
   "outputs": [],
   "source": [
    "# Exercițiu\n",
    "\n",
    "a = np.zeros((5, 90))\n",
    "\n",
    "\n",
    "\n",
    "\n",
    "\n"
   ]
  },
  {
   "cell_type": "markdown",
   "metadata": {},
   "source": [
    "Operația de concatenare:"
   ]
  },
  {
   "cell_type": "markdown",
   "metadata": {},
   "source": [
    "1D"
   ]
  },
  {
   "cell_type": "code",
   "execution_count": null,
   "metadata": {},
   "outputs": [],
   "source": [
    "# concatenare 1D\n",
    "a = np.array([1, 2])\n",
    "b = np.array([3, 4, 5, 6])\n",
    "c = np.array([7, 8, 9])\n",
    "\n",
    "print(f\"a={a}\")\n",
    "print(f\"b={b}\")\n",
    "print(f\"c={c}\")\n",
    "print(\"concatenare unidimensională (a+b+c):\", np.concatenate((a, b, c)))"
   ]
  },
  {
   "cell_type": "markdown",
   "metadata": {},
   "source": [
    "2D"
   ]
  },
  {
   "cell_type": "code",
   "execution_count": null,
   "metadata": {},
   "outputs": [],
   "source": [
    "a = np.array([[1, 2], [3, 4]])\n",
    "b = np.array([[5, 6], [7, 8]])\n",
    "print(f\"a={a}\")\n",
    "print(f\"b={b}\")\n",
    "\n",
    "print(\"concatenare default 2D (a+b):\",'\\n', np.concatenate((a, b)))\n",
    "print(\"concatenare după prima axă (a+b):\",'\\n', np.concatenate((a, b), axis=0))\n",
    "print(\"concatenare după a doua axă (a+b):\",'\\n', np.concatenate((a, b), axis=1))"
   ]
  },
  {
   "cell_type": "markdown",
   "metadata": {},
   "source": [
    "### Copii și vederi\n",
    "Fiind obiecte mutabile, tablourile NumPy pot avea **copii (copies)** și **vederi (views)**:"
   ]
  },
  {
   "cell_type": "code",
   "execution_count": null,
   "metadata": {
    "scrolled": true
   },
   "outputs": [],
   "source": [
    "a = np.array([1, 2, 3])\n",
    "b = a # aceasta este o vedere - un view\n",
    "c = a.copy() # aceasta este o copie\n",
    "\n",
    "# Modificările aplicate tabloului a modifică și tabloul b\n",
    "# (care, de fapt, sunt același PyObject)\n",
    "a[0] = 7\n",
    "print(a, b, c)\n",
    "\n",
    "# ... și invers\n",
    "b[1] = 7\n",
    "print(a, b, c)\n",
    "\n",
    "# Modificările asupra lui c nu modifică tabloul a\n",
    "c[0] = 9\n",
    "print(a, b, c)\n",
    "\n",
    "# Obiectul Python este același pentru a și b, dar diferit pentru c:\n",
    "print(\"Sunt a și b același obiect?\", np.may_share_memory(a, b))\n",
    "print(\"Sunt a și c același obiect?\", np.may_share_memory(a, c))"
   ]
  },
  {
   "cell_type": "markdown",
   "metadata": {},
   "source": [
    "**Atenție!** metoda copy se folosește doar asupra tablourilor NumPy, nu și pentru temele de laborator ale colegilor"
   ]
  },
  {
   "cell_type": "markdown",
   "metadata": {},
   "source": [
    "### Exercițiu\n",
    "- verificați dacă np.array.reshape returnează o vedere sau o copie"
   ]
  },
  {
   "cell_type": "code",
   "execution_count": null,
   "metadata": {},
   "outputs": [],
   "source": [
    "# Exercițiu\n",
    "\n",
    "\n"
   ]
  },
  {
   "cell_type": "markdown",
   "metadata": {},
   "source": [
    "Rețineți că, pentru obiectele numpy, funcția id() nu funcționează întotdeauna (no idea why). Pentru a verifica dacă două variabile indică același PyObject, utilizați np.may_share_memory().\n",
    "\n",
    "### Indexare\n",
    "Elementele unui tablou pot fi accesate și atribuite în aceeași manieră ca și alte secvențe Python (de exemplu, liste):"
   ]
  },
  {
   "cell_type": "code",
   "execution_count": null,
   "metadata": {},
   "outputs": [],
   "source": [
    "a = np.arange(10)\n",
    "print(a[0], a[2], a[-1])\n",
    "\n",
    "# reminder: [start:stop:step] funcționează la fel de bine.\n",
    "print(a[2:9:3])\n",
    "print(a[::-1]) # step poate fi negativ și se obține astfel o secvență inversată."
   ]
  },
  {
   "cell_type": "markdown",
   "metadata": {},
   "source": [
    "![](https://i.ibb.co/23qjk2P/numpy-indexing.png)"
   ]
  },
  {
   "cell_type": "markdown",
   "metadata": {},
   "source": [
    "### Exercițiu\n",
    "\n",
    "- crează NumPy array-ul folosit în exemplul de mai sus și afișează cele patru subarray-uri\n"
   ]
  },
  {
   "cell_type": "code",
   "execution_count": null,
   "metadata": {},
   "outputs": [],
   "source": [
    "# Exercițiu\n",
    "\n",
    "\n",
    "\n",
    "\n",
    "\n"
   ]
  },
  {
   "cell_type": "markdown",
   "metadata": {},
   "source": [
    "\n",
    "Pentru tablourile multidimensionale, indecșii sunt tupluri de întregi.\n",
    "\n",
    "Notă:\n",
    "\n",
    "- în 2D, prima dimensiune corespunde rândurilor, iar a doua coloanelor.\n",
    "- pentru un tablou multidimensional a, a[0] este interpretat prin luarea tuturor elementelor în dimensiunile nespecificate.\n",
    "\n",
    "### Feliere (Slicing)\n",
    "Operația de feliere (slicing) creează o vedere asupra tabloului original, care este doar o modalitate de a accesa datele tabloului. Atunci când se modifică o vedere, tabloul original este de asemenea modificat."
   ]
  },
  {
   "cell_type": "code",
   "execution_count": null,
   "metadata": {
    "scrolled": true
   },
   "outputs": [],
   "source": [
    "a = np.diag(np.arange(3))\n",
    "print(a, '\\n')\n",
    "print(a[1, 1], '\\n')\n",
    "print(a[2], '\\n')\n",
    "\n",
    "# feliază tabloul original, creând o vedere\n",
    "b = a[1:, 1:]\n",
    "print(b, '\\n')\n",
    "\n",
    "# modificarea vederii modifică și tabloul original\n",
    "b[-1, -1] = 10\n",
    "print(a, '\\n')\n",
    "\n",
    "# verifică dacă b este efectiv o vedere a lui a\n",
    "print(\"Sunt a și b același obiect?\", np.may_share_memory(a, b))"
   ]
  },
  {
   "cell_type": "code",
   "execution_count": null,
   "metadata": {},
   "outputs": [],
   "source": [
    "a = np.arange(35).reshape(7, 5)\n",
    "print('a = ', a)\n",
    "print('Extragem primele 4 elemente de pe rândul cu index 2 (al treila rând):', a[2, :4])\n",
    "print('Extragem elementele cu index 2,3 de pe ultimile două rânduri:', a[-2:, 2:4])"
   ]
  },
  {
   "cell_type": "markdown",
   "metadata": {},
   "source": [
    "### Exercițiu\n",
    "- Extrage rândul central. Verifică shape-ul tabloului extras.\n",
    "- Extrage coloana centrală. Verifică shape-ul tabloului extras.\n",
    "- Extrage ultimele 3 elemente de pe primele 4 rânduri."
   ]
  },
  {
   "cell_type": "code",
   "execution_count": null,
   "metadata": {},
   "outputs": [],
   "source": [
    "# Exercițiu\n",
    "a = np.arange(35).reshape(7, 5)\n",
    "\n",
    "\n",
    "\n",
    "\n"
   ]
  },
  {
   "cell_type": "markdown",
   "metadata": {},
   "source": [
    "### Indexare avansată (Fancy indexing)\n",
    "Tablourile NumPy pot fi indexate cu feliere (slices), dar și cu șiruri booleane sau șiruri de întregi (măști). Această metodă se numește indexare avansată (fancy indexing) și creează copii, nu vederi."
   ]
  },
  {
   "cell_type": "code",
   "execution_count": null,
   "metadata": {},
   "outputs": [],
   "source": [
    "a = np.arange(0, 21, 2)\n",
    "print(\"array original:\", a,'\\n')\n",
    "\n",
    "mask = (a % 3 == 0)\n",
    "print(\"mask:\", mask,'\\n')\n",
    "\n",
    "filtered_a = a[mask]\n",
    "# echivalent cu a[a%3==0]\n",
    "print(\"tabloul fitrat:\", filtered_a,'\\n')\n",
    "\n",
    "# verifică dacă indexarea avansată creează copie \n",
    "print(\"Sunt a și filtered_a același obiect?\", np.may_share_memory(a, filtered_a), '\\n')\n",
    "\n",
    "# indexarea cu o mască poate fi folosită pentru asignarea a noi valori pentru sub-tablouri.\n",
    "a[a % 3 == 0] = -1\n",
    "print(\"array modificat:\", a, '\\n')"
   ]
  },
  {
   "cell_type": "markdown",
   "metadata": {},
   "source": [
    "Indexarea poate fi realizată cu un șir de numere întregi, unde același index poate fi repetat de mai multe ori."
   ]
  },
  {
   "cell_type": "code",
   "execution_count": null,
   "metadata": {},
   "outputs": [],
   "source": [
    "a = np.arange(0, 100, 10)\n",
    "l = [2, 3, 2, 4, 2] # listă python cu indecși\n",
    "print(\"selecția cu indecșii de mai sus: \", a[l], '\\n')"
   ]
  },
  {
   "cell_type": "markdown",
   "metadata": {},
   "source": [
    "Atunci când se creează un tablou nou prin indexarea cu un șir de numere întregi, noul tablou are aceeași formă ca și șirul de întregi:"
   ]
  },
  {
   "cell_type": "code",
   "execution_count": null,
   "metadata": {},
   "outputs": [],
   "source": [
    "a = np.arange(0, 20, 2)\n",
    "idx = np.array([[3, 4],[9, 7]])\n",
    "a[idx]"
   ]
  },
  {
   "cell_type": "markdown",
   "metadata": {},
   "source": [
    "![](https://i.ibb.co/7p3X8R0/numpy-fancy-indexing.png)"
   ]
  },
  {
   "cell_type": "markdown",
   "metadata": {},
   "source": [
    "### Operații cu tablouri\n",
    "#### Operații elementare\n",
    "În mod implicit, toate operațiile (adunări, scăderi, înmulțiri, ...) cu tablouri sunt efectuate element-cu-element:"
   ]
  },
  {
   "cell_type": "code",
   "execution_count": null,
   "metadata": {},
   "outputs": [],
   "source": [
    "# operații cu scalari\n",
    "a = np.arange(4)\n",
    "print(a, '\\n')\n",
    "print(a * 5, '\\n')\n",
    "\n",
    "# ridicarea la putere\n",
    "print(2 ** a, '\\n')"
   ]
  },
  {
   "cell_type": "code",
   "execution_count": null,
   "metadata": {},
   "outputs": [],
   "source": [
    "# operații între tablouri unidimensionale. De asemenea, și în acest caz, toate operațiile sunt efectuate element-cu-element\n",
    "a = np.arange(4)\n",
    "b = np.ones(4) + 1\n",
    "print(a, b)\n",
    "print(\"a - b:\", a - b)\n",
    "print(\"a * b:\", a * b)"
   ]
  },
  {
   "cell_type": "markdown",
   "metadata": {},
   "source": [
    "**Atenție!** \n",
    "deoarece operațiile sunt efectuate element-cu-element în toate dimensiunile, înmulțirea tablourilor nu este înmulțire matriceală:"
   ]
  },
  {
   "cell_type": "code",
   "execution_count": null,
   "metadata": {},
   "outputs": [],
   "source": [
    "ones = np.ones((3,3))\n",
    "print ('matrice orginală:','\\n',ones,'\\n')\n",
    "\n",
    "print ('produsul element-cu-element \"*\": ','\\n',ones*ones,'\\n')\n",
    "\n",
    "print ('produsul matematic: ','\\n',ones.dot(ones),'\\n')"
   ]
  },
  {
   "cell_type": "markdown",
   "metadata": {},
   "source": [
    "#### Comparații\n"
   ]
  },
  {
   "cell_type": "code",
   "execution_count": null,
   "metadata": {},
   "outputs": [],
   "source": [
    "# element-cu-element\n",
    "print('egalitate?:', np.array([1, 3, 2, 5]) == np.array([3, 1, 2, 5]))\n",
    "print('mai mare ca?:', np.array([1, 3, 2, 5]) > np.array([3, 1, 2, 1]))\n",
    "\n",
    "# comparație între array-uri\n",
    "print(np.array_equal(np.array([1, 3, 2, 5]), np.array([3, 1, 2, 1])))"
   ]
  },
  {
   "cell_type": "markdown",
   "metadata": {},
   "source": [
    "#### Operații logice"
   ]
  },
  {
   "cell_type": "code",
   "execution_count": null,
   "metadata": {
    "scrolled": true
   },
   "outputs": [],
   "source": [
    "a = np.array([1, 1, 0, 0], bool)\n",
    "b = np.array([1, 0, 1, 0], bool)\n",
    "print(\"SAU logic:\", np.logical_or(a, b))\n",
    "print(\"ȘI logic:\", np.logical_and(a, b))"
   ]
  },
  {
   "cell_type": "markdown",
   "metadata": {},
   "source": [
    "#### Aplicarea de funcții "
   ]
  },
  {
   "cell_type": "code",
   "execution_count": null,
   "metadata": {
    "scrolled": true
   },
   "outputs": [],
   "source": [
    "# funcțiile matematice există și în NumPy, și se pot aplica unui între array (element-cu-element)\n",
    "a = np.arange(1, 9)\n",
    "print(\"sin:\", np.sin(a))\n",
    "print(\"log:\", np.log(a))\n",
    "\n",
    "# funcționează și pe tablouri multi-dimensionale\n",
    "m = a.reshape(2, 4)\n",
    "print(\"exp:\", np.exp(m))"
   ]
  },
  {
   "cell_type": "markdown",
   "metadata": {},
   "source": [
    "#### Transpusa unei matrice"
   ]
  },
  {
   "cell_type": "code",
   "execution_count": null,
   "metadata": {},
   "outputs": [],
   "source": [
    "# extragere\n",
    "a = np.arange(16).reshape(4,4)\n",
    "\n",
    "print (\"a:\", '\\n', a , '\\n')\n",
    "\n",
    "print (\"transpusa:\", '\\n', a.T , '\\n') # a.T este o vedere"
   ]
  },
  {
   "cell_type": "markdown",
   "metadata": {},
   "source": [
    "Există un pachet de algebră liniară în NumPy și se numește `numpy.linalg`. Cu toate acestea, în ceea ce privește performanța, pachetul inclus în scipy, numit și `scipy.linalg`, este mai bun și mai eficient."
   ]
  },
  {
   "cell_type": "markdown",
   "metadata": {},
   "source": [
    "#### Reduceri (reduction)\n",
    "Operațiile care reduc dimensionalitatea tablourilor sunt numite reduceri. Funcțiile de reducere operează asupra elementelor unui tablou și returnează un (set de) scalar(i), și sunt disponibile fie ca metode ale clasei de tablouri, fie ca funcții NumPy.\n",
    "\n",
    "Pentru tablouri multi-dimensionale, axa trebuie specificată."
   ]
  },
  {
   "cell_type": "code",
   "execution_count": null,
   "metadata": {
    "scrolled": true
   },
   "outputs": [],
   "source": [
    "a = np.arange(1,7)\n",
    "print(a)\n",
    "print(\"suma:\", a.sum(), np.sum(a))\n",
    "print(\"min:\", a.min(), np.min(a))\n",
    "print(\"max:\", a.max(), np.max(a))\n",
    "print(\"index arg min:\", a.argmin(), np.argmin(a))\n",
    "print(\"index arg max:\", a.argmax(), np.argmax(a))\n",
    "print(\"media:\", a.mean(), np.mean(a))\n",
    "print(\"mediana:\", np.median(a)) \n",
    "print(\"deviația standard:\", a.std(), np.std(a))\n",
    "# și multe altele... pentru detalii întrebați ChatGPT (sau consultați documentația)"
   ]
  },
  {
   "cell_type": "code",
   "execution_count": null,
   "metadata": {
    "scrolled": true
   },
   "outputs": [],
   "source": [
    "# pentru mai multe dimensiuni:\n",
    "\n",
    "m = a.reshape(3,2)\n",
    "print(m, '\\n')\n",
    "\n",
    "print(\"suma pe coloane:\", m.sum(axis=0))\n",
    "print(\"suma pe rânduri:\", m.sum(axis=1))"
   ]
  },
  {
   "cell_type": "markdown",
   "metadata": {},
   "source": [
    "#### Broadcasting\n",
    "Ați văzut că am folosit operațiile element-cu-element doar pe tablouri de același rang și formă. Cu toate acestea, este, de asemenea, posibil să se facă operații pe tablouri de dimensiuni diferite dacă NumPy poate transforma (extinde) aceste tablouri astfel încât toate să aibă aceeași dimensiune."
   ]
  },
  {
   "cell_type": "markdown",
   "metadata": {},
   "source": [
    "![](https://i.ibb.co/PxL2dsJ/numpy-broadcasting.png)"
   ]
  },
  {
   "cell_type": "code",
   "execution_count": null,
   "metadata": {
    "scrolled": true
   },
   "outputs": [],
   "source": [
    "a = np.tile(np.arange(0, 40, 10), (3, 1)).T # consultă documentația să vezi ce face np.tile\n",
    "print(\"array inițial:\", '\\n', a, '\\n')\n",
    "print(\"suma obținută prin broadcasting:\", '\\n', a + np.arange(3), '\\n')"
   ]
  },
  {
   "cell_type": "code",
   "execution_count": null,
   "metadata": {},
   "outputs": [],
   "source": [
    "a = np.reshape(np.arange(0, 40, 10), (4, 1)) # aplicăm reshape pentru a transforma în coloană\n",
    "# sau cu transpusa\n",
    "# a = np.array([np.arange(0, 40, 10)]).T\n",
    "# sau cu np.newaxis - vezi celula următoare\n",
    "\n",
    "print(a, a.shape)\n",
    "\n",
    "b = np.arange(3)\n",
    "print(b, b.shape)\n",
    "\n",
    "# broadcasting - suma între o coloană și un rând este o matrice\n",
    "# rândul/coloana se multiplică astfel încât însumarea să fie posibilă - vezi figura de mai sus\n",
    "a + b"
   ]
  },
  {
   "cell_type": "markdown",
   "metadata": {},
   "source": [
    "#### Manipularea formei"
   ]
  },
  {
   "cell_type": "code",
   "execution_count": null,
   "metadata": {},
   "outputs": [],
   "source": [
    "# adăugarea unei dimensiuni \n",
    "print(\"dimensiune nouă pentru axa 1:\", '\\n', np.arange(1,4)[:,np.newaxis], '\\n')\n",
    "print(\"dimensiune nouă pentru axa 0:\", '\\n', np.arange(1,4)[np.newaxis,:], '\\n')\n",
    "\n",
    "# resizing\n",
    "print (\"resizing:\", '\\n', np.resize(np.arange(4), (9,)), '\\n')  \n",
    "# elementele încep să se repete dacă dimensiunea finală este mai mare"
   ]
  },
  {
   "cell_type": "markdown",
   "metadata": {},
   "source": [
    "### Generare de numere random\n",
    "Există două module pentru numere (pseudo)aleatoare. Modulul `numpy.random` este cel mai simplu de utilizat."
   ]
  },
  {
   "cell_type": "code",
   "execution_count": null,
   "metadata": {},
   "outputs": [],
   "source": [
    "import numpy.random as npr\n",
    "npr.seed(123) # seed pentru reproducerea rezultatelor, modifica-l în numărul tău favorit și vezi ce se întâmplă"
   ]
  },
  {
   "cell_type": "code",
   "execution_count": null,
   "metadata": {},
   "outputs": [],
   "source": [
    "# generare numere random din intervalul [0.0, 1.0) pentru un tablou cu forma de 3,4\n",
    "print (\"distributie uniforma:\",'\\n', npr.rand(3, 4), '\\n') # shape=(3,4)\n",
    " \n",
    "# valori random generate dintr-o distributie normala (gaussiană)\n",
    "print (\"distributie normala:\",'\\n', npr.randn(2, 5), '\\n') # shape=(2,5)\n",
    "\n",
    "# generare de numere întregi între 1 și 50\n",
    "print (\"nr intregi:\",'\\n', npr.randint(1, 50, size=(3, 6)), '\\n') # shape=(3,6)"
   ]
  },
  {
   "cell_type": "code",
   "execution_count": null,
   "metadata": {
    "scrolled": true
   },
   "outputs": [],
   "source": [
    "# shuffle\n",
    "x = np.arange(10)\n",
    "npr.shuffle(x)\n",
    "print (\"reshuffling:\",'\\n', x,'\\n')\n",
    "# npr.permutation se poate folosi pentru același scop, dar scrii mai mult\n",
    "\n",
    "x = np.arange(10,20)\n",
    "print (\"alegere fără înlocuire\",'\\n',npr.choice(x, 10, replace=False),'\\n')\n",
    "print (\"alegere cu înlocuire\",'\\n',npr.choice(x, (5, 10), replace=True),'\\n') # default"
   ]
  },
  {
   "cell_type": "markdown",
   "metadata": {},
   "source": [
    "### Exercițiu\n",
    "- scrie o funcție care să genereze random N numere pare în intervalul 1 - 100\n",
    "- folosește funcția pentru a genera N=1000 numere pare\n",
    "- cu numere generate, creează o un tablou NumPy tridimensional de forma (10,10,10)\n",
    "- înlocuiește cu -1 toate numerele pare divizible cu 5 și afișează rezultatul obținut"
   ]
  },
  {
   "cell_type": "code",
   "execution_count": null,
   "metadata": {},
   "outputs": [],
   "source": [
    "# Exercițiu\n",
    "\n",
    "\n",
    "\n",
    "\n"
   ]
  },
  {
   "cell_type": "markdown",
   "metadata": {},
   "source": [
    "Pentru mai multe exerciții rezolvate consultați următorul link: https://www.kaggle.com/code/themlphdstudent/learn-numpy-numpy-50-exercises-and-solution"
   ]
  },
  {
   "cell_type": "markdown",
   "metadata": {},
   "source": [
    "## BONUS"
   ]
  },
  {
   "cell_type": "markdown",
   "metadata": {},
   "source": [
    "Acesta este un exercițiu opțional. Rezolvarea completă a acestui exercițiu vă poate aduce pâna la **0.5 puncte în plus** la nota finală de la laborator."
   ]
  },
  {
   "cell_type": "markdown",
   "metadata": {},
   "source": [
    "## SQuAD dataset \n",
    "Stanford Question Answering Dataset (SQuAD) este un set de date pentru înțelegerea textelor, format din întrebări formulate de diferite persoane cu privire la un set de articole Wikipedia. Răspunsul la fiecare întrebare este un segment scurt de text, preluat dintr-un paragraf. Unele întrebări ar putea să nu aibă un răspuns clar. Pentru fiecare paragraf sunt formulate mai multe întrebări.\n",
    "\n",
    "Mai multe detalii găsiți aici: https://rajpurkar.github.io/SQuAD-explorer/\n",
    "\n",
    "Pentru a începe, descarcă în aceeași locație fișierul dev-v2.0 de pe moodle."
   ]
  },
  {
   "cell_type": "markdown",
   "metadata": {},
   "source": [
    "#### Citirea fișierului JSON "
   ]
  },
  {
   "cell_type": "code",
   "execution_count": null,
   "metadata": {},
   "outputs": [],
   "source": [
    "import json\n",
    "f = open('dev-v2.0.json')  # deschidem fișierul de pe moodle\n",
    "data = json.load(f)['data']  # datele vor fi încărcate sub formă de dicționar în Python - de fapt va fi o listă de dicționare"
   ]
  },
  {
   "cell_type": "code",
   "execution_count": null,
   "metadata": {
    "scrolled": false
   },
   "outputs": [],
   "source": [
    "# fiecare dicționar are un subiect specific (title) - primul este despre normanzi și conține doar întrebări legate de acest subiect\n",
    "# titlul primului dicționar\n",
    "data[0]['title']"
   ]
  },
  {
   "cell_type": "markdown",
   "metadata": {},
   "source": [
    "### Task 1: Explorează setul de date\n",
    "- Aruncă o privire asupra setului de date și explică modul în care este organizat.\n",
    "- Extrage primul set de întrebări corespunzător primului paragraf.\n",
    "- Extrage prima întrebare și răspunsurile la aceasta."
   ]
  },
  {
   "cell_type": "markdown",
   "metadata": {},
   "source": [
    "#### Descriere set de date:\n",
    "\n",
    "Completează aici ..."
   ]
  },
  {
   "cell_type": "code",
   "execution_count": null,
   "metadata": {},
   "outputs": [],
   "source": [
    "# Solutia ta\n",
    "\n",
    "\n",
    "\n"
   ]
  },
  {
   "cell_type": "markdown",
   "metadata": {},
   "source": [
    "### Task 2: Pre-procesarea datelor\n",
    "Probabil ai observat că multe răspunsuri se repetă.\n",
    "- Șterge toate răspunsurile duplicat (dacă sunt două sau mai multe la fel, păstreaza unul singur)"
   ]
  },
  {
   "cell_type": "code",
   "execution_count": null,
   "metadata": {},
   "outputs": [],
   "source": [
    "# Soluția ta\n",
    "\n",
    "\n",
    "\n",
    "\n"
   ]
  },
  {
   "cell_type": "markdown",
   "metadata": {},
   "source": [
    "### Task 3: Statistici\n",
    "- Câte subiecte (dicționare cu paragrafe) există în dataset?\n",
    "- Pentru fiecare subiect, extrage numărul de paragrafe.\n",
    "- Creează un tablou NumPy unidimensional cu dimensiunea (shape-ul) egală cu numărul total de paragrafe.\n",
    "- Parcurge toate paragrafele și inserează în array-ul creat numărul total de întrebări pentru fiecare paragraf. \n",
    "- Folosește metode NumPy pentru a calcula numărul mediu de întrebări per paragraf.\n",
    "- Calculează media numărului de cuvinte per paragraf.\n",
    "- Calculează procentul de întrebări fără răspuns."
   ]
  },
  {
   "cell_type": "code",
   "execution_count": null,
   "metadata": {},
   "outputs": [],
   "source": [
    "# Soluția ta\n",
    "\n",
    "\n",
    "\n"
   ]
  }
 ],
 "metadata": {
  "kernelspec": {
   "display_name": "Python 3 (ipykernel)",
   "language": "python",
   "name": "python3"
  },
  "language_info": {
   "codemirror_mode": {
    "name": "ipython",
    "version": 3
   },
   "file_extension": ".py",
   "mimetype": "text/x-python",
   "name": "python",
   "nbconvert_exporter": "python",
   "pygments_lexer": "ipython3",
   "version": "3.11.5"
  }
 },
 "nbformat": 4,
 "nbformat_minor": 2
}
