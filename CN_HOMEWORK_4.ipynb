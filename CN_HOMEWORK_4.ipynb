{
 "cells": [
  {
   "cell_type": "markdown",
   "id": "628de53f",
   "metadata": {},
   "source": [
    "# Laborator Calcul Numeric - Tema 4\n",
    "\n",
    "## Secțiunea 1 - Metoda secantei de ordinul II (6p)"
   ]
  },
  {
   "cell_type": "markdown",
   "id": "1384847e-be11-4cfa-8578-60aa033d230f",
   "metadata": {},
   "source": [
    "**I.1. Implementarea algoritmului - Metoda secantei de ordinul II - 2p**\n",
    "\n",
    "Metoda secantei de ordinul 2 poate fi dedusă din metoda tangentei aproximând derivata funcției $f'(x_{n-1}) \\approx \\frac{f(x_{n-1})-f(x_{n-2})}{x_{n-1}-x_{n-2}}$. Astfel, relația de recurență devine de ordinul II:\n",
    "\n",
    "\n",
    "$$ x_{n} = x_{n-1} - \\frac{f(x_{n-1})(x_{n-1}-x_{n-2})}{f(x_{n-1})-f(x_{n-2})} $$\n",
    "unde:\n",
    "- $ x_n $ este aproximarea curentă a rădăcinii\n",
    "- $ f(x_n) $ este valoarea funcției în punctul $ x_n $\n",
    "- $ x_{n-1}, x_{n-2} $ sunt aproximările anterioare ale rădăcinii\n",
    "- $ n $ este numărul iterației\n",
    "\n",
    "Cerințe:\n",
    "- Implementați funcția `secant_method_2(f, x0, x1, epsilon=1e-5, N=100)`.\n",
    "- Testați funcția implementată pentru găsirea rădăcinii funcției $ f(x) = x^3 - 7x^2 + 14x - 6 $, cu $ x_0 = 0 $ și $ x_1 = 1 $."
   ]
  },
  {
   "cell_type": "code",
   "execution_count": null,
   "id": "d9a47ba9",
   "metadata": {},
   "outputs": [],
   "source": [
    "def secant_method_2(f, x0, x1, epsilon=1e-5, N=100):\n",
    "    \"\"\"\n",
    "    Metoda secantei de ordinul 2 pentru găsirea rădăcinii funcției f.\n",
    "\n",
    "    :param f: funcția pentru care se găsește rădăcina\n",
    "    :param x0: prima aproximare a rădăcinii\n",
    "    :param x1: a doua aproximare a rădăcinii\n",
    "    :param epsilon: eroarea acceptată pentru rădăcină\n",
    "    :param N: numărul maxim de iterații\n",
    "    :return: rădăcina găsită\n",
    "    \"\"\"\n",
    "    raise NotImplementedError(\"Implementarea funcției nu este completă!\")\n",
    "\n",
    "# test\n",
    "f = lambda x: x**3 - 7*x**2 + 14*x - 6\n",
    "x0 = 0\n",
    "x1 = 1\n",
    "root = secant_method_2(f, x0, x1)\n",
    "print(\"Rădăcina găsită este:\", root)"
   ]
  },
  {
   "cell_type": "markdown",
   "id": "a58b53e6",
   "metadata": {
    "collapsed": false,
    "jupyter": {
     "outputs_hidden": false
    }
   },
   "source": [
    "**I.2. Polinoame și un paradox numeric - 3p**\n",
    "\n",
    "Vom analiza cum se descurcă această metodă pentru aproximarea rădăcinilor pentru polinoame de ordin din ce în ce mai mare.\n",
    "Pentru aceasta, vom genera diferite polinoame și vom calcula o rădăcină a acestora folosind metoda secantei de ordinul II.\n",
    "\n",
    "- Implementați funcția `generate_polynomial(n)`, care generează un polinom de gradul $n$ cu coeficienți aleatori."
   ]
  },
  {
   "cell_type": "code",
   "execution_count": null,
   "id": "3beb5504",
   "metadata": {
    "ExecuteTime": {
     "end_time": "2024-04-14T22:26:39.514639Z",
     "start_time": "2024-04-14T22:26:39.492196Z"
    },
    "collapsed": false,
    "jupyter": {
     "outputs_hidden": false
    }
   },
   "outputs": [],
   "source": [
    "import numpy as np\n",
    "def generate_polynomial(n):\n",
    "    \"\"\"\n",
    "    Generează un polinom de gradul n cu coeficienți aleatori.\n",
    "\n",
    "    :param n: gradul polinomului\n",
    "    :return: polinomul sub formă de funcție\n",
    "    \"\"\"\n",
    "    coefficients = np.random.uniform(-10, 10, degree+1)\n",
    "    raise NotImplementedError(\"Implementarea funcției nu este completă!\")\n",
    "\n",
    "# test\n",
    "degree = 3\n",
    "polynomial = generate_polynomial(degree)\n",
    "print(\"Polinomul generat este:\", polynomial)"
   ]
  },
  {
   "cell_type": "markdown",
   "id": "e3b47312",
   "metadata": {
    "collapsed": false,
    "jupyter": {
     "outputs_hidden": false
    }
   },
   "source": [
    "-  Scrieți o funcție `average_iterations(n, N=100)` care să returneze numărul mediu de iterații necesare pentru găsirea rădăcinii pentru un polinom de gradul $n$. Numărul mediu se va calcula pe baza a $N$ rulări ale metodei secantei de ordinul II. Veți considera toleranța de $10^{-5}$ și un număr de 100 repetiții. Dacă metoda nu converge (se atinge numărul maxim de iterații), nu veți lua în considerare acea rulare."
   ]
  },
  {
   "cell_type": "code",
   "execution_count": null,
   "id": "1dacf961",
   "metadata": {
    "collapsed": false,
    "jupyter": {
     "outputs_hidden": false
    }
   },
   "outputs": [],
   "source": [
    "def average_iterations(n, N=100):\n",
    "    \"\"\"\n",
    "    Calculează numărul mediu de iterații necesare pentru găsirea rădăcinii pentru un polinom de gradul n.\n",
    "\n",
    "    :param n: gradul polinomului\n",
    "    :param N: numărul de rulări ale metodei secantei\n",
    "    :return: numărul mediu de iterații\n",
    "    \"\"\"\n",
    "    raise NotImplementedError(\"Implementarea funcției nu este completă!\")"
   ]
  },
  {
   "cell_type": "markdown",
   "id": "9551e349",
   "metadata": {
    "collapsed": false,
    "jupyter": {
     "outputs_hidden": false
    }
   },
   "source": [
    "- Folosind funcțiile implementate anterior, generați polinoame de gradul 2 până la 30 și calculați numărul mediu de iterații necesare pentru găsirea rădăcinii pentru fiecare grad. Plotați rezultatele obținute (numărul de iterații în funcție de gradul polinomului). Pentru puncte în plus, poți calcula deviația standard a numărului de iterații pentru fiecare grad și o poți afișa pe grafic sub formă de error bar."
   ]
  },
  {
   "cell_type": "code",
   "execution_count": null,
   "id": "7e7b7159",
   "metadata": {
    "collapsed": false,
    "jupyter": {
     "outputs_hidden": false
    }
   },
   "outputs": [],
   "source": [
    "from matplotlib import pyplot as plt"
   ]
  },
  {
   "cell_type": "markdown",
   "id": "b8442a44",
   "metadata": {
    "collapsed": false,
    "jupyter": {
     "outputs_hidden": false
    }
   },
   "source": [
    "**I.3. Concluzii - 1p**\n",
    "\n",
    "Ce concluzii poți trage din graficul obținut? De ce crește/scade numărul de iterații odată cu creșterea gradului polinomului?\n"
   ]
  },
  {
   "cell_type": "markdown",
   "id": "084ebb12",
   "metadata": {
    "collapsed": false,
    "jupyter": {
     "outputs_hidden": false
    }
   },
   "source": [
    "**Concluzia ta (dublu click pentru a edita):**"
   ]
  },
  {
   "cell_type": "markdown",
   "id": "f0413d24-ed51-4f6d-805e-e1353e8d7034",
   "metadata": {},
   "source": [
    "\n",
    "## Secțiunea 2 - Metoda trisecției (4p)\n",
    "Metoda trisecției se aseamănă cu metoda bisecției, însă în loc să divizeze intervalul în două, îl împarte în trei părți. Astfel, se alege un punct intermediar $ x_C = \\frac{x_L + x_R}{2} $ și se calculează două puncte $ x_m $ și $ x_{0m} $ ca în algoritmul de mai jos. Capetele noului interval se decid cu ajutorul numerelor k-Lucas $ l^k_{n-m+1} $, $ l^k_{n-m+2} $ și $ l^k_{n-m+3} $, unde $ k $ este un număr natural, $m$ este dat de numărul iterației, iar $ n $ este numărul total de iterații.\n",
    "\n",
    "#### Algoritmul metodei trisecției\n",
    "\n",
    "Pasul 1. Introduceti $k$, $n$, $x_L$, $x_R$, $f$.\n",
    "\n",
    "Pasul 2. Luati $i = 0$, $m = 0$.\n",
    "\n",
    "Pasul 3. $i = i + 1$.\n",
    "\n",
    "Pasul 4. Daca $f(x_L) = 0$, atunci radacina = $x_L$ si treci la Pasul 17.\n",
    "\n",
    "Pasul 5. Daca $f(x_R) = 0$, atunci radacina = $x_R$ si treci la Pasul 17.\n",
    "\n",
    "Pasul 6. $x_C = \\frac{x_R + x_L}{2}$.\n",
    "\n",
    "Pasul 7. Daca $f(x_C) = 0$, atunci radacina = $x_C$ si treci la Pasul 17.\n",
    "\n",
    "Pasul 8. $m = m + 1$.\n",
    "\n",
    "Pasul 9. Calculati punctele: $x_m = x_L + (x_R - x_L)\\frac{l^k_{n-m+1}}{l^k_{n-m+3}}$, $x_{0m} = x_L + (x_R - x_L)\\frac{l^k_{n-m+2}}{l^k_{n-m+3}}$.\n",
    "\n",
    "Pasul 10. Daca $f(x_m) = 0$, atunci radacina = $x_m$ si treci la Pasul 17.\n",
    "\n",
    "Pasul 11. Daca $f(x_{0m}) = 0$, atunci radacina = $x_{0m}$ si treci la Pasul 17.\n",
    "\n",
    "Pasul 12.\n",
    "- Cazul I. daca $f(x_L) \\cdot f(x_m) < 0$ atunci $x_R = x_m$.\n",
    "- Cazul II. daca $f(x_m) \\cdot f(x_C) < 0$ atunci $x_L = x_m$ si $x_R = x_C$.\n",
    "- Cazul III. daca $f(x_C) \\cdot f(x_{0m}) < 0$ atunci $x_L = x_C$ si $x_R = x_{0m}$.\n",
    "- Cazul IV. daca $f(x_R) \\cdot f(x_{0m}) < 0$ atunci $x_L = x_{0m}$.\n",
    "      \n",
    "Pasul 13. Daca $(x_R - x_L) > \\epsilon$, mergi la Pasul 3.\n",
    "\n",
    "Pasul 14. radacina = $x_L$.\n",
    "\n",
    "Pasul 15. Gaseste punctele unde functia isi atinge valorile maxime si minime.\n",
    "\n",
    "Pasul 16. Verifica daca aceste puncte sunt radacini ale functiei sau nu.\n",
    "\n",
    "Pasul 17. Sfarsit.\n",
    "\n",
    "**O implementare în matlab a algoritmului poate fi găsită în prima anexă a articolului de pe moodle (Demir, 2008).**"
   ]
  },
  {
   "cell_type": "markdown",
   "id": "20a70b60",
   "metadata": {
    "collapsed": false,
    "jupyter": {
     "outputs_hidden": false
    }
   },
   "source": [
    "#### Numerele k-Lucas\n",
    "Numerele k-Lucas sunt definite ca o secvență de numere întregi, definite recursiv astfel:\n",
    "- $ l^k_j = 2^{j-1} $, pentru $ 1 \\leq j < k $\n",
    "- $ l^k_k = 2^{k-1} - 1 $\n",
    "- $ l^k_j = l^k_{j-1} + l^k_{j-2} + ... + l^k_{j-k} $, pentru $ j > k $\n"
   ]
  },
  {
   "cell_type": "markdown",
   "id": "06fccf21",
   "metadata": {
    "collapsed": false,
    "jupyter": {
     "outputs_hidden": false
    }
   },
   "source": [
    "**II.1. Numerele k-Lucas - 1p**\n",
    "\n",
    "Implementați funcția `k_lucas(k, p)` care returnează numărul k-Lucas cu poziția $p$, $l^k_p$."
   ]
  },
  {
   "cell_type": "code",
   "execution_count": 1,
   "id": "3a55dd57",
   "metadata": {
    "collapsed": false,
    "jupyter": {
     "outputs_hidden": false
    }
   },
   "outputs": [],
   "source": [
    "def k_lucas(k, p):\n",
    "    \"\"\"\n",
    "    Calculează numărul k-Lucas de pe poziția p.\n",
    "\n",
    "    :param k: numărul k\n",
    "    :param p: poziția\n",
    "    :return: numărul k-Lucas de pe poziția p\n",
    "    \"\"\"\n",
    "    raise NotImplementedError(\"Implementarea funcției nu este completă!\")"
   ]
  },
  {
   "cell_type": "markdown",
   "id": "07ddef52",
   "metadata": {
    "collapsed": false,
    "jupyter": {
     "outputs_hidden": false
    }
   },
   "source": [
    "**II.2. Implementarea algoritmului - Metoda trisecției - 2p**\n",
    "\n",
    "- Implementați funcția `trisection_method(f, k, n, x_L, x_R, epsilon=1e-5)` pentru găsirea rădăcinii funcției $f$ urmând algoritmul de mai sus.\n",
    "- Testați funcția implementată pentru găsirea rădăcinii funcției $ f(x) = x^2 + x - 6 $, cu $k=5$, $n=70$, $ x_L = 1 $ și $ x_R = 10 $. Câte iterații au fost necesare?"
   ]
  },
  {
   "cell_type": "code",
   "execution_count": null,
   "id": "4fbf349f",
   "metadata": {
    "collapsed": false,
    "jupyter": {
     "outputs_hidden": false
    }
   },
   "outputs": [],
   "source": [
    "def trisection_method(f, x_L, x_R, epsilon=1e-5):\n",
    "    \"\"\"\n",
    "    Metoda trisecției pentru găsirea rădăcinii funcției f.\n",
    "\n",
    "    :param f: funcția pentru care se găsește rădăcina\n",
    "    :param x_L: capătul stâng al intervalului\n",
    "    :param x_R: capătul drept al intervalului\n",
    "    :param epsilon: eroarea acceptată pentru rădăcină\n",
    "    :return: rădăcina găsită\n",
    "    \"\"\"\n",
    "    raise NotImplementedError(\"Implementarea funcției nu este completă!\")\n",
    "\n",
    "# test\n",
    "# scrieți voi testul"
   ]
  },
  {
   "cell_type": "markdown",
   "id": "6a9fd8c0",
   "metadata": {
    "collapsed": false,
    "jupyter": {
     "outputs_hidden": false
    }
   },
   "source": [
    "**II.3. Compararea metodei trisecției cu metoda bisecției - 1p**\n",
    "\n",
    "- Comparați numărul de iterații necesare pentru găsirea rădăcinii funcției $ f(x) = x^2 + x - 6 $ folosind metoda trisecției cu $k=5$ și metoda bisecției. Folosiți $ x_L = 1 $ și $ x_R = 10 $ pentru ambele metode. Ce metodă converge mai repede?"
   ]
  },
  {
   "cell_type": "code",
   "execution_count": null,
   "id": "3c524b23",
   "metadata": {
    "collapsed": false,
    "jupyter": {
     "outputs_hidden": false
    }
   },
   "outputs": [],
   "source": []
  }
 ],
 "metadata": {
  "kernelspec": {
   "display_name": "Python 3 (ipykernel)",
   "language": "python",
   "name": "python3"
  },
  "language_info": {
   "codemirror_mode": {
    "name": "ipython",
    "version": 3
   },
   "file_extension": ".py",
   "mimetype": "text/x-python",
   "name": "python",
   "nbconvert_exporter": "python",
   "pygments_lexer": "ipython3",
   "version": "3.11.5"
  }
 },
 "nbformat": 4,
 "nbformat_minor": 5
}
