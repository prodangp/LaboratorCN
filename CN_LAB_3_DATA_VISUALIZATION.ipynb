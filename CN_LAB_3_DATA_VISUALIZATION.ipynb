{
 "cells": [
  {
   "cell_type": "markdown",
   "metadata": {},
   "source": [
    "# Calcul Numeric - Laborator 3 - Data Visualization"
   ]
  },
  {
   "cell_type": "markdown",
   "metadata": {},
   "source": [
    "## Data science este OSEMN\n",
    "\n",
    "Conform unui model popular, elementele data science-ului modern sunt:\n",
    "\n",
    "- **Obținerea datelor**. Datele pot fi obținute în mai multe moduri, fie direct prin citirea și preprocesarea datelor din surse diferite, fie prin simulare, fie prin colectarea propriului set de date sau prin alte metode.\n",
    "- **Sistemarea datelor**. Se referă la pre-procesarea și pregătirea datelor pentru analiză, identificând și rezolvând erori, inconsistențe și inexactități. Scopul este de a îmbunătăți calitatea setului de date și de a asigura că este potrivit pentru analiza sau sarcina de învățare automată planificată.\n",
    "- **Explorarea/vizualizarea datelor**. În timpul etapei de explorare, lumea analizează și explorează datele pentru a obține insights, identifica modele și înțelege relațiile dintre variabile. Tehnici de vizualizare sau statistice sunt adesea utilizate în această etapă.\n",
    "- **Modelarea datelor**. Implică construirea modelelor de învățare automată sau modelelor statistice pentru a face predicții, clasifica datele sau pentru a avea o înțelegere mai profundă a modelelor identificate în etapa de explorare.\n",
    "- **Interpretarea datelor**. Interpretarea rezultatelor analizei este ultimul pas. Aici, se atribuie o semnificație la ceea ce a fost obținut și se pun o mulțime de întrebări. De ce arată așa rezultatele? Trebuia să ne așteptăm la asta? Ce putem concluziona?\n",
    "\n",
    "\n",
    "Și de aici acronimul OSEMN, pronunțat „Awesome”.\n",
    "\n",
    "\n",
    "### Obiectivul laboratorului\n",
    "\n",
    "În acest laborator ne vom concentra asupra modului în care se obțin, preprocesează și vizualizează datele - în principal, pe primele trei etape."
   ]
  },
  {
   "cell_type": "markdown",
   "metadata": {},
   "source": [
    "## Obținerea datelor - citirea/scrierea fișierelor"
   ]
  },
  {
   "cell_type": "markdown",
   "metadata": {},
   "source": [
    "Accesul la date este un aspect critic. Datele pot exista fie în domenii publice, fie pe servere remote. Tratarea datelor publice este adesea simplă, dar când vine vorba de date externe, există anumite chestiuni de luat în considerare.\n",
    "\n",
    "Indiferent de locația datelor, gestionarea seturilor de date poate deveni complexă, în special cu seturi de date mai mari. Deși nu vom intra în detaliile gestionării a astfel de date, este bine de știut. Stocarea datelor direct într-un repository de Git nu este recomandată.\n",
    "\n",
    "Acum veți crea simplu un director dedicat și veți copia acolo seturile de date. Acest lucru poate fi realizat într-un terminal urmând următorii pași:\n",
    "\n",
    "- creați un director de date în directorul curent\n",
    "\n",
    "``mkdir ./data/``\n",
    "\n",
    "- verificați conținutul (care acum este gol, desigur)\n",
    "\n",
    "``ls -ltr ./data/`` sau ``dir ./data/``\n",
    "\n",
    "- în cazul în care doriți să vă deplasați acolo:\n",
    "\n",
    "``cd ./data/``\n",
    "\n",
    "### Descărcarea datelor \n",
    "Acest server găzduiește o colecție de seturi de date intrigante - https://archive.ics.uci.edu/datasets, create special pentru ML. În secțiunile următoare, vom utiliza setul de date Iris, unul dintre cele mai vechi seturi de date."
   ]
  },
  {
   "cell_type": "code",
   "execution_count": null,
   "metadata": {
    "scrolled": false
   },
   "outputs": [],
   "source": [
    "# deci descărcăm setul de data\n",
    "!wget https://archive.ics.uci.edu/static/public/53/iris.zip -P ./data/\n",
    "# facem unzip\n",
    "!tar -xf ./data/iris.zip -C ./data/\n",
    "# dacă nu merge comanda, încearcă să îl dezarhivezi manual"
   ]
  },
  {
   "cell_type": "markdown",
   "metadata": {},
   "source": [
    "### Formate \n",
    "Seturile de date prezintă o multitudine de formate de stocare, adesea adaptate la aplicații specifice, deși eforturile de a stabili standarde sunt în creștere. Python are instrumente pentru o gamă largă de formate - vom folosi azi câteva dintre acestea.\n",
    "\n",
    "### Fișiere text\n",
    "Fișierele de text simplu sunt folosite în mod obișnuit pentru că sunt \"citibile\", la prețul unei eficiențe de stocare foarte reduse datorită densității scăzute de informație. UTF-8 este cea mai comună codare.\n",
    "\n",
    "Citirea (și scrierea) fișierelor text în Python este simplă:"
   ]
  },
  {
   "cell_type": "code",
   "execution_count": null,
   "metadata": {
    "scrolled": false
   },
   "outputs": [],
   "source": [
    "# in python\n",
    "with open('./data/iris.names', 'r') as file:   # deschidem fișierul în read mode ('r')\n",
    "    file_content = file.read() # citim conținutul?\n",
    "\n",
    "print(file_content)\n",
    "\n",
    "\n",
    "# windows - in notepad\n",
    "# !notepad ./data/iris.names\n",
    "\n",
    "# linux - cu cat, stiti voi\n",
    "# !cat ./data/iris.names"
   ]
  },
  {
   "cell_type": "markdown",
   "metadata": {},
   "source": [
    "### Fișiere în format CSV \n",
    "\n",
    "Ele sunt deja pre-structurate într-un mod tabular. Aceste fișiere sunt cunoscute în mod obișnuit sub denumirea de „comma separated values” (valori separate prin virgulă) (CSV), dar nu folosesc neapărat simbolul \",\" ca separator. Python oferă un pachet pentru a gestiona astfel de fișiere:"
   ]
  },
  {
   "cell_type": "code",
   "execution_count": null,
   "metadata": {},
   "outputs": [],
   "source": [
    "import csv\n",
    "\n",
    "with open('./data/iris.data') as data_file:\n",
    "    for line in csv.reader(data_file, delimiter=','):  # delimitatorul este adesea ghicit de cititor\n",
    "        # observați că elementele fiecărei linii sunt tratate ca stringuri\n",
    "        # dacă doriți să le convertiți în numere, trebuie să faceți asta manual\n",
    "        sepalLength, sepalWidth, \\\n",
    "        petalLength, petalWidth = map(float, line[:-1])  # aici folosim map cu funcția float pentru a converti fiecare string\n",
    "        category = line[-1]\n",
    "        print(sepalLength, sepalWidth, petalLength, petalWidth)\n",
    "        break  # afișăm doar prima linie - adică oprim cu break for-ul de mai sus\n"
   ]
  },
  {
   "cell_type": "markdown",
   "metadata": {},
   "source": [
    "\n",
    "Uneori, fișierele CSV conțin comentarii (de exemplu, începând cu '#'), care nu pot fi interpretate de cititor. Ar fi utile trucuri precum:\n",
    "\n",
    "```csv.reader(row for row in f if not row.startswith('#'))```\n"
   ]
  },
  {
   "cell_type": "markdown",
   "metadata": {},
   "source": [
    "### Fișierele JSON\n",
    "JSON reprezintă JavaScript Object Notation - un format folosit pe scară largă pentru partajarea resurselor web. Este foarte similar în structură cu un dicționar Python. Iată un exemplu:"
   ]
  },
  {
   "cell_type": "code",
   "execution_count": null,
   "metadata": {},
   "outputs": [],
   "source": [
    "%%file example.json\n",
    "{\n",
    "  \"employees\": [\n",
    "    {\n",
    "      \"id\": 1,\n",
    "      \"name\": \"John Doe\",\n",
    "      \"position\": \"Software Engineer\",\n",
    "      \"department\": \"Engineering\",\n",
    "      \"salary\": 80000\n",
    "    },\n",
    "    {\n",
    "      \"id\": 2,\n",
    "      \"name\": \"Jane Smith\",\n",
    "      \"position\": \"Data Scientist\",\n",
    "      \"department\": \"Data Science\",\n",
    "      \"salary\": 90000\n",
    "    }\n",
    "  ]\n",
    "}"
   ]
  },
  {
   "cell_type": "code",
   "execution_count": null,
   "metadata": {},
   "outputs": [],
   "source": [
    "import json\n",
    "data = json.load(open('example.json'))\n",
    "print(data)"
   ]
  },
  {
   "cell_type": "code",
   "execution_count": null,
   "metadata": {
    "scrolled": true
   },
   "outputs": [],
   "source": [
    "# poate fi manipulat în continuare ca și un dicționar obișnuit\n",
    "data['employees'][0]"
   ]
  },
  {
   "cell_type": "markdown",
   "metadata": {},
   "source": [
    "### Pandas\n",
    "Pandas se evidențiază ca instrumentul cel mai convenabil pentru citirea și prelucrarea seturilor de date formatate. Modulul `numpy` este excelent pentru calcul numeric, dar pentru a gestiona datele lipsă sau matricele cu tipuri mixte este necesară o muncă mai susținută. Modulul `pandas` este în prezent cel mai folosit instrument pentru manipularea datelor, furnizând structuri de date cu performanțe ridicate, ușor de utilizat și instrumente avansate de analiză a datelor."
   ]
  },
  {
   "cell_type": "code",
   "execution_count": null,
   "metadata": {},
   "outputs": [],
   "source": [
    "import pandas as pd\n",
    "file_name = \"./data/iris.data\"\n",
    "data = pd.read_csv(file_name, nrows=1000)\n",
    "data.columns = ['sepalLength', 'sepalWidth', 'petalLength', 'petalWidth', 'category']\n",
    "data"
   ]
  },
  {
   "cell_type": "code",
   "execution_count": null,
   "metadata": {
    "scrolled": false
   },
   "outputs": [],
   "source": [
    "%matplotlib inline\n",
    "data.plot.scatter(\"sepalLength\",\"sepalWidth\",)  \n",
    "data.hist(\"petalLength\")"
   ]
  },
  {
   "cell_type": "markdown",
   "metadata": {},
   "source": [
    "### Salvarea datelor - scriere în fișiere\n",
    "\n",
    "Există multiple posibilități pentru a-ți salva datele. Aici, vom explora trei posibilități."
   ]
  },
  {
   "cell_type": "code",
   "execution_count": null,
   "metadata": {},
   "outputs": [],
   "source": [
    "data_to_be_saved = data[['petalLength', 'petalWidth']] # deci vrem să salvăm mărimile petalelor\n",
    "data_to_be_saved['petalWidth'][100]"
   ]
  },
  {
   "cell_type": "code",
   "execution_count": null,
   "metadata": {},
   "outputs": [],
   "source": [
    "# METODA 1 - cu write\n",
    "text_file = open(\"data.txt\", \"w\")\n",
    "for col in data_to_be_saved:\n",
    "    for idx in range(len(data_to_be_saved['petalLength'])):\n",
    "        text_file.write(str(data_to_be_saved['petalLength'][idx]) + ', ' + str(data_to_be_saved['petalWidth'][idx]))\n",
    "        # new line\n",
    "        text_file.write('\\n')\n",
    "text_file.close()\n",
    "\n",
    "# METODA 2 - cu numpy\n",
    "import numpy as np\n",
    "np.savetxt('data_np.txt', data_to_be_saved)\n",
    "\n",
    "# METODA 3 - cu panda\n",
    "data_to_be_saved.to_csv('data_pd.txt', header=False, index=False)"
   ]
  },
  {
   "cell_type": "markdown",
   "metadata": {},
   "source": [
    "Verifică dacă cele trei fișiere s-au creat și aruncă o privire asupra lor."
   ]
  },
  {
   "cell_type": "markdown",
   "metadata": {},
   "source": [
    "### Exercițiu\n",
    "\n",
    "- Creați o listă aleatoare de numere și salvați-o într-un fișier text numit \"simple_data.txt\".\n",
    "- Creați o matrice aleatoare de dimensiune 5x5 și salvați-o într-un fișier text numit \"data.txt\".\n",
    "- Încărcați fișierul text salvat în punctul 2 și convertiți-l într-un fișier CSV (manual - fără a utiliza numpy, librarie csv sau pandas)."
   ]
  },
  {
   "cell_type": "code",
   "execution_count": null,
   "metadata": {},
   "outputs": [],
   "source": []
  },
  {
   "cell_type": "markdown",
   "metadata": {},
   "source": [
    "\n",
    "## Data Visualization - Partea I\n",
    "Graficele ar trebui să transmită cât mai multă informație posibil într-un mod intuitiv. Există multe reprezentări posibile.\n",
    "În acest laborator vom discuta despre histograme și scatter plots.\n",
    "\n",
    "### Scatter plots\n",
    "Diagramele de tip „scatter” sunt folosite pentru a compara două cantități, având ca principal obiectiv afișarea posibilelor corelații dintre ele.\n",
    "\n",
    "Este posibilă și afișarea mai multor seturi de valori pe același grafic, marcând punctele de date diferit, de exemplu, cu culori sau semne diferite.\n",
    "\n",
    "În cadrul acestui laborator vom folosi pachetul `matplotlib`. Dacă nu îl aveți instalat, folosiți `pip` - vezi laboratorul precedent."
   ]
  },
  {
   "cell_type": "code",
   "execution_count": null,
   "metadata": {},
   "outputs": [],
   "source": [
    "import matplotlib.pyplot as plt\n",
    "\n",
    "%matplotlib inline   \n",
    "# this is required only for Jupyter Notebooks - skip it if you will use another standard IDE\n",
    "\n",
    "import numpy as np\n",
    "# always useful"
   ]
  },
  {
   "cell_type": "markdown",
   "metadata": {},
   "source": [
    "Un grafic este o ierarhie de obiecte Python. Un obiect **Figure** este containerul extern pentru o reprezentare grafică matplotlib, care poate conține mai multe obiecte **Axes**. Un **Axes** se traduce în ceea ce considerăm a fi un singur plot sau grafic (fiți atenți deoarece în engleză plural la axes este axis, deci fiecare obiect Axes va avea doua axe - doua **axis**).\n",
    "\n",
    "Un obiect **Figure** este ca un container care conține unul sau mai multe obiecte **Axes** (reprezentări grafice efective). Sub **Axes** în ierarhie sunt obiecte mai mici cum ar fi marcajele de divizare, linii individuale, legende și casete de text. Aproape fiecare \"element\" al unui grafic este propriul său obiect manipulabil în Python.\n",
    "\n",
    "\n",
    "![](https://files.realpython.com/media/fig_map.bc8c7cabd823.png)"
   ]
  },
  {
   "cell_type": "code",
   "execution_count": null,
   "metadata": {},
   "outputs": [],
   "source": [
    "fig, _ = plt.subplots()\n",
    "print (type(fig))"
   ]
  },
  {
   "cell_type": "markdown",
   "metadata": {},
   "source": [
    "Deasupra, am creat două variabile cu plt.subplots(). Prima este un obiect **Figure** de nivel superior. A doua este o variabilă \"temporară\" de care nu avem nevoie încă, indicată cu o bară jos. Ierarhia figurii este ușor de accesat și putem de exemplu vedea tick-urile majore ale axei y a primului obiect Axes:"
   ]
  },
  {
   "cell_type": "code",
   "execution_count": null,
   "metadata": {},
   "outputs": [],
   "source": [
    "one_tick = fig.axes[0].yaxis.get_major_ticks()[0]\n",
    "print(one_tick.label1)\n",
    "print(type(one_tick))"
   ]
  },
  {
   "cell_type": "markdown",
   "metadata": {},
   "source": [
    "Mai sus, fig (o instanță de clasă **Figure**) are mai multe **Axes** (o listă, din care luăm primul element). Fiecare **Axes** are o yaxis și xaxis, fiecare având o colecție de \"major ticks\", și noi luăm primul.\n",
    "\n",
    "Documentația Matplotlib prezintă acest lucru ca o anatomie a figurii, mai degrabă decât o ierarhie explicită:"
   ]
  },
  {
   "cell_type": "code",
   "execution_count": null,
   "metadata": {},
   "outputs": [],
   "source": [
    "import numpy as np\n",
    "import matplotlib.pyplot as plt\n",
    "from matplotlib.ticker import AutoMinorLocator, MultipleLocator, FuncFormatter\n",
    "\n",
    "\n",
    "np.random.seed(19680801)\n",
    "\n",
    "X = np.linspace(0.5, 3.5, 100)\n",
    "Y1 = 3+np.cos(X)\n",
    "Y2 = 1+np.cos(1+X/0.75)/2\n",
    "Y3 = np.random.uniform(Y1, Y2, len(X))\n",
    "\n",
    "fig = plt.figure(figsize=(8, 8))\n",
    "ax = fig.add_subplot(1, 1, 1, aspect=1)\n",
    "\n",
    "\n",
    "def minor_tick(x, pos):\n",
    "    if not x % 1.0:\n",
    "        return \"\"\n",
    "    return \"%.2f\" % x\n",
    "\n",
    "ax.xaxis.set_major_locator(MultipleLocator(1.000))\n",
    "ax.xaxis.set_minor_locator(AutoMinorLocator(4))\n",
    "ax.yaxis.set_major_locator(MultipleLocator(1.000))\n",
    "ax.yaxis.set_minor_locator(AutoMinorLocator(4))\n",
    "ax.xaxis.set_minor_formatter(FuncFormatter(minor_tick))\n",
    "\n",
    "ax.set_xlim(0, 4)\n",
    "ax.set_ylim(0, 4)\n",
    "\n",
    "ax.tick_params(which='major', width=1.0)\n",
    "ax.tick_params(which='major', length=10)\n",
    "ax.tick_params(which='minor', width=1.0, labelsize=10)\n",
    "ax.tick_params(which='minor', length=5, labelsize=10, labelcolor='0.25')\n",
    "\n",
    "ax.grid(linestyle=\"--\", linewidth=0.5, color='.25', zorder=-10)\n",
    "\n",
    "ax.plot(X, Y1, c=(0.25, 0.25, 1.00), lw=2, label=\"Blue signal\", zorder=10)\n",
    "ax.plot(X, Y2, c=(1.00, 0.25, 0.25), lw=2, label=\"Red signal\")\n",
    "ax.plot(X, Y3, linewidth=0,\n",
    "        marker='o', markerfacecolor='w', markeredgecolor='k')\n",
    "\n",
    "ax.set_title(\"Anatomy of a figure\", fontsize=20, verticalalignment='bottom')\n",
    "ax.set_xlabel(\"X axis label\")\n",
    "ax.set_ylabel(\"Y axis label\")\n",
    "\n",
    "ax.legend()\n",
    "\n",
    "\n",
    "def circle(x, y, radius=0.15):\n",
    "    from matplotlib.patches import Circle\n",
    "    from matplotlib.patheffects import withStroke\n",
    "    circle = Circle((x, y), radius, clip_on=False, zorder=10, linewidth=1,\n",
    "                    edgecolor='black', facecolor=(0, 0, 0, .0125),\n",
    "                    path_effects=[withStroke(linewidth=5, foreground='w')])\n",
    "    ax.add_artist(circle)\n",
    "\n",
    "\n",
    "def text(x, y, text):\n",
    "    ax.text(x, y, text, backgroundcolor=\"white\",\n",
    "            ha='center', va='top', weight='bold', color='blue')\n",
    "\n",
    "\n",
    "# Minor tick\n",
    "circle(0.50, -0.10)\n",
    "text(0.50, -0.32, \"Minor tick label\")\n",
    "\n",
    "# Major tick\n",
    "circle(-0.03, 4.00)\n",
    "text(0.03, 3.80, \"Major tick\")\n",
    "\n",
    "# Minor tick\n",
    "circle(0.00, 3.50)\n",
    "text(0.00, 3.30, \"Minor tick\")\n",
    "\n",
    "# Major tick label\n",
    "circle(-0.15, 3.00)\n",
    "text(-0.15, 2.80, \"Major tick label\")\n",
    "\n",
    "# X Label\n",
    "circle(1.80, -0.27)\n",
    "text(1.80, -0.45, \"X axis label\")\n",
    "\n",
    "# Y Label\n",
    "circle(-0.27, 1.80)\n",
    "text(-0.27, 1.6, \"Y axis label\")\n",
    "\n",
    "# Title\n",
    "circle(1.60, 4.13)\n",
    "text(1.60, 3.93, \"Title\")\n",
    "\n",
    "# Blue plot\n",
    "circle(1.75, 2.80)\n",
    "text(1.75, 2.60, \"Line\\n(line plot)\")\n",
    "\n",
    "# Red plot\n",
    "circle(1.20, 0.60)\n",
    "text(1.20, 0.40, \"Line\\n(line plot)\")\n",
    "\n",
    "# Scatter plot\n",
    "circle(3.20, 1.75)\n",
    "text(3.20, 1.55, \"Markers\\n(scatter plot)\")\n",
    "\n",
    "# Grid\n",
    "circle(3.00, 3.00)\n",
    "text(3.00, 2.80, \"Grid\")\n",
    "\n",
    "# Legend\n",
    "circle(3.70, 3.80)\n",
    "text(3.70, 3.60, \"Legend\")\n",
    "\n",
    "# Axes\n",
    "circle(0.5, 0.5)\n",
    "text(0.5, 0.3, \"Axes\")\n",
    "\n",
    "# Figure\n",
    "circle(-0.3, 0.65)\n",
    "text(-0.3, 0.45, \"Figure\")\n",
    "\n",
    "color = 'blue'\n",
    "ax.annotate('Spines', xy=(4.0, 0.35), xycoords='data',\n",
    "            xytext=(3.3, 0.5), textcoords='data',\n",
    "            weight='bold', color=color,\n",
    "            arrowprops=dict(arrowstyle='->',\n",
    "                            connectionstyle=\"arc3\",\n",
    "                            color=color))\n",
    "\n",
    "ax.annotate('', xy=(3.15, 0.0), xycoords='data',\n",
    "            xytext=(3.45, 0.45), textcoords='data',\n",
    "            weight='bold', color=color,\n",
    "            arrowprops=dict(arrowstyle='->',\n",
    "                            connectionstyle=\"arc3\",\n",
    "                            color=color))\n",
    "\n",
    "ax.text(4.0, -0.4, \"Made with http://matplotlib.org\",\n",
    "        fontsize=10, ha=\"right\", color='.5')\n",
    "\n",
    "plt.show()"
   ]
  },
  {
   "cell_type": "markdown",
   "metadata": {},
   "source": [
    "### Ok, să trecem la exemple \n"
   ]
  },
  {
   "cell_type": "code",
   "execution_count": null,
   "metadata": {
    "scrolled": true
   },
   "outputs": [],
   "source": [
    "x = [1, 2, 3, 4, 5]\n",
    "y = [2, 4, 6, 8, 10]\n",
    "\n",
    "fig, ax = plt.subplots()\n",
    "\n",
    "ax.scatter(x, y, label='Linear Function') \n",
    "# ax.plot(x, y, label='Linear Function') # decomenteaza linia să vezi ce se întâmplă\n",
    "# ax.plot(x, y, 'o', label='Linear Function') # decomenteaza linia să vezi ce se întâmplă\n",
    "ax.set_xlabel('X-axis')\n",
    "ax.set_ylabel('Y-axis')\n",
    "ax.set_title('Basic Plot Example')\n",
    "ax.legend()\n",
    "\n",
    "plt.show()"
   ]
  },
  {
   "cell_type": "code",
   "execution_count": null,
   "metadata": {},
   "outputs": [],
   "source": [
    "x = np.linspace(0, 10, 100)  # generam x-uri pt a calcula valorile functiilor sin si cos mai jos\n",
    "y_1 = np.sin(x)\n",
    "y_2 = np.cos(x)\n",
    "\n",
    "fig, (ax1, ax2) = plt.subplots(nrows=1, ncols=2, figsize=(12, 5))\n",
    "\n",
    "ax1.plot(x, y_1, marker='o', color='red')\n",
    "ax1.set_title(r'$y=\\sin(x)$')\n",
    "ax1.set_xlabel('$x$')\n",
    "ax1.set_ylabel('$sin(x)$')\n",
    "\n",
    "\n",
    "ax2.plot(x, y_2, '^-b', label='cos')  # argumentul cheie label va fi folosit in legenda \n",
    "ax2.set_title(r'$y=\\cos(x)$')\n",
    "ax2.set_xlabel(r'$x$')\n",
    "ax2.set_ylabel(r'$cos(x)$')\n",
    "ax2.legend(loc=(0.65, 0.8)) # cu loc stabilim unde punem legenda, incearca s-o muti unde doresti\n",
    "ax2.yaxis.tick_right() # mutam tick urile pe dreapta\n",
    "\n",
    "plt.show()\n"
   ]
  },
  {
   "cell_type": "markdown",
   "metadata": {},
   "source": [
    "Câteva comentarii:\n",
    "\n",
    "- Odată ce se creează o Figură \"1x2\", rezultatul returnat de `plt.subplots(1, 2)` este acum un obiect Figure și un tablou NumPy de obiecte Axes. Alternativ:\n",
    "```\n",
    "fig, ax = plt.subplots(nrows=1, ncols=2, figsize=(8, 4))\n",
    "# ax este acum un tablou NumPy de axe\n",
    "```\n",
    "Lucrăm cu ax1 și ax2 individual, deci dacă facem ceva cu ax2, nimic nu se va întâmpla cu ax1 (vedeți mai sus cum am folosit tick_right doar pentru ax2)\n",
    "\n",
    "Textul dintre semnele de dolar utilizează marcare TeX (puteți încerca lucruri mai sofisticate LaTeX)."
   ]
  },
  {
   "cell_type": "markdown",
   "metadata": {},
   "source": [
    "### Exercițiu\n",
    "\n",
    "- Utilizați datele setului Iris și plotați lungimea sepalei în funcție de lungimea petalei.\n",
    "- Personalizați graficul cu diferite culori, marcaje și o legendă. Luați în considerare și documentația pentru mai multe opțiuni de personalizare: [Opțiuni de personalizare Matplotlib](https://matplotlib.org/1.3.1/api/pyplot_api.html#matplotlib.pyplot.plot)\n",
    "- Pe aceeași axă, plotați și lățimea petalei în funcție de lungimea petalei. Alegeți o culoare și un marcaj diferit și adăugați etichete sugestive pentru legendă pentru a le distinge între ele.\n"
   ]
  },
  {
   "cell_type": "code",
   "execution_count": null,
   "metadata": {},
   "outputs": [],
   "source": []
  },
  {
   "cell_type": "markdown",
   "metadata": {},
   "source": [
    "### Histograme\n",
    "\n",
    "Histograma reprezintă o funcție scalară, $f(x): {\\rm I\\!R}^n \\to {\\rm I\\!R}$, unde cel mult $n=2$. Sunt folosite în general pentru a evidenția caracteristicile distribuției datelor. Histograma este adesea utilizată pentru comparații între mai multe distribuții.\n",
    "\n",
    "#### O scurtă introducere matematică pentru cei curioși\n",
    "\n",
    "Histograma este \"îmbinată\", adică domeniul este împărțit în clase (binuri), adică pentru binul $i$-th avem $x_i<x\\le x_{i+1}$ și conținutul binului (să zicem $h(x)$) este $h(x)=\\frac{\\int_{x_{i}}^{x_{i+1}} f(x)}{x_{i+1}- x_{i}}$. Binurile nu trebuie să aibă neapărat aceeași dimensiune, adică ar putea fi cazul ca $(x_{i+1}- x_{i}) \\neq (x_{j+1}- x_{j})$ pentru $i\\neq j$. \n",
    "Dacă dimensiunea binului este mică, $h(x)\\simeq f(\\frac{x_{i+1}+x_{i}}{2})$.\n",
    "\n",
    "Alegerea numărului de binuri și a dimensiunii lor necesită multă atenție. În mod tipic, conținutul fiecărui bin $i$, $N_i$, ar trebui să fie statistic semnificativ, adică incertitudinea Poisson, $1/\\sqrt{N_i}$, ar trebui să fie mică.\n",
    "\n",
    "Adesea, o astfel de incertitudine merită să fie indicată, în special dacă distribuția este normalizată sau dacă conținutul binului provine dintr-o simulare (și, prin urmare, trebuie ponderat).\n",
    "\n",
    "#### Formă și Normalizare\n",
    "\n",
    "Există în esență două cantități care sunt transmise de o histogramă:\n",
    "   * Cantitatea totală de date, adică normalizarea acestora\n",
    "   * Forma sau distribuția diferențială, adică distribuția de probabilitate\n",
    "\n",
    "Ambele cantități pot fi exprimate separat, citând $N=\\sum f(x_i)$ numărul de intrări și afișând\n",
    "$f(x)/N$. De fapt, definiția factorului de normalizare ar putea fi ambiguă; ar putea fi fie $N$, fie \n",
    "$I=\\int f(x) dx$. Prima este cea mai frecvent utilizată (și cea mai utilă), dar cea din urmă este adesea implicită în metodele incorporate ale mai multor pachete de vizualizare.\n"
   ]
  },
  {
   "cell_type": "markdown",
   "metadata": {},
   "source": [
    "#### Exemplu pe setul de date Iris"
   ]
  },
  {
   "cell_type": "code",
   "execution_count": null,
   "metadata": {},
   "outputs": [],
   "source": [
    "# extragem coloana 'sepalLength'\n",
    "sepal_length = data['sepalLength']\n",
    "\n",
    "# generam histrograma\n",
    "plt.hist(sepal_length, bins=20, color='skyblue', edgecolor='black', label='Iris data')\n",
    "\n",
    "plt.xlabel('Lungime sepală')\n",
    "plt.ylabel('Frecvență')\n",
    "plt.title('Lungimea Sepalei - Iris Dataset')\n",
    "\n",
    "plt.legend()\n",
    "plt.show()"
   ]
  },
  {
   "cell_type": "markdown",
   "metadata": {},
   "source": [
    "Observă că în cazul histogramei, am folosit direct `plt.hist` în loc să folosim un Axes `ax` și `ax.hist`. Această metodă este convenabilă pentru plotări rapide, dar poate fi mai puțin flexibilă atunci când dorești să ai mai mult control asupra figurii și a mai multor subploturi. De asemenea, poți folosi `plt.plot` și acesta va crea automat Axes pentru tine.\n"
   ]
  },
  {
   "cell_type": "markdown",
   "metadata": {},
   "source": [
    "### Exercițiu\n",
    "\n",
    "- Creează aceeași histogramă folosind datele Iris, dar definește-ți propriul ax și plotează-o folosind `ax.hist`. Folosește $\\sqrt{N}$ binuri, unde $N$ este numărul de mostre utilizate în crearea histogramei.\n",
    "- Realizează un grafic cu `plt.plot` folosind oricare dintre datele Iris. Folosește o linie întreruptă (dashed line --).\n"
   ]
  },
  {
   "cell_type": "code",
   "execution_count": null,
   "metadata": {},
   "outputs": [],
   "source": []
  }
 ],
 "metadata": {
  "kernelspec": {
   "display_name": "Python 3 (ipykernel)",
   "language": "python",
   "name": "python3"
  },
  "language_info": {
   "codemirror_mode": {
    "name": "ipython",
    "version": 3
   },
   "file_extension": ".py",
   "mimetype": "text/x-python",
   "name": "python",
   "nbconvert_exporter": "python",
   "pygments_lexer": "ipython3",
   "version": "3.11.5"
  }
 },
 "nbformat": 4,
 "nbformat_minor": 2
}
