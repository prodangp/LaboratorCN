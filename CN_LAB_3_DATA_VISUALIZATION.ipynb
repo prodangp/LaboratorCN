{
 "cells": [
  {
   "cell_type": "markdown",
   "metadata": {},
   "source": [
    "# Calcul Numeric - Laborator 3 - Data Visualization"
   ]
  },
  {
   "cell_type": "markdown",
   "metadata": {
    "jp-MarkdownHeadingCollapsed": true
   },
   "source": [
    "## Data science este OSEMN\n",
    "\n",
    "Conform unui model popular, elementele data science-ului modern sunt:\n",
    "\n",
    "- **Obținerea datelor**. Datele pot fi obținute în mai multe moduri, fie direct prin citirea și preprocesarea datelor din surse diferite, fie prin simulare, fie prin colectarea propriului set de date sau prin alte metode.\n",
    "- **Sistemarea datelor**. Se referă la pre-procesarea și pregătirea datelor pentru analiză, identificând și rezolvând erori, inconsistențe și inexactități. Scopul este de a îmbunătăți calitatea setului de date și de a asigura că este potrivit pentru analiza sau sarcina de învățare automată planificată.\n",
    "- **Explorarea/vizualizarea datelor**. În timpul etapei de explorare, lumea analizează și explorează datele pentru a obține insights, identifica modele și înțelege relațiile dintre variabile. Tehnici de vizualizare sau statistice sunt adesea utilizate în această etapă.\n",
    "- **Modelarea datelor**. Implică construirea modelelor de învățare automată sau modelelor statistice pentru a face predicții, clasifica datele sau pentru a avea o înțelegere mai profundă a modelelor identificate în etapa de explorare.\n",
    "- **Interpretarea datelor**. Interpretarea rezultatelor analizei este ultimul pas. Aici, se atribuie o semnificație la ceea ce a fost obținut și se pun o mulțime de întrebări. De ce arată așa rezultatele? Trebuia să ne așteptăm la asta? Ce putem concluziona?\n",
    "\n",
    "\n",
    "Și de aici acronimul OSEMN, pronunțat „Awesome”.\n",
    "\n",
    "\n",
    "### Obiectivul laboratorului\n",
    "\n",
    "În acest laborator ne vom concentra asupra modului în care se obțin, preprocesează și vizualizează datele - în principal, pe primele trei etape."
   ]
  },
  {
   "cell_type": "markdown",
   "metadata": {},
   "source": [
    "## Obținerea datelor - citirea/scrierea fișierelor"
   ]
  },
  {
   "cell_type": "markdown",
   "metadata": {},
   "source": [
    "Accesul la date este un aspect critic. Datele pot exista fie în domenii publice, fie pe servere remote. Tratarea datelor publice este adesea simplă, dar când vine vorba de date externe, există anumite chestiuni de luat în considerare.\n",
    "\n",
    "Indiferent de locația datelor, gestionarea seturilor de date poate deveni complexă, în special cu seturi de date mai mari. Deși nu vom intra în detaliile gestionării a astfel de date, este bine de știut. Stocarea datelor direct într-un repository de Git nu este recomandată.\n",
    "\n",
    "Acum veți crea simplu un director dedicat și veți copia acolo seturile de date. Acest lucru poate fi realizat într-un terminal urmând următorii pași:\n",
    "\n",
    "- creați un director de date în directorul curent\n",
    "\n",
    "``mkdir ./data/``\n",
    "\n",
    "- verificați conținutul (care acum este gol, desigur)\n",
    "\n",
    "``ls -ltr ./data/`` sau ``dir ./data/``\n",
    "\n",
    "- în cazul în care doriți să vă deplasați acolo:\n",
    "\n",
    "``cd ./data/``\n",
    "\n",
    "### Descărcarea datelor \n",
    "Acest server găzduiește o colecție de seturi de date intrigante - https://archive.ics.uci.edu/datasets, create special pentru ML. În secțiunile următoare, vom utiliza setul de date Iris, unul dintre cele mai vechi seturi de date."
   ]
  },
  {
   "cell_type": "code",
   "execution_count": null,
   "metadata": {},
   "outputs": [],
   "source": [
    "# deci descărcăm setul de data\n",
    "!wget https://archive.ics.uci.edu/static/public/53/iris.zip -P ./data/\n",
    "# facem unzip\n",
    "!tar -xf ./data/iris.zip -C ./data/\n",
    "# dacă nu merge comanda, încearcă să îl dezarhivezi manual"
   ]
  },
  {
   "cell_type": "markdown",
   "metadata": {},
   "source": [
    "### Formate \n",
    "Seturile de date prezintă o multitudine de formate de stocare, adesea adaptate la aplicații specifice, deși eforturile de a stabili standarde sunt în creștere. Python are instrumente pentru o gamă largă de formate - vom folosi azi câteva dintre acestea.\n",
    "\n",
    "### Fișiere text\n",
    "Fișierele de text simplu sunt folosite în mod obișnuit pentru că sunt \"citibile\", la prețul unei eficiențe de stocare foarte reduse datorită densității scăzute de informație. UTF-8 este cea mai comună codare.\n",
    "\n",
    "Citirea (și scrierea) fișierelor text în Python este simplă:"
   ]
  },
  {
   "cell_type": "code",
   "execution_count": null,
   "metadata": {},
   "outputs": [],
   "source": [
    "# in python\n",
    "with open('./data/iris.names', 'r') as file:   # deschidem fișierul în read mode ('r')\n",
    "    file_content = file.read() # citim conținutul?\n",
    "\n",
    "print(file_content)\n",
    "\n",
    "\n",
    "# windows - in notepad\n",
    "# !notepad ./data/iris.names\n",
    "\n",
    "# linux - cu cat, stiti voi\n",
    "# !cat ./data/iris.names"
   ]
  },
  {
   "cell_type": "markdown",
   "metadata": {},
   "source": [
    "### Fișiere în format CSV \n",
    "\n",
    "Ele sunt deja pre-structurate într-un mod tabular. Aceste fișiere sunt cunoscute în mod obișnuit sub denumirea de „comma separated values” (valori separate prin virgulă) (CSV), dar nu folosesc neapărat simbolul \",\" ca separator. Python oferă un pachet pentru a gestiona astfel de fișiere:"
   ]
  },
  {
   "cell_type": "code",
   "execution_count": null,
   "metadata": {},
   "outputs": [],
   "source": [
    "import csv\n",
    "\n",
    "with open('./data/iris.data') as data_file:\n",
    "    for line in csv.reader(data_file, delimiter=','):  # delimitatorul este adesea ghicit de cititor\n",
    "        # observați că elementele fiecărei linii sunt tratate ca stringuri\n",
    "        # dacă doriți să le convertiți în numere, trebuie să faceți asta manual\n",
    "        sepalLength, sepalWidth, \\\n",
    "        petalLength, petalWidth = map(float, line[:-1])  # aici folosim map cu funcția float pentru a converti fiecare string\n",
    "        category = line[-1]\n",
    "        print(sepalLength, sepalWidth, petalLength, petalWidth)\n",
    "        break  # afișăm doar prima linie - adică oprim cu break for-ul de mai sus\n"
   ]
  },
  {
   "cell_type": "markdown",
   "metadata": {},
   "source": [
    "\n",
    "Uneori, fișierele CSV conțin comentarii (de exemplu, începând cu '#'), care nu pot fi interpretate de cititor. Ar fi utile trucuri precum:\n",
    "\n",
    "```csv.reader(row for row in f if not row.startswith('#'))```\n"
   ]
  },
  {
   "cell_type": "markdown",
   "metadata": {},
   "source": [
    "### Fișierele JSON\n",
    "JSON reprezintă JavaScript Object Notation - un format folosit pe scară largă pentru partajarea resurselor web. Este foarte similar în structură cu un dicționar Python. Iată un exemplu:"
   ]
  },
  {
   "cell_type": "code",
   "execution_count": null,
   "metadata": {},
   "outputs": [],
   "source": [
    "%%file example.json\n",
    "{\n",
    "  \"employees\": [\n",
    "    {\n",
    "      \"id\": 1,\n",
    "      \"name\": \"John Doe\",\n",
    "      \"position\": \"Software Engineer\",\n",
    "      \"department\": \"Engineering\",\n",
    "      \"salary\": 80000\n",
    "    },\n",
    "    {\n",
    "      \"id\": 2,\n",
    "      \"name\": \"Jane Smith\",\n",
    "      \"position\": \"Data Scientist\",\n",
    "      \"department\": \"Data Science\",\n",
    "      \"salary\": 90000\n",
    "    }\n",
    "  ]\n",
    "}"
   ]
  },
  {
   "cell_type": "code",
   "execution_count": null,
   "metadata": {},
   "outputs": [],
   "source": [
    "import json\n",
    "data = json.load(open('example.json'))\n",
    "print(data)"
   ]
  },
  {
   "cell_type": "code",
   "execution_count": null,
   "metadata": {
    "scrolled": true
   },
   "outputs": [],
   "source": [
    "# poate fi manipulat în continuare ca și un dicționar obișnuit\n",
    "data['employees'][0]"
   ]
  },
  {
   "cell_type": "markdown",
   "metadata": {},
   "source": [
    "### Pandas\n",
    "Pandas se evidențiază ca instrumentul cel mai convenabil pentru citirea și prelucrarea seturilor de date formatate. Modulul `numpy` este excelent pentru calcul numeric, dar pentru a gestiona datele lipsă sau matricele cu tipuri mixte este necesară o muncă mai susținută. Modulul `pandas` este în prezent cel mai folosit instrument pentru manipularea datelor, furnizând structuri de date cu performanțe ridicate, ușor de utilizat și instrumente avansate de analiză a datelor."
   ]
  },
  {
   "cell_type": "code",
   "execution_count": null,
   "metadata": {},
   "outputs": [],
   "source": [
    "import pandas as pd\n",
    "file_name = \"./data/iris.data\"\n",
    "data = pd.read_csv(file_name, nrows=1000)\n",
    "data.columns = ['sepalLength', 'sepalWidth', 'petalLength', 'petalWidth', 'category']\n",
    "data"
   ]
  },
  {
   "cell_type": "code",
   "execution_count": null,
   "metadata": {},
   "outputs": [],
   "source": [
    "%matplotlib inline\n",
    "data.plot.scatter(\"sepalLength\",\"sepalWidth\",)  \n",
    "data.hist(\"petalLength\")"
   ]
  },
  {
   "cell_type": "markdown",
   "metadata": {},
   "source": [
    "### Salvarea datelor - scriere în fișiere\n",
    "\n",
    "Există multiple posibilități pentru a-ți salva datele. Aici, vom explora trei posibilități."
   ]
  },
  {
   "cell_type": "code",
   "execution_count": null,
   "metadata": {},
   "outputs": [],
   "source": [
    "data_to_be_saved = data[['petalLength', 'petalWidth']] # deci vrem să salvăm mărimile petalelor\n",
    "data_to_be_saved['petalWidth'][100]"
   ]
  },
  {
   "cell_type": "code",
   "execution_count": null,
   "metadata": {},
   "outputs": [],
   "source": [
    "# METODA 1 - cu write\n",
    "text_file = open(\"data.txt\", \"w\")\n",
    "for col in data_to_be_saved:\n",
    "    for idx in range(len(data_to_be_saved['petalLength'])):\n",
    "        text_file.write(str(data_to_be_saved['petalLength'][idx]) + ', ' + str(data_to_be_saved['petalWidth'][idx]))\n",
    "        # new line\n",
    "        text_file.write('\\n')\n",
    "text_file.close()\n",
    "\n",
    "# METODA 2 - cu numpy\n",
    "import numpy as np\n",
    "np.savetxt('data_np.txt', data_to_be_saved)\n",
    "\n",
    "# METODA 3 - cu panda\n",
    "data_to_be_saved.to_csv('data_pd.txt', header=False, index=False)"
   ]
  },
  {
   "cell_type": "markdown",
   "metadata": {},
   "source": [
    "Verifică dacă cele trei fișiere s-au creat și aruncă o privire asupra lor."
   ]
  },
  {
   "cell_type": "markdown",
   "metadata": {},
   "source": [
    "### Exercițiu\n",
    "\n",
    "- Creați o listă aleatoare de numere și salvați-o într-un fișier text numit \"simple_data.txt\".\n",
    "- Creați o matrice aleatoare de dimensiune 5x5 și salvați-o într-un fișier text numit \"data.txt\".\n",
    "- Încărcați fișierul text salvat în punctul 2 și convertiți-l într-un fișier CSV (manual - fără a utiliza numpy, librarie csv sau pandas)."
   ]
  },
  {
   "cell_type": "code",
   "execution_count": null,
   "metadata": {},
   "outputs": [],
   "source": []
  },
  {
   "cell_type": "markdown",
   "metadata": {},
   "source": [
    "\n",
    "## Data Visualization\n",
    "Graficele ar trebui să transmită cât mai multă informație posibil într-un mod intuitiv. Există multe reprezentări posibile.\n",
    "În acest laborator vom discuta despre histograme și scatter plots.\n",
    "\n",
    "### Scatter plots\n",
    "Diagramele de tip „scatter” sunt folosite pentru a compara două cantități, având ca principal obiectiv afișarea posibilelor corelații dintre ele.\n",
    "\n",
    "Este posibilă și afișarea mai multor seturi de valori pe același grafic, marcând punctele de date diferit, de exemplu, cu culori sau semne diferite.\n",
    "\n",
    "În cadrul acestui laborator vom folosi pachetul `matplotlib`. Dacă nu îl aveți instalat, folosiți `pip` - vezi laboratorul precedent."
   ]
  },
  {
   "cell_type": "code",
   "execution_count": null,
   "metadata": {},
   "outputs": [],
   "source": [
    "import matplotlib.pyplot as plt\n",
    "import numpy as np"
   ]
  },
  {
   "cell_type": "markdown",
   "metadata": {},
   "source": [
    "Mai jos afișăm un exemplu simplu de reprezentare grafică. Pentu asta generăm două liste, una pentru axa Ox și alta pentru axa Oy. Folosim metoda `scatter` pentru a afișa punctele."
   ]
  },
  {
   "cell_type": "code",
   "execution_count": null,
   "metadata": {},
   "outputs": [],
   "source": [
    "x = [1, 2, 3, 4, 5]\n",
    "y = [2, 4, 6, 8, 10]\n",
    "\n",
    "fig, ax = plt.subplots()\n",
    "\n",
    "ax.scatter(x, y, label='Linear Function') \n",
    "ax.set_xlabel('X-axis')\n",
    "ax.set_ylabel('Y-axis')\n",
    "ax.set_title('Basic Plot Example')\n",
    "ax.legend()\n",
    "\n",
    "plt.show()"
   ]
  },
  {
   "cell_type": "markdown",
   "metadata": {},
   "source": [
    "### Exercițiu\n",
    "\n",
    "- Schimbați din metoda `scatter` în metoda `plot`. Ce observați?\n",
    "- Adăugați argumentul `color` în metoda de plotare și schimbați culoarea, e.g. `color='orange'`.\n",
    "- Adăugați încă un punct pe grafic."
   ]
  },
  {
   "cell_type": "markdown",
   "metadata": {},
   "source": [
    "#### Reprezentarea unei funcții. Subploturi.\n",
    "Mai jos aveți un exemplu despre cum să reprezentați funcția `sin` și `cos` pe două subploturi diferite ale aceleiași figuri. Vom folosi `linspace` pentru a genera valori de input pentru funcțiile pe care vrem să le trasăm pe grafic."
   ]
  },
  {
   "cell_type": "code",
   "execution_count": null,
   "metadata": {},
   "outputs": [],
   "source": [
    "x = np.linspace(0, 10, 100)  # generam x-uri pt a calcula valorile functiilor sin si cos mai jos\n",
    "y_1 = np.sin(x)\n",
    "y_2 = np.cos(x)\n",
    "\n",
    "fig, (ax1, ax2) = plt.subplots(nrows=1, ncols=2, figsize=(12, 5))\n",
    "\n",
    "ax1.plot(x, y_1, marker='o', color='red')\n",
    "ax1.set_title(r'$y=\\sin(x)$')\n",
    "ax1.set_xlabel('$x$')\n",
    "ax1.set_ylabel('$sin(x)$')\n",
    "\n",
    "\n",
    "ax2.plot(x, y_2, '^-b', label='cos')  # argumentul cheie label va fi folosit in legenda \n",
    "ax2.set_title(r'$y=\\cos(x)$')\n",
    "ax2.set_xlabel(r'$x$')\n",
    "ax2.set_ylabel(r'$cos(x)$')\n",
    "ax2.legend(loc=(0.65, 0.8)) # cu loc stabilim unde punem legenda, incearca s-o muti unde doresti\n",
    "ax2.yaxis.tick_right() # mutam tick urile pe dreapta\n",
    "\n",
    "plt.show()\n"
   ]
  },
  {
   "cell_type": "markdown",
   "metadata": {},
   "source": [
    "Câteva comentarii:\n",
    "\n",
    "- Odată ce se creează o Figură \"1x2\", rezultatul returnat de `plt.subplots(1, 2)` este acum un obiect Figure și un tablou NumPy de obiecte Axes. Alternativ:\n",
    "```\n",
    "fig, ax = plt.subplots(nrows=1, ncols=2, figsize=(8, 4))\n",
    "# ax este acum un tablou NumPy de axe\n",
    "```\n",
    "Lucrăm cu ax1 și ax2 individual, deci dacă facem ceva cu ax2, nimic nu se va întâmpla cu ax1 (vedeți mai sus cum am folosit tick_right doar pentru ax2)\n",
    "\n",
    "Textul dintre semnele de dolar utilizează marcare TeX (puteți încerca lucruri mai sofisticate LaTeX)."
   ]
  },
  {
   "cell_type": "markdown",
   "metadata": {},
   "source": [
    "### Exercițiu\n",
    "\n",
    "- Utilizați datele setului Iris și plotați lungimea sepalei în funcție de lungimea petalei.\n",
    "- Personalizați graficul cu diferite culori, marcaje și o legendă. Luați în considerare și documentația pentru mai multe opțiuni de personalizare: [Opțiuni de personalizare Matplotlib](https://matplotlib.org/stable/api/_as_gen/matplotlib.axes.Axes.plot.html)\n",
    "- Pe aceeași axă, plotați și lățimea petalei în funcție de lungimea petalei. Alegeți o culoare și un marcaj diferit și adăugați etichete sugestive pentru legendă pentru a le distinge între ele.\n"
   ]
  },
  {
   "cell_type": "code",
   "execution_count": null,
   "metadata": {},
   "outputs": [],
   "source": []
  },
  {
   "cell_type": "markdown",
   "metadata": {},
   "source": [
    "### Histograme\n",
    "\n",
    "Histograma reprezintă o funcție scalară, $f(x): {\\rm I\\!R}^n \\to {\\rm I\\!R}$, unde cel mult $n=2$. Sunt folosite în general pentru a evidenția caracteristicile distribuției datelor. Histograma este adesea utilizată pentru comparații între mai multe distribuții.\n",
    "\n",
    "#### O scurtă introducere matematică pentru cei curioși\n",
    "\n",
    "Histograma este \"îmbinată\", adică domeniul este împărțit în clase (binuri), adică pentru binul $i$-th avem $x_i<x\\le x_{i+1}$ și conținutul binului (să zicem $h(x)$) este $h(x)=\\frac{\\int_{x_{i}}^{x_{i+1}} f(x)}{x_{i+1}- x_{i}}$. Binurile nu trebuie să aibă neapărat aceeași dimensiune, adică ar putea fi cazul ca $(x_{i+1}- x_{i}) \\neq (x_{j+1}- x_{j})$ pentru $i\\neq j$. \n",
    "Dacă dimensiunea binului este mică, $h(x)\\simeq f(\\frac{x_{i+1}+x_{i}}{2})$.\n",
    "\n",
    "Alegerea numărului de binuri și a dimensiunii lor necesită multă atenție. În mod tipic, conținutul fiecărui bin $i$, $N_i$, ar trebui să fie statistic semnificativ, adică incertitudinea Poisson, $1/\\sqrt{N_i}$, ar trebui să fie mică.\n",
    "\n",
    "Adesea, o astfel de incertitudine merită să fie indicată, în special dacă distribuția este normalizată sau dacă conținutul binului provine dintr-o simulare (și, prin urmare, trebuie ponderat).\n",
    "\n",
    "#### Formă și Normalizare\n",
    "\n",
    "Există în esență două cantități care sunt transmise de o histogramă:\n",
    "   * Cantitatea totală de date, adică normalizarea acestora\n",
    "   * Forma sau distribuția diferențială, adică distribuția de probabilitate\n",
    "\n",
    "Ambele cantități pot fi exprimate separat, citând $N=\\sum f(x_i)$ numărul de intrări și afișând\n",
    "$f(x)/N$. De fapt, definiția factorului de normalizare ar putea fi ambiguă; ar putea fi fie $N$, fie \n",
    "$I=\\int f(x) dx$. Prima este cea mai frecvent utilizată (și cea mai utilă), dar cea din urmă este adesea implicită în metodele incorporate ale mai multor pachete de vizualizare.\n"
   ]
  },
  {
   "cell_type": "markdown",
   "metadata": {},
   "source": [
    "#### Exemplu pe setul de date Iris"
   ]
  },
  {
   "cell_type": "code",
   "execution_count": null,
   "metadata": {},
   "outputs": [],
   "source": [
    "# extragem coloana 'sepalLength'\n",
    "sepal_length = data['sepalLength']\n",
    "\n",
    "# generam histrograma\n",
    "plt.hist(sepal_length, bins=20, color='skyblue', edgecolor='black', label='Iris data')\n",
    "\n",
    "plt.xlabel('Lungime sepală')\n",
    "plt.ylabel('Frecvență')\n",
    "plt.title('Lungimea Sepalei - Iris Dataset')\n",
    "\n",
    "plt.legend()\n",
    "plt.show()"
   ]
  },
  {
   "cell_type": "markdown",
   "metadata": {},
   "source": [
    "Observă că în cazul histogramei, am folosit direct `plt.hist` în loc să folosim un Axes `ax` și `ax.hist`. Această metodă este convenabilă pentru plotări rapide, dar poate fi mai puțin flexibilă atunci când dorești să ai mai mult control asupra figurii și a mai multor subploturi. De asemenea, poți folosi `plt.plot` și acesta va crea automat Axes pentru tine.\n"
   ]
  },
  {
   "cell_type": "markdown",
   "metadata": {},
   "source": [
    "### Exercițiu\n",
    "\n",
    "- Creează aceeași histogramă folosind datele Iris, dar definește-ți propriul ax și plotează-o folosind `ax.hist`. Folosește $\\sqrt{N}$ binuri, unde $N$ este numărul de mostre utilizate în crearea histogramei.\n",
    "- Realizează un grafic cu `plt.plot` folosind oricare dintre datele Iris. Folosește o linie întreruptă (dashed line --).\n"
   ]
  },
  {
   "cell_type": "code",
   "execution_count": null,
   "metadata": {},
   "outputs": [],
   "source": []
  },
  {
   "cell_type": "markdown",
   "metadata": {},
   "source": [
    "## Grafice de contur și suprafață"
   ]
  },
  {
   "cell_type": "code",
   "execution_count": null,
   "metadata": {},
   "outputs": [],
   "source": [
    "from mpl_toolkits.mplot3d import Axes3D \n",
    "  \n",
    "a = np.cos(np.linspace(0, 2 * np.pi, 1000))\n",
    "b = np.sin(np.linspace(0, 2 * np.pi, 1000))\n",
    "a, b = np.meshgrid(a, b) \n",
    "  \n",
    "fig = plt.figure() \n",
    "axes = fig.add_subplot(projection = '3d')\n",
    "axes.contour(a, b, a**2 + b**2) \n",
    "plt.title('grafic de contur')\n",
    "plt.show() \n",
    "\n",
    "fig = plt.figure() \n",
    "axes = fig.add_subplot(projection = '3d')\n",
    "axes.plot_surface(a, b, a**2 + b**2) \n",
    "plt.title('grafic de suprafață')\n",
    "plt.show() "
   ]
  },
  {
   "cell_type": "markdown",
   "metadata": {},
   "source": [
    "#### Ce diferențe observati?"
   ]
  },
  {
   "cell_type": "markdown",
   "metadata": {},
   "source": [
    "## Plotarea imaginilor"
   ]
  },
  {
   "cell_type": "markdown",
   "metadata": {},
   "source": [
    "De obicei, imaginile se plotează cu metoda `imshow` din pachetul matplotlib (vezi [documentația](https://matplotlib.org/stable/api/_as_gen/matplotlib.pyplot.imshow.html#)). Cu ajutorul imaginilor putem vizualiza distribuții într-un spațiu bidimensional. Vom explora în continuare crearea imaginilor ce folosesc un colormap (o hartă de culori). Datele se vor introduce ca input pentru metoda `imshow` sub forma unei matrice 2D, iar harta de culoare va atribui fiecărui element din imagine (pixel) o anumită culoare corespunzătoare valorii din matrice a acelui element."
   ]
  },
  {
   "cell_type": "code",
   "execution_count": null,
   "metadata": {},
   "outputs": [],
   "source": [
    "import matplotlib.cm as cm\n",
    "step = 0.025\n",
    "x = y = np.arange(-3.0, 3.0, step)    \n",
    "X, Y = np.meshgrid(x, y)  # definim un grid cu valori cuprinse între -3 și 3 conform output-ul funcției arange\n",
    "\n",
    "def f(X, Y):\n",
    "    return (np.exp(-X**2 - Y**2) - np.exp(-(X - 1)**2 - (Y - 1)**2)) * 2   \n",
    "    \n",
    "\n",
    "# generăm valorile care vor fi vizualizate - folosim funcția f pe care o putem schimba după bunul plac\n",
    "Z = f(X, Y)\n",
    "# dacă X și Y sunt independente, atunci f se mai numește și funcție bivariată\n",
    "\n",
    "fig, ax = plt.subplots()\n",
    "im = ax.imshow(Z, cmap=cm.RdYlGn, extent=[-3, 3, -3, 3],\n",
    "               vmax=abs(Z).max(), vmin=-abs(Z).max())      # vmin și vmax sunt limitele impuse hărții de culoare\n",
    "fig.colorbar(im)   # creăm un colorbar (o bară de culori) pentru a vedea valorile corespunzătoare culorilor\n",
    "plt.show()"
   ]
  },
  {
   "cell_type": "markdown",
   "metadata": {},
   "source": [
    "#### De ce folosim meshgrid?"
   ]
  },
  {
   "cell_type": "code",
   "execution_count": null,
   "metadata": {},
   "outputs": [],
   "source": [
    "# un alt exemplu cu meshgrid\n",
    "x = np.arange(0, 1000, 100)\n",
    "y = np.arange(0, 5, 1)\n",
    "X, Y = np.meshgrid(x, y)\n",
    "print(f\"x={x}\")\n",
    "print(f\"y={y}\")\n",
    "print(f\"meshgrid output = {X, Y}\")\n",
    "\n",
    "# inițializăm grid-ul\n",
    "print(f'grid shape = {X.shape}')  # X și Y au același shape\n",
    "grid = np.empty(X.shape, dtype=\"<U10\")  # <U10 ---> string Unicode de lungime 10; little endian format\n",
    "\n",
    "\n",
    "# fiecare element din grid (un „pixel” din imagine) corespunde unei perechi (x, y)\n",
    "for i in range(grid.shape[0]):\n",
    "    for j in range(grid.shape[1]):\n",
    "        grid[i][j] = f\"x={x[j]}, y={y[i]}\"\n",
    "        \n",
    "print(grid)  \n",
    "\n",
    "\n",
    "# să calculăm de exemplu suma x + y pentru fiecare pereche (x, y) din grid\n",
    "print(X + Y) \n",
    "\n",
    "# în același mod am folosit meshgrid și în exemplul cu funcția bivariată f"
   ]
  },
  {
   "cell_type": "code",
   "execution_count": null,
   "metadata": {},
   "outputs": [],
   "source": [
    "# o imagine de probă\n",
    "import matplotlib.cbook as cbook\n",
    "image_path = cbook.get_sample_data('logo2.png', asfileobj=False)  \n",
    "# matplotlib are câteva date de probă, iar get_sample_data ne dă calea către aceste date\n",
    "# puteți modifica path-ul pentru o altă imagine de pe mașina voastră (de exemplu - C:\\Users\\georg\\OneDrive\\Imagini\\vadim.png)\n",
    "\n",
    "image_file = open(image_path, 'rb')  \n",
    "# r - pentru fișiere text, rb - pentru fișiere binare, trebuie adăugat b de la binar\n",
    "image = plt.imread(image_file)\n",
    "\n",
    "# imagini 256x256 pe 16 biți\n",
    "w, h = 256, 256\n",
    "with cbook.get_sample_data('s1045.ima.gz') as datafile:\n",
    "    s = datafile.read()\n",
    "A = np.frombuffer(s, np.uint16).astype(float).reshape((w, h))\n",
    "extent = (0, 25, 0, 25)\n",
    "\n",
    "\n",
    "fig, ax = plt.subplot_mosaic([\n",
    "    ['logo', 'mri']\n",
    "], figsize=(7, 3.5))\n",
    "\n",
    "# logo \n",
    "ax['logo'].imshow(image)\n",
    "ax['logo'].axis('off')  # deci nu afișăm axele (Ox și Oy) pentru imaginea de probă logo\n",
    "\n",
    "# MRI 256x256 \n",
    "im = ax['mri'].imshow(A, cmap=plt.cm.hot, origin='upper', extent=extent)\n",
    "markers = [(15.9, 14.5), (16.8, 15)]\n",
    "x, y = zip(*markers)\n",
    "ax['mri'].plot(x, y, 'o')   # mai plotăm doi markeri să vedem cum se face\n",
    "ax['mri'].set_title('MRI') \n",
    "\n",
    "plt.show()"
   ]
  },
  {
   "cell_type": "markdown",
   "metadata": {},
   "source": [
    "### Exercțiu\n",
    "- Generați un tablou cu 625 elemente folosind `linspace`\n",
    "- Aplicați un reshape pentru a obține o matrice pătratică și plotați aceasta folosind `imshow`.\n",
    "- Adăugați un colormap. Explorați diferite hărți de culoare: https://matplotlib.org/stable/gallery/color/colormap_reference.html"
   ]
  },
  {
   "cell_type": "code",
   "execution_count": null,
   "metadata": {},
   "outputs": [],
   "source": []
  },
  {
   "cell_type": "markdown",
   "metadata": {},
   "source": [
    "### Imagini de tip „Heatmap”"
   ]
  },
  {
   "cell_type": "markdown",
   "metadata": {},
   "source": [
    "Începem prin a defini datele. Avem nevoie de un tablou/o listă 2D care să conțină datele sub forma unui grid. Alte două liste sunt necesare pentru a eticheta fiecare element din tabloul 2D pe cele două axe. Fiecare element din grid va avea o perche distinctă de etichete. Un „heatmap” va fi în final un plot `imshow` cu etichete customizate (de obicei, string-uri în loc de valori numerice). Etichetele sunt setate folosind (`set_xticks`) pentru locații și (`set_xticklabels`) pentru nume. Locația etichetelor se definește printr-un număr întreg."
   ]
  },
  {
   "cell_type": "code",
   "execution_count": null,
   "metadata": {},
   "outputs": [],
   "source": [
    "vegetables = [\"cucumber\", \"tomato\", \"lettuce\", \"asparagus\",\n",
    "              \"potato\", \"wheat\", \"barley\"]\n",
    "farmers = [\"Farmer Joe\", \"Upland Bros.\", \"Smith Gardening\",\n",
    "           \"Agrifun\", \"Organiculture\", \"BioGoods Ltd.\", \"Cornylee Corp.\"]\n",
    "\n",
    "harvest = np.array([[0.8, 2.4, 2.5, 3.9, 0.0, 4.0, 0.0],\n",
    "                    [2.4, 0.0, 4.0, 1.0, 2.7, 0.0, 0.0],\n",
    "                    [1.1, 2.4, 0.8, 4.3, 1.9, 4.4, 0.0],\n",
    "                    [0.6, 0.0, 0.3, 0.0, 3.1, 0.0, 0.0],\n",
    "                    [0.7, 1.7, 0.6, 2.6, 2.2, 6.2, 0.0],\n",
    "                    [1.3, 1.2, 0.0, 0.0, 0.0, 3.2, 5.1],\n",
    "                    [0.1, 2.0, 0.0, 1.4, 0.0, 1.9, 6.3]])\n",
    "\n",
    "\n",
    "fig, ax = plt.subplots()\n",
    "im = ax.imshow(harvest)\n",
    "\n",
    "# afișăm toate etichetele și le atribuim numele folosind listele de mai sus\n",
    "ax.set_xticks(np.arange(len(farmers)), labels=farmers) \n",
    "ax.set_yticks(np.arange(len(vegetables)), labels=vegetables)\n",
    "\n",
    "# rotim etichetele de pe Ox cu 45 de grade în dreapta \n",
    "plt.setp(ax.get_xticklabels(), rotation=45, ha=\"right\",\n",
    "         rotation_mode=\"anchor\")\n",
    "\n",
    "# iterăm pentru a scrie cu text valorile numerice ale fiecărui element\n",
    "for i in range(len(vegetables)):\n",
    "    for j in range(len(farmers)):\n",
    "        text = ax.text(j, i, harvest[i, j],\n",
    "                       ha=\"center\", va=\"center\", color=\"w\")\n",
    "\n",
    "ax.set_title(\"Harvest of local farmers (in tons/year)\")\n",
    "fig.tight_layout()\n",
    "plt.show()"
   ]
  },
  {
   "cell_type": "markdown",
   "metadata": {},
   "source": [
    "Exemplul a fost preluat din documentația matplotlib: https://matplotlib.org/stable/gallery/images_contours_and_fields/image_annotated_heatmap.html\n",
    "\n",
    "Puteți găsi pe link-ul de mai sus și alte exemple de heatmap-uri, chiar și mai avansate."
   ]
  }
 ],
 "metadata": {
  "kernelspec": {
   "display_name": "Python 3 (ipykernel)",
   "language": "python",
   "name": "python3"
  },
  "language_info": {
   "codemirror_mode": {
    "name": "ipython",
    "version": 3
   },
   "file_extension": ".py",
   "mimetype": "text/x-python",
   "name": "python",
   "nbconvert_exporter": "python",
   "pygments_lexer": "ipython3",
   "version": "3.11.0"
  }
 },
 "nbformat": 4,
 "nbformat_minor": 4
}
