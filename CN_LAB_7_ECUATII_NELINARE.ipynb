{
 "cells": [
  {
   "cell_type": "markdown",
   "id": "91d86abf-d8bf-4ec0-a66c-a16a033ffa75",
   "metadata": {},
   "source": [
    "# Calcul Numeric - Laborator 7 - Metoda bisecției. Metoda coardei."
   ]
  },
  {
   "cell_type": "markdown",
   "id": "abe5608e-9a72-423d-83b6-bd381f4803d7",
   "metadata": {},
   "source": [
    "## Obiectiv\n",
    "În acest laborator, vom studia cele mai simple metode pentru estimarea soluțiilor ecuațiilor neliniare."
   ]
  },
  {
   "cell_type": "markdown",
   "id": "2e2d8503-d743-4482-aa36-65769e38e0bc",
   "metadata": {},
   "source": [
    "## Ecuații nelinare\n",
    "\n",
    "### Ce este o ecuație nelinară?\n",
    "O ecuație nelinară este orice ecuație care nu este de forma $ax+b=0$. Polinomul de gradul 2, $ax^2+bx+c=0$, este un exemplu de ecuație nelinară pe care o putem rezolva analitic foarte rapid. Un alt exemplu de ecuație neliniară prezentat și la curs este soluția următoarei ecuații diferențiale:\n",
    "$$\\frac{dN(t)}{dt}=\\lambda N(t)$$\n",
    "aceasta este una dintre cele mai simple ecuații diferențiale și se poate rezolva analtic foarte ușor separând variabilele și integrând:\n",
    "$$\\frac{dN(t)}{N(t)}=\\lambda dt$$\n",
    "$$\\int_{N_0}^{N(t)} \\frac{dN}{N} = \\int_0^t \\lambda dt$$\n",
    "$$\\therefore N(t)=N_0 e^{\\lambda t}$$\n",
    "Ecuația se poate complica puțin adăugând o constantă $\\nu$:\n",
    "$$\\frac{dN(t)}{dt}=\\lambda N(t) + \\nu$$\n",
    "soluția fiind\n",
    "$$N(t)=N_0 e^{\\lambda t} + \\frac{\\nu}{\\lambda}(e^{\\lambda t}-1)$$\n",
    "\n",
    "### Studiu de caz: estimarea ratei de natalitate\n",
    "\n",
    "Noi vom folosi această ecuație pentru a modela creșterea populației într-o comunitate.\n",
    "În acest caz, ceea ce putem măsura este numărul de persoane din acea comunitate adică $N$ și $N_0$. De asemenea, putem stabili și timpul la care am măsurat aceste valori. \n",
    "\n",
    "Din aceste măsurători putem determina rata de natalitate, $\\lambda$. Această rata va ajuta atunci când vrem să facem predicții de tipul *Cât va fi populația peste 5 ani?*\n",
    "\n",
    "#### Date\n",
    "\n",
    "Inițial avem $N_0=1.000.000$ dintre care $\\nu=435.000$ au migrat din comunitate în primul an. La sfârșitul anului, deci când $t=1$ an, populația s-a măsurat ca fiind $N=1.540.000$\n",
    "\n",
    "*Care este rata de natalitate?*\n",
    "\n",
    "Dacă introducem datele în ecuația de mai sus, se obține:\n",
    "$$1.564.000 = 1.000.000e^\\lambda + \\frac{435.000}{\\lambda}(e^\\lambda -1) $$\n",
    "\n",
    "Cum îl calculăm pe $\\lambda$? Este ușor să găsim o soluție analitică? Nu este la fel de simplu în comparație cu modelul simplificat, $N(t)=N_0 e^{\\lambda t}$, unde putem calcula direct $\\lambda=\\frac{ln(N/N_0)}{t}$.\n",
    "\n",
    "**Există deci ecuații neliniare pentru care este greu să găsim o soluție analitică. În acest caz, metodele de calcul numeric ne ajută să găsim o soluție aproximativă.**"
   ]
  },
  {
   "cell_type": "markdown",
   "id": "8eef274b-6ada-4d22-bf4e-5e08dd28dc7c",
   "metadata": {},
   "source": [
    "### Exercițiu\n",
    "Putem scrie ecuația anterioară sub forma $f(\\lambda)=0$. Problema noastră se reduce la afla $x$ pentru care $f(x)=0$.\n",
    "\n",
    "Pentru orice $x$ putem calcula:\n",
    "\n",
    "$$f(x) = 1.000.000e^x + \\frac{435.000}{x}(e^x -1) - 1.564.000$$\n",
    "\n",
    "\n",
    "- Scrie o funcție care calculează `f(x)` conform ecuației de mai sus."
   ]
  },
  {
   "cell_type": "code",
   "execution_count": null,
   "id": "200486f6-28a7-4db0-bb6e-0572f5a03387",
   "metadata": {
    "scrolled": true
   },
   "outputs": [],
   "source": [
    "def f(x):\n",
    "    return "
   ]
  },
  {
   "cell_type": "markdown",
   "id": "ff63ae47-38be-43a5-83d0-7fb538d1a9ae",
   "metadata": {},
   "source": [
    "## Metoda bisecției"
   ]
  },
  {
   "cell_type": "markdown",
   "id": "324ddefa-dc9c-41df-85d0-fc0d06db1de0",
   "metadata": {},
   "source": [
    "Vom estima rata de natalitate din datele de mai sus folosind metoda bisecției, una dintre cele mai simple metode de acest tip. Algoritmul pentru această metoda este descris în slide-ul 13 din cursul 6:\n",
    "\n",
    "*Fie $f:[a,b]\\rightarrow\\mathbb{R}$, continuă, astfel încât $f(a)f(b)<0$. Presupunem, în plus, că soluția $\\xi$ a ecuației $f(x)=0$ este unică în $(a,b)$. Considerăm următorul algoritm:*\n",
    "\n",
    "*Fie $I_0=[a_0,b_0]=[a,b]$ și $x_0=\\frac{a_0+b_0}{2}$*\n",
    "- *Dacă $f(a)f(x)<0$, atunci $b_1=x,a_1=a$ și luăm $I_1=[a_1,b_1]=[a,x]$*\n",
    "- *Dacă $f(x)f(b)>0$, atunci $a_1=x,b_1=b$ și luăm $I_1=[a_1,b_1]=[x,b]$*\n",
    "- *Dacă $f(x)=0$ înseamnă că $\\xi=x$; STOP.*"
   ]
  },
  {
   "cell_type": "markdown",
   "id": "4461c493-806a-4fae-b9cf-13b48b4ba370",
   "metadata": {},
   "source": [
    "Metoda bisecției este implementată și de funcția `fsolve` din `scipy.optimize`:"
   ]
  },
  {
   "cell_type": "code",
   "execution_count": null,
   "id": "eb562147-9e55-4641-bd22-adf4700bc371",
   "metadata": {},
   "outputs": [],
   "source": [
    "from scipy.optimize import fsolve\n",
    "import numpy as np\n",
    "fsolve(f, [0.01, 1])"
   ]
  },
  {
   "cell_type": "code",
   "execution_count": null,
   "id": "3cae3164-6c37-4cd0-8ff1-0aa69ff183f3",
   "metadata": {},
   "outputs": [],
   "source": [
    "def fsolve_bis(f, a, b, N=10):\n",
    "    for i in range(N):\n",
    "        raise NotImplementedError(\"Algoritm incomplet.\")\n",
    "        x = None\n",
    "        if f(a) * f(x) < 0:\n",
    "            b = x\n",
    "        else:\n",
    "            pass\n",
    "    return x\n",
    "a = 0.001 # de ce nu 0 că e mai frumos? pentru că f nu este definită pentru x = 0\n",
    "b = 1\n",
    "fsolve_bis(f, a, b)"
   ]
  },
  {
   "cell_type": "markdown",
   "id": "d9185f56-ce6f-4612-b55b-e94b7559134b",
   "metadata": {},
   "source": [
    "### Exercițiu\n",
    "- Completează implementarea funcției din celula anterioară și găsește soluția pentru rata de natalitate folosind 100 de iterații.\n",
    "- Evaluează eroarea absolută maximă, $\\delta \\lambda_{max}$, și exprimă rezultatul sub forma $\\lambda \\pm \\delta \\lambda_{max}$ folosind un număr potrivit de zecimale. *Indiciu: vezi slide-ul 17 din curs.*\n",
    " \n",
    "\n",
    "- Calculează eroarea $\\delta \\lambda$ luând în considerare valoarea obținută cu `scipy`. Compară această eroare cu eroarea calculată la punctul precedent. Sunt similare? Verifică dacă $\\delta \\lambda < \\delta \\lambda_{max}$ așa cum ne-am aștepta."
   ]
  },
  {
   "cell_type": "code",
   "execution_count": null,
   "id": "a206bb58-aa85-4acf-8f7a-2c0db694e210",
   "metadata": {},
   "outputs": [],
   "source": []
  },
  {
   "cell_type": "markdown",
   "id": "b8349b67-b693-4679-a76d-20a7cd15cdaa",
   "metadata": {},
   "source": [
    "## Metoda coardei (secantei)"
   ]
  },
  {
   "cell_type": "markdown",
   "id": "42822dc8-9c19-441f-93c9-ee00dfeaf38a",
   "metadata": {},
   "source": [
    "Vom repeta același lucru și cu metoda coardei. La metoda coardei avem două situații în funcție de convexitatea funcției. Deci trebuie să calculăm a doua derivată:\n",
    "$$f(x) = 1.000.000e^x + \\frac{435.000}{x}(e^x -1) - 1.564.000$$\n",
    "$$ f'(x) = 1.000.000 e^x +  \\frac{435.000}{x}e^x -  \\frac{435.000}{x^2}(e^x -1)$$\n",
    "$$ f''(x) = 1.000.000 e^x +  \\frac{435.000}{x}e^x  - \\frac{870.000}{x^2}e^x  + \\frac{870.000}{x^3}e^x$$\n",
    "Luăm $a=0.001>0$ și $b=1$ și verificăm semnul lui $f(a)f''(a)$ sau $f(b)f''(b)$. Conform lemei 2 din curs este de ajuns să verificăm doar unul dintre cele două produse."
   ]
  },
  {
   "cell_type": "code",
   "execution_count": null,
   "id": "eb9173fc-a425-46af-981f-df879587028b",
   "metadata": {
    "scrolled": true
   },
   "outputs": [],
   "source": [
    "# a doua derivată \n",
    "f2 = lambda x: 1e6 * np.exp(x) + 435e3 / x * np.exp(x) - 87e4 * np.exp(x) / x ** 2 + 87e4 * np.exp(x) / x ** 3\n",
    "a = 0.001 \n",
    "b = 1 \n",
    "print('f(a)f\"(a) = ', f(a) * f2(a) )\n",
    "f(a) * f2(a) < 0"
   ]
  },
  {
   "cell_type": "markdown",
   "id": "4cb187bf-6f3c-4a24-af3b-c64e07647686",
   "metadata": {},
   "source": [
    "Funcția noastră îndeplinește condiția $f(a)f''(a)<0$ sau $f(b)f''(b)>0$, deci vom construi șirul dat de Ec. 7 din Teorema 3 (vezi slide-ul 22 din curs):\n",
    "$$x_0=a$$\n",
    "$$x_{n+1}=x_n - \\frac{f(x_n)}{f(x_n)-f(b)}(x_n - b)$$"
   ]
  },
  {
   "cell_type": "code",
   "execution_count": null,
   "id": "65eb3694-f208-4839-a821-61db2a52917a",
   "metadata": {},
   "outputs": [],
   "source": [
    "def fsolve_secant(f, a, b, N=10):\n",
    "    x = np.empty(N)\n",
    "    x[0] = a\n",
    "    for n in range(N - 1):\n",
    "        x[n + 1] = pass\n",
    "        raise NotImplementedError('Funcția nu a fost implementată total.)\n",
    "    return x[N]"
   ]
  },
  {
   "cell_type": "code",
   "execution_count": null,
   "id": "ddb29ada-8f8c-4ad4-a29c-0f9acdebc32a",
   "metadata": {},
   "outputs": [],
   "source": [
    "fsolve_secant(f, a, b, N=10)"
   ]
  },
  {
   "cell_type": "markdown",
   "id": "ea7d6588-0735-4642-a60d-984fbc3d590a",
   "metadata": {},
   "source": [
    "### Cum evaluăm eroarea?\n",
    "Trebuie să găsim $m$ pentru care $0<m \\leq |f'(x)|$, orice ar fi $x\\in [a,b]$, atunci\n",
    "eroarea maximă este $|f(x_n)|/m$, pentru orice număr de iterații $n>1$ (*teorema 4 din curs*)."
   ]
  },
  {
   "cell_type": "markdown",
   "id": "051ae1a8-aa50-4d00-89b9-a04f61755c58",
   "metadata": {},
   "source": [
    "### Exercițiu\n",
    "- Scrie funcția `f1` care va calcula prima derivată $f'$ a funcției $f$.\n",
    "- Este $f'$ crescătoare sau descrescătoare?\n",
    "- Află $m$ calculând limita inferioară a lui $f'$ pe intervalul $[a,b]$. Estimează eroarea maximă pentru $n=10$ și exprimă rezultatul sub forma $\\lambda \\pm \\delta \\lambda_{max}$.\n",
    "- Compară eroarea cu cea calculată la metoda bisecției. Măsoară și compară timpii de execuție pentru ambele metode. "
   ]
  },
  {
   "cell_type": "code",
   "execution_count": null,
   "id": "9debb6fe-ba34-4627-8692-76676def2be8",
   "metadata": {},
   "outputs": [],
   "source": []
  },
  {
   "cell_type": "code",
   "execution_count": null,
   "id": "b99a62f1-ee39-4bd0-86b3-af1731ff6caf",
   "metadata": {},
   "outputs": [],
   "source": []
  },
  {
   "cell_type": "code",
   "execution_count": null,
   "id": "f3222ee4-e61d-4d66-873f-26b083168c7e",
   "metadata": {},
   "outputs": [],
   "source": []
  }
 ],
 "metadata": {
  "kernelspec": {
   "display_name": "Python 3 (ipykernel)",
   "language": "python",
   "name": "python3"
  },
  "language_info": {
   "codemirror_mode": {
    "name": "ipython",
    "version": 3
   },
   "file_extension": ".py",
   "mimetype": "text/x-python",
   "name": "python",
   "nbconvert_exporter": "python",
   "pygments_lexer": "ipython3",
   "version": "3.11.5"
  }
 },
 "nbformat": 4,
 "nbformat_minor": 5
}
