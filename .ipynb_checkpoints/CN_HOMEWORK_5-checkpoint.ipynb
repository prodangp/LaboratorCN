{
 "cells": [
  {
   "cell_type": "markdown",
   "id": "628de53f",
   "metadata": {},
   "source": [
    "# Calcul Numeric - Tema 5\n",
    "## Secțiunea I - Polinoame Newton"
   ]
  },
  {
   "cell_type": "code",
   "execution_count": null,
   "id": "eee1b914-ebc2-48fc-871d-7f6d5cf5b49d",
   "metadata": {},
   "outputs": [],
   "source": [
    "import numpy as np\n",
    "from matplotlib import pyplot as plt"
   ]
  },
  {
   "cell_type": "markdown",
   "id": "1384847e-be11-4cfa-8578-60aa033d230f",
   "metadata": {},
   "source": [
    "**I.1. Implementarea formei Newton (2p)**\n",
    "\n",
    "Pentru a construi polinomul Newton de gradul $n-1$ corespunzător unui set de date $(x,y)$ de lungime $n$, putem defini:\n",
    "$$p(x) = c_0 + c_1 (x - x_1) + c_2 (x - x_1) (x - x_2) + ... + c_{n - 1} (x - x_1) (x - x_2) ... (x - x_{n-1})$$\n",
    "\n",
    "Coeficienții $c_i$ cu $i \\in \\overline{0, n-1}$ sunt diferențele divizate de ordinul I ale lui Newton, adică\n",
    "- $c_0 = y_1$\n",
    "- $c_1 = [y_1, y_2] = \\dfrac{y_2 - y_1}{x_2 - x_1}$\n",
    "- $c_2 = [y_1, y_2, y_3] = \\dfrac{[y_2, y_3] - [y_1, y_2]}{x_3 - x_1}$\n",
    "- ...\n",
    "- $c_i = [y_1, y_2, ..., y_{i-1}]$\n",
    "\n",
    "a) Implementează `get_c(x, y)` pentru a calcula coeficienții $c_i$ pentru un anumit set de date $(x, y)$. "
   ]
  },
  {
   "cell_type": "code",
   "execution_count": null,
   "id": "2a76351c-2076-4ff1-a4d7-809cd8f46c52",
   "metadata": {},
   "outputs": [],
   "source": [
    "def get_c(x, y):\n",
    "    \"\"\"\n",
    "    Calculează coeficienții c_i pentru forma polinomului Newton corespunzător unui set de date (x, y).\n",
    "\n",
    "    Args:\n",
    "        x (list)\n",
    "        y (list)\n",
    "        \n",
    "    Returns:\n",
    "        list: Lista coeficienților c_i.\n",
    "    \"\"\"\n",
    "    return \n"
   ]
  },
  {
   "cell_type": "markdown",
   "id": "cedd167e-4c59-4be4-84ad-414623842610",
   "metadata": {},
   "source": [
    "b) Implementează o funcție care să interpoleze în anumite puncte folosind polinomul Newton asociat setului de date interpolat. Aceasta primește ca date de intrare setul de date $(x, y)$ și un alt vector $x^*$, iar ca output avem valorile interpolate $y^*$ în punctele date de $x^*$."
   ]
  },
  {
   "cell_type": "code",
   "execution_count": null,
   "id": "15c0fb15-f165-455a-b236-89133cd01da6",
   "metadata": {},
   "outputs": [],
   "source": [
    "def interp_newton(x, y, xi):\n",
    "    \"\"\"\n",
    "    Interpolează în anumite puncte folosind polinomul Newton asociat setului de date (x, y).\n",
    "\n",
    "    Args:\n",
    "        x (list): Lista valorilor x din setul de date.\n",
    "        y (list): Lista valorilor y corespunzătoare valorilor x din setul de date.\n",
    "        xi (list): Lista de puncte în care să se facă interpolarea.\n",
    "\n",
    "    Returns:\n",
    "        list: Lista valorilor interpolate yi în punctele date de xi.\n",
    "    \"\"\"\n",
    "    return \n",
    "\n",
    "\n",
    "# test\n",
    "# generăm 10 puncte uniform distribuite în intervalul [0, 2π] pentru setul de date, și punctele xi unde interpolăm\n",
    "x = np.linspace(0, 2 * np.pi, 10)\n",
    "y = np.sin(x)\n",
    "xi = np.linspace(0, 2 * np.pi, 20)  # Folosim mai multe puncte pentru a obține o interpolare mai fină\n",
    "\n",
    "# interpolarea Newton\n",
    "yi = interp_newton(x, y, xi)\n",
    "\n",
    "\n",
    "# plot\n",
    "plt.figure(figsize=(10, 6))\n",
    "plt.plot(x, y, 'bo', label='Set de date inițial')\n",
    "plt.plot(xi, yi, 'r-', label='Interpolare Newton')\n",
    "plt.xlabel('x')\n",
    "plt.ylabel('y')\n",
    "plt.title('Interpolare Newton a unei funcții sinusoidale')\n",
    "plt.legend()\n",
    "plt.grid(True)\n",
    "plt.show()"
   ]
  },
  {
   "cell_type": "markdown",
   "id": "875b565c-dcfc-4047-a9a6-fbb6419dc8fa",
   "metadata": {},
   "source": [
    "**I.2. Fenomenul Runge (3p)**\n",
    "\n",
    "Procesul de interpolare nu garantează generarea unei secvențe de polinoame care converg uniform către funcție pe măsură ce gradul polinomului de interpolare tinde la infinit. Exemplul clasic în acest sens este fenomenul lui Runge.\n",
    "Să considerăm funcția $g(x) = \\dfrac{1}{1 +x^2}$, cu $x$ în $[-5,5]$ și noduri egal distanțate.\n",
    "\n",
    "De exemplu, pentru $n=12$ obținem următorul rezultat:\n",
    "\n",
    "<img src=\"https://github.com/prodangp/LaboratorCN/blob/main/media/tema5/runge.png?raw=true\" width=400/>\n",
    "\n",
    "Putem observa cum la capete avem o divergență clară.\n",
    "\n",
    "- Reprodu graficul de mai sus pentru diferite valori ale lui $n$."
   ]
  },
  {
   "cell_type": "code",
   "execution_count": null,
   "id": "66986dda-ecb9-46d0-a538-625c2865f7ad",
   "metadata": {},
   "outputs": [],
   "source": [
    "import numpy as np\n",
    "import matplotlib.pyplot as plt\n",
    "\n",
    "# definim funcția g(x)\n",
    "def g(x):\n",
    "    return 1 / (1 + x ** 2)\n",
    "\n",
    "# definim intervalul [-5, 5]\n",
    "x_interval = np.linspace(-5, 5, 100)\n",
    "\n",
    "# continuăm\n"
   ]
  },
  {
   "cell_type": "markdown",
   "id": "e64783b0-8422-4c36-a480-27313ba97b7c",
   "metadata": {},
   "source": [
    "- Calculează eroarea absolută de tip Root - Mean - Squared Error, RMSE (norma 2 a vectorului diferență $y(x^*) - y^*(x^*)$), care exprimă cantitativ diferența dintre funcția interpolată și valorile date de diferiți interpolanți (cu $n$ diferit). Reprezintă grafic eroarea calculată, RMSE, în funcție de $n$. Consideră intervalul $[-5, 5]$."
   ]
  },
  {
   "cell_type": "code",
   "execution_count": null,
   "id": "3beb5504",
   "metadata": {
    "ExecuteTime": {
     "end_time": "2024-04-14T22:26:39.514639Z",
     "start_time": "2024-04-14T22:26:39.492196Z"
    },
    "collapsed": false,
    "jupyter": {
     "outputs_hidden": false
    },
    "scrolled": true
   },
   "outputs": [],
   "source": []
  },
  {
   "cell_type": "markdown",
   "id": "f1ddaa01-be77-4d66-96e7-7ba70fbca4a8",
   "metadata": {},
   "source": [
    "- Comentați graficul obținut. Cum alegem interpolantul potrivit?"
   ]
  },
  {
   "cell_type": "markdown",
   "id": "3c6138a6-a5c7-4fbb-b3c5-6c8edb9df5cf",
   "metadata": {},
   "source": []
  },
  {
   "cell_type": "markdown",
   "id": "f0413d24-ed51-4f6d-805e-e1353e8d7034",
   "metadata": {},
   "source": [
    "\n",
    "## Secțiunea 2 - Integrare numerică\n"
   ]
  },
  {
   "cell_type": "markdown",
   "id": "c3d13710-17b2-4c29-93a2-3d7b90d4ab37",
   "metadata": {},
   "source": [
    "**II.1. Estimarea lui $\\pi$ (3p)** "
   ]
  },
  {
   "cell_type": "markdown",
   "id": "647c2b9d-4d48-4bc5-8d98-c1b57929d72e",
   "metadata": {},
   "source": [
    "În acest exercițiu vom estima valoarea lui $\\pi$ folosind integrarea numerică. Funcția `create_half_circle` este deja implementată și poate fi folosită cu scopul de a genera date pentru un număr specific de puncte care se găsesc pe o jumătăte de cerc. "
   ]
  },
  {
   "cell_type": "code",
   "execution_count": null,
   "id": "bb4080a8-30af-42e0-9fa3-0d416a649326",
   "metadata": {},
   "outputs": [],
   "source": [
    "def create_half_circle(radius, num_points):\n",
    "    \"\"\"\n",
    "    Generăm puncte pentru a construi grafic jumătate de cerc\n",
    "    Args:\n",
    "        radius (float): raza cercului, r\n",
    "        num_points (int): numărul de puncte generate\n",
    "\n",
    "    Returns:\n",
    "        numpy.ndarray: cercul generat (x, y)\n",
    "    \"\"\"\n",
    "    # definim valori pentru x uniform intre -r si r\n",
    "    x_values = np.linspace(-radius, radius, num_points)\n",
    "\n",
    "    # rezolvăm ecuația cercului pentru a afla y cunoscând x: y = sqrt(radius^2 - x^2)\n",
    "    y_values = np.sqrt(radius**2 - x_values**2)\n",
    "    half_circle = np.column_stack((x_values, y_values))\n",
    "\n",
    "    return half_circle\n",
    "\n",
    "\n",
    "half_circle_points = create_half_circle(radius=2, num_points=100)\n",
    "\n",
    "plt.figure(figsize=(6, 6))\n",
    "plt.plot(half_circle_points[:, 0], half_circle_points[:, 1])\n",
    "plt.gca().set_aspect('equal', adjustable='box')\n",
    "plt.title('Grafic jumătate de cerc')\n",
    "plt.xlabel('x')\n",
    "plt.ylabel('y')\n",
    "plt.grid(True)\n",
    "plt.show()\n"
   ]
  },
  {
   "cell_type": "markdown",
   "id": "79f5df2a-b781-4c28-bff6-39f427cc7b0e",
   "metadata": {},
   "source": [
    "Aria de sub graficul unei jumătăți de cerc este $A=\\pi r^2 /2$. \n",
    "- Folosind **metoda dreptunghiurilor** determină aria jumătății de cerc (aria de sub grafic) și estimează valoarea lui $\\pi$ folosind $n=10$ noduri (10 dreptunghiuri)."
   ]
  },
  {
   "cell_type": "code",
   "execution_count": null,
   "id": "63ae4074-a6f8-4420-b507-1b216f362f7c",
   "metadata": {},
   "outputs": [],
   "source": []
  },
  {
   "cell_type": "markdown",
   "id": "b3752402-8179-424d-8cd4-492d5f190a66",
   "metadata": {},
   "source": [
    "- Reprezintă grafic jumătatea de cerc și cele 10 dreptunghiuri folosite la subpunctul anterior pentru a determina aria cercului. Hașurează aria celor 10 dreptunghiuri."
   ]
  },
  {
   "cell_type": "code",
   "execution_count": null,
   "id": "733a65e9-04fa-462e-bc70-d4d3715230aa",
   "metadata": {},
   "outputs": [],
   "source": []
  },
  {
   "cell_type": "markdown",
   "id": "342e2c8c-f14b-45b3-8bab-a7caefb3deaf",
   "metadata": {},
   "source": [
    "- Pentru fiecare din cele 10 noduri calculează eroarea absolută a ariei estimate pentru intervalul acoperit de acel dreptunghi. Reprezintă grafic această eroare în funcție de valoarea tangentei la grafic (pentru fiecare nod în parte). Pe ce porțiuni este mai mare eroarea de integrare?\n",
    "\n",
    "*Indiciu: ca valoare absolută pentru fiecare porțiune, puteți folosi integrarea numerică cu un număr mare de iterații.*"
   ]
  },
  {
   "cell_type": "code",
   "execution_count": null,
   "id": "c0e11b74-4734-46b5-bd91-f514eceebcc3",
   "metadata": {},
   "outputs": [],
   "source": []
  },
  {
   "cell_type": "markdown",
   "id": "513d6094-7552-4eb6-84b2-ff531906fa8f",
   "metadata": {},
   "source": [
    "**II.2. Date lipsă (2p)**\n",
    "\n",
    "Să ne imaginăm o problemă de analiză numerică în care trebuie să integrăm numeric o funcție pe un interval dat, doar că setul de date pe care trebuie să lucrăm conține unele valori lipsă. Aceste valori lipsă pot afecta calculul corect al integralei.\n",
    "<center>\n",
    "<img src=\"https://miro.medium.com/v2/resize:fit:750/format:webp/0*xU1nY7sCPSoPsyLh\" width=400/>\n",
    "</center>\n",
    "\n",
    "Scopul acestei probleme este de a dezvolta un algoritm de interpolare, care să completeze datele lipsă din setul de date (x, y), astfel încât să putem efectua o integrare numerică corectă și să calculăm aria sub graficul funcției pe întregul interval.\n",
    "\n",
    "Datele de intrare (x, y) reprezintă un set de puncte de pe graficul unei funcții, dar unele valori din intervalul de interes au dispărut într-un mod misterios.\n",
    "\n",
    "Setul de date îl puteți accesa [aici](https://github.com/prodangp/LaboratorCN/blob/main/data/dataset_hmw5.dat) sau îl puteți descărca de pe moodle."
   ]
  },
  {
   "cell_type": "markdown",
   "id": "b73704aa-9df5-4155-bb08-7ae139979bb2",
   "metadata": {},
   "source": [
    "- Acccesați și vizualizați datele pe care le aveți la dispoziție."
   ]
  },
  {
   "cell_type": "code",
   "execution_count": null,
   "id": "94862132-8f48-43af-a640-9f8e19192a5a",
   "metadata": {},
   "outputs": [],
   "source": []
  },
  {
   "cell_type": "markdown",
   "id": "1bfc2748-47d2-450a-95d5-bd5a626c4253",
   "metadata": {},
   "source": [
    "- Alegeți și folosiți algoritmi potriviți pentru a completa setul de date. Reprezentați graficul $y(x)$ înainte și după completarea setului de date."
   ]
  },
  {
   "cell_type": "code",
   "execution_count": null,
   "id": "ab9696b6-fff3-4791-af12-a1df80514db9",
   "metadata": {},
   "outputs": [],
   "source": []
  },
  {
   "cell_type": "markdown",
   "id": "14ce7dc0-1ad1-446d-afb9-a39485e94a94",
   "metadata": {},
   "source": [
    "- Folosiți metoda Simpson compozită cu interpolare pentru a estima aria graficului $y=y(x)$. "
   ]
  },
  {
   "cell_type": "code",
   "execution_count": null,
   "id": "2328e4cb-7a47-45dc-8d1a-89ea1b57b22f",
   "metadata": {},
   "outputs": [],
   "source": []
  },
  {
   "cell_type": "markdown",
   "id": "89ca7861-7fe8-47d7-87a0-d7c4e0a7c3cd",
   "metadata": {},
   "source": [
    "- Dacă modificați algoritmii de interpolare, se schimbă rezultatul obținut la subpunctul precedent?"
   ]
  },
  {
   "cell_type": "code",
   "execution_count": null,
   "id": "d2d7067e-f261-4d93-b06b-f566ab610753",
   "metadata": {},
   "outputs": [],
   "source": []
  }
 ],
 "metadata": {
  "kernelspec": {
   "display_name": "Python 3 (ipykernel)",
   "language": "python",
   "name": "python3"
  },
  "language_info": {
   "codemirror_mode": {
    "name": "ipython",
    "version": 3
   },
   "file_extension": ".py",
   "mimetype": "text/x-python",
   "name": "python",
   "nbconvert_exporter": "python",
   "pygments_lexer": "ipython3",
   "version": "3.11.5"
  }
 },
 "nbformat": 4,
 "nbformat_minor": 5
}
