{
 "cells": [
  {
   "cell_type": "markdown",
   "id": "91d86abf-d8bf-4ec0-a66c-a16a033ffa75",
   "metadata": {},
   "source": [
    "# Calcul Numeric - Temă Bonus 2\n",
    "# Ecuația lui Kepler și cometa Halley"
   ]
  },
  {
   "cell_type": "markdown",
   "id": "fda01c98-e831-4e0f-90cc-0214cddc55aa",
   "metadata": {},
   "source": [
    "În acest exercițiu vom folosi metode numerice pentru a rezolva ecuația lui Kepler și pentru a calcula traiectoria cometei Halley în jurul Soarelui. Vom crea o animație care prezintă evoluția cometei pe parcursul unei perioade orbitale, evidențiind traiectoria sa eliptică.\n",
    "\n",
    "Cometa Halley a fost descoperită de astronomul englez Edmond Halley în 1705, deși a fost observată și în alte perioade anterioare. Halley a remarcat că cometa a apărut la intervale regulate și a prezis corect revenirea sa în 1758, demonstrând astfel natura periodică a cometei. Are o perioadă orbitală de aproximativ 76 de ani. Astfel, revine în apropierea Pământului aproximativ o dată la fiecare două generații umane.\n",
    "\n",
    "Traiectoria orbitei lui Halley poate fi descrisă în funcție de timp folosind ecuația lui Kepler:\n",
    "$$M=E−e⋅sin(E)$$\n",
    "\n",
    "unde:\n",
    "\n",
    "- $M$ este anomalia medie, crește liniar cu timpul, $M=2\\pi\\dfrac{t-t_0}{P}$ cu $P=76$ ani.\n",
    "- $E$ este anomalia excentrică, care reprezintă unghiul între poziția actuală a corpului și poziția sa pe cercul de excentricitate cu raza $a$ (vezi figura). Putem scrie $cos~E = \\dfrac{x}{a}$.\n",
    "- $e$ este excentricitatea orbitei, care caracterizează cât de „ovală” este orbita. Pentru orbite circulare, excentricitatea este zero, iar pentru orbite eliptice, excentricitatea este între 0 și 1. Pentru cometa Halley, avem o orbită foarte excentrică: $e=0.967$.\n",
    "\n",
    "\n",
    "<img src=\"https://github.com/prodangp/LaboratorCN/blob/main/media/bonus2/kepler.png?raw=true\" width=600></img>\n",
    "\n",
    "### Informații utile\n",
    "- Perioada cometei este $P=76$ ani\n",
    "- Ultima trecere la periheliu (punctul cel mai apropriat de Soare de pe orbita cometei) a fost în anul 1986 și vom considera $t_0=1986$\n",
    "- Cometa va reveni în anul 2061\n",
    "- Excentricitatea orbitei: $e=0.967$.\n",
    "- Ecuația elipsei este următoarea:\n",
    "  $$\\frac{x^2}{a^2}+\\frac{y^2}{b^2}=1$$\n",
    "unde $a$ este semi-axa mare, iar $b$ semi-axa mică a elipsei. Avem $e=\\sqrt{1-\\dfrac{b^2}{a^2}}$.\n",
    "- Pentru cometa Halley avem $a=0.6$ UA (unități astronomice).\n",
    "- La periheliu, cometa se află față de Soare la distanța $a(1-e)$."
   ]
  },
  {
   "cell_type": "markdown",
   "id": "78269655-767f-4dcb-bd7e-4ff264c44d57",
   "metadata": {},
   "source": [
    "### Cerințe\n",
    "- Implementează reprezentarea grafică a traiectoriei cometei. Plotează elipsa pe care orbitează cometa ($e=0.967$)\n",
    "- Consideră că la momentul $t_0=1986$ cometa se afla la periheliu în anul 1986. Rezolvă ecuația lui Kepler pentru un an oarecare $t\\in [1986, 2061]$ folosind una dintre metodele din laboratoarele 7 și 8.\n",
    "- Pentru fiecare an al perioadei 1986 - 2061, găsește poziția cometei $(x,y)$ și creează o animație care să afișeze un frame pentru fiecare an (la o viteza de o secundă per frame). O animație asemănătoare se poate vedea mai jos. Afișează și anul pentru fiecare frame."
   ]
  },
  {
   "cell_type": "markdown",
   "id": "20fe8f21-54ff-437b-a6ef-f4e0aad96f14",
   "metadata": {},
   "source": [
    "<center>\n",
    "<img src=https://upload.wikimedia.org/wikipedia/commons/5/51/Halley%27s_Comet_animation.gif width=400></img>"
   ]
  },
  {
   "cell_type": "code",
   "execution_count": null,
   "id": "4bfbf075-50f8-4fc6-9097-56459b722aa7",
   "metadata": {},
   "outputs": [],
   "source": []
  },
  {
   "cell_type": "code",
   "execution_count": null,
   "id": "bde91a30-05ec-41ae-91ef-8aac5ceda88b",
   "metadata": {},
   "outputs": [],
   "source": []
  },
  {
   "cell_type": "code",
   "execution_count": null,
   "id": "4edaf598-889d-4dab-b56d-5c0701275f4c",
   "metadata": {},
   "outputs": [],
   "source": []
  },
  {
   "cell_type": "code",
   "execution_count": null,
   "id": "dbccf286-d589-4ab6-888d-93759615ecf5",
   "metadata": {},
   "outputs": [],
   "source": []
  },
  {
   "cell_type": "code",
   "execution_count": null,
   "id": "4fed28ad-82f7-4593-aa93-48113a290d10",
   "metadata": {},
   "outputs": [],
   "source": []
  },
  {
   "cell_type": "code",
   "execution_count": null,
   "id": "80e5a111-5918-4c55-9774-61527fe718f2",
   "metadata": {},
   "outputs": [],
   "source": []
  },
  {
   "cell_type": "code",
   "execution_count": null,
   "id": "582b6e53-ce24-4f2f-8671-68a968aa3404",
   "metadata": {},
   "outputs": [],
   "source": []
  },
  {
   "cell_type": "code",
   "execution_count": null,
   "id": "78cb8ae2-8ad2-47e7-89a1-e5cbe7b73daa",
   "metadata": {},
   "outputs": [],
   "source": []
  }
 ],
 "metadata": {
  "kernelspec": {
   "display_name": "Python 3 (ipykernel)",
   "language": "python",
   "name": "python3"
  },
  "language_info": {
   "codemirror_mode": {
    "name": "ipython",
    "version": 3
   },
   "file_extension": ".py",
   "mimetype": "text/x-python",
   "name": "python",
   "nbconvert_exporter": "python",
   "pygments_lexer": "ipython3",
   "version": "3.11.5"
  }
 },
 "nbformat": 4,
 "nbformat_minor": 5
}
