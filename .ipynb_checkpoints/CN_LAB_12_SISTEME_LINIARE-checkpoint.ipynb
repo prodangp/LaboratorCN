{
 "cells": [
  {
   "cell_type": "markdown",
   "id": "91d86abf-d8bf-4ec0-a66c-a16a033ffa75",
   "metadata": {},
   "source": [
    "# Calcul Numeric - Laborator 12\n",
    "# Rezolvarea sistemelor liniare"
   ]
  },
  {
   "cell_type": "markdown",
   "id": "abe5608e-9a72-423d-83b6-bd381f4803d7",
   "metadata": {},
   "source": [
    "## Obiectiv\n",
    "În acest laborator, vom implementa algoritmi pentru rezolvarea sistemelor liniare."
   ]
  },
  {
   "cell_type": "markdown",
   "id": "82914210-4bcc-4227-9e47-1b62e313ecf4",
   "metadata": {},
   "source": [
    "## Eliminarea Gauss\n",
    "\n",
    "În cursul 11 a fost prezentată metoda eliminării Gauss (EG) pentru rezolvarea directă a sistemelor liniare pătratice de ecuații. Metodele directe au avantajul că putem obține soluția exactă a sistemului după un număr finit de pași. Cele iterative ne oferă doar un șir de aproximații.\n",
    "\n",
    "Vom considera sistemele pătratice ($m=n$). Pseudocodul algoritmului EG (fără pivotare) este dat în cursul 11:\n",
    "\n",
    "### Exercițiu\n",
    "- Implementați algoritmul EG cu ajutorul pseudocodului de mai sus.\n",
    "- Testați algoritmul implementat pe unul dintre exemplele furnizate în anexa cursului 11. Input-ul se va citi dintr-un fișier pe care îl creați în acord cu exemplul ales."
   ]
  },
  {
   "cell_type": "code",
   "execution_count": null,
   "outputs": [],
   "source": [],
   "metadata": {
    "collapsed": false
   }
  },
  {
   "cell_type": "markdown",
   "id": "33e7468c-0469-4807-b5ec-1730da2c0f33",
   "metadata": {},
   "source": [
    "Să considerăm un sistem $Ax=b$ de dimensiune $n$, unde $A$ este o matrice **tridiagonală**, însemnând că avem elemente nenule doar pe diagonala principală și pe cele două diagonale secundare.\n",
    "\n",
    "În acest caz algoritmul clasic este simplificat.\n",
    "Să generăm mai întâi o matrice tridiagonală cu dimensiunea $n=10$:"
   ]
  },
  {
   "cell_type": "code",
   "execution_count": 31,
   "outputs": [
    {
     "data": {
      "text/plain": "array([[6., 1., 0., 0., 0., 0., 0., 0., 0., 0.],\n       [8., 6., 1., 0., 0., 0., 0., 0., 0., 0.],\n       [0., 8., 6., 1., 0., 0., 0., 0., 0., 0.],\n       [0., 0., 8., 6., 1., 0., 0., 0., 0., 0.],\n       [0., 0., 0., 8., 6., 1., 0., 0., 0., 0.],\n       [0., 0., 0., 0., 8., 6., 1., 0., 0., 0.],\n       [0., 0., 0., 0., 0., 8., 6., 1., 0., 0.],\n       [0., 0., 0., 0., 0., 0., 8., 6., 1., 0.],\n       [0., 0., 0., 0., 0., 0., 0., 8., 6., 1.],\n       [0., 0., 0., 0., 0., 0., 0., 0., 8., 6.]])"
     },
     "execution_count": 31,
     "metadata": {},
     "output_type": "execute_result"
    }
   ],
   "source": [
    "import numpy as np\n",
    "n = 10\n",
    "A = 8 * np.diag(np.ones((n - 1)), -1) + 6 * np.diag(np.ones((n))) + np.diag(np.ones((n - 1)), 1)\n",
    "A"
   ],
   "metadata": {
    "collapsed": false,
    "ExecuteTime": {
     "start_time": "2024-05-19T17:26:28.079024Z",
     "end_time": "2024-05-19T17:26:28.111135Z"
    }
   }
  },
  {
   "cell_type": "markdown",
   "source": [
    "Față de algoritmul clasic, următorul algoritm este particularizat pentru cazul matricelor tridiagonale fiind mai rapid din punct de vedere computațional."
   ],
   "metadata": {
    "collapsed": false
   }
  },
  {
   "cell_type": "code",
   "execution_count": 32,
   "outputs": [
    {
     "name": "stdout",
     "output_type": "stream",
     "text": [
      "[[1.]\n",
      " [1.]\n",
      " [1.]\n",
      " [1.]\n",
      " [1.]\n",
      " [1.]\n",
      " [1.]\n",
      " [1.]\n",
      " [1.]\n",
      " [1.]]\n"
     ]
    }
   ],
   "source": [
    "# b = Ax\n",
    "b = [15] * n\n",
    "b[0] = 7\n",
    "b[n - 1] = 14\n",
    "\n",
    "# soluția exactă\n",
    "x_ex = np.ones((n, 1))\n",
    "\n",
    "# inițializăm vectorul soluției dată de algoritm\n",
    "x = np.zeros((n, 1))\n",
    "\n",
    "# algoritm EG simplificat (mai rapid dpdv computational)\n",
    "for i in range(n - 1):\n",
    "    m = A[i + 1, i] / A[i ,i]\n",
    "    b[i + 1] = b[i + 1] - m * b[i]\n",
    "    A[i + 1] = A[i + 1] - m * A[i]\n",
    "x[n - 1] = b[n - 1] / A[n - 1, n - 1]\n",
    "for i in range(n - 2, -1, -1):\n",
    "    x[i] = (b[i] - A[i, i + 1] * x[i + 1]) / A[i, i]\n",
    "\n",
    " print(x)"
   ],
   "metadata": {
    "collapsed": false,
    "ExecuteTime": {
     "start_time": "2024-05-19T17:27:37.613452Z",
     "end_time": "2024-05-19T17:27:37.631466Z"
    }
   }
  },
  {
   "cell_type": "markdown",
   "id": "0a8af825-6ffc-4f74-9a21-df5921ab8db3",
   "metadata": {},
   "source": [
    "### Exercițiu\n",
    "- Scrieți o funcție care să implementeze algoritmul de mai sus. Comparații timpul de execuție al acestei funcții cu timpul de execuție al algoritmului clasic.\n",
    "- Calculați eroarea în norma euclidiană (RMSE) dintre soluția găsită și soluția exactă. Reprezentați grafic această eroare în funcție de $n$. Ce observați pentru $n$ suficient de mare?"
   ]
  },
  {
   "cell_type": "code",
   "execution_count": null,
   "outputs": [],
   "source": [],
   "metadata": {
    "collapsed": false
   }
  },
  {
   "cell_type": "markdown",
   "id": "14312768",
   "metadata": {
    "collapsed": false,
    "jupyter": {
     "outputs_hidden": false
    }
   },
   "source": [
    "### Exercițiu\n",
    "- Generați o matrice pentadiagonală.\n",
    "- Modificați algoritmul de mai sus astfel încât să funcționeze pentru matrice **pentadiagonale**."
   ]
  },
  {
   "cell_type": "code",
   "execution_count": null,
   "id": "ddcd52ba",
   "metadata": {
    "ExecuteTime": {
     "end_time": "2024-04-21T23:54:36.836003Z",
     "start_time": "2024-04-21T23:54:36.829010Z"
    },
    "collapsed": false,
    "jupyter": {
     "outputs_hidden": false
    }
   },
   "outputs": [],
   "source": []
  },
  {
   "cell_type": "markdown",
   "id": "13a0d25d",
   "metadata": {
    "collapsed": false,
    "jupyter": {
     "outputs_hidden": false
    }
   },
   "source": [
    "## Descompunerea LU"
   ]
  },
  {
   "cell_type": "markdown",
   "id": "a2c66286-1778-4613-8d0a-c8033c1175fe",
   "metadata": {},
   "source": [
    "Pentru o matrice $A$ pentru care există o descompunere LU (vezi condițiile prezentate la curs!), obțineți descompunerea în următoarele moduri:\n",
    "- folosind Eliminiare Gauss (fără pivotare - ca mai sus); aceasta va fi o descompunere Doolittle (unde $L$ este o matrice inferior triunghiulară cu valori unitare pe diagonala principală).\n",
    " Direct (prin identificare), implementând pseudocodul de mai jos (aceasta poate fi o descompunere Doolittle sau o descompunere Crout. În ultimul caz, $U$ este o matrice superior triunghiulară cu valori unitare pe diagonala principală)."
   ]
  },
  {
   "cell_type": "markdown",
   "id": "1ae8992a-30b0-479b-9392-7a7bf10703ed",
   "metadata": {},
   "source": [
    "### Exercițiu\n",
    "- Implementați algoritmul de mai sus.\n",
    "- Verificați rezultatele obținute după rularea codului vostru comparându-le cu cele produse de funcția built-in `lu` din submodulul `scipy.linalg` din Python (vezi https://docs.scipy.org/doc/scipy/reference/generated/scipy.linalg.lu.html), apelată cu `L,U=lu(A)`."
   ]
  },
  {
   "cell_type": "code",
   "execution_count": null,
   "id": "8022e25c",
   "metadata": {
    "ExecuteTime": {
     "end_time": "2024-04-22T00:14:30.904705Z",
     "start_time": "2024-04-22T00:14:30.839650Z"
    },
    "collapsed": false,
    "jupyter": {
     "outputs_hidden": false
    }
   },
   "outputs": [],
   "source": []
  },
  {
   "cell_type": "markdown",
   "id": "bca6a2e0",
   "metadata": {
    "collapsed": false,
    "jupyter": {
     "outputs_hidden": false
    }
   },
   "source": [
    "### Descompunerea Choleski\n",
    "Pentru o matrice $A$ pentru care există o descompunere Choleski (vezi condițiile prezentate la curs!), obțineți descompunerea în următoarele moduri:\n",
    "- Folosind descompunerea LU (implementată, de ex., la exercițiul anterior).\n",
    "- Direct (prin identificare), implementând următorul algoritm scris în pseudocod. Observați că acest algoritm este un caz particular al precedentului ($U=L^T$).\n",
    "\n",
    "**Observație.** Descompunerea Choleski este un caz particular de decompunere LU (vezi cursul 13).\n",
    "\n",
    "### Exercițiu\n",
    "- Implementați și această metodă.\n",
    "- Comparați rezultatele obținute prin rularea acestui cod cu cele produse de funcția built-in `cholesky` din submodulul `scipy.linalg` din Python (vezi https://docs.scipy.org/doc/scipy/reference/generated/scipy.linalg.cholesky.html#scipy.linalg.cholesky), pe care o puteți apela astfel: `L = cholesky(A)`."
   ]
  },
  {
   "cell_type": "code",
   "execution_count": null,
   "id": "3e763d58",
   "metadata": {
    "collapsed": false,
    "jupyter": {
     "outputs_hidden": false
    }
   },
   "outputs": [],
   "source": []
  },
  {
   "cell_type": "markdown",
   "source": [
    "### Exercițiu\n",
    "- Analizați complexitatea algoritmilor de descompunere LU. Care metodă este mai rapidă computațional? LU sau Choleski? Evaluați timpii de execuție."
   ],
   "metadata": {
    "collapsed": false
   }
  },
  {
   "cell_type": "code",
   "execution_count": null,
   "outputs": [],
   "source": [],
   "metadata": {
    "collapsed": false
   }
  },
  {
   "cell_type": "markdown",
   "source": [
    "## Calculul matricei inverse. Metoda Gauss - Jordan.\n",
    "\n",
    "Metoda Gauss - Jordan pentru determinare inversei unei matrice constă în următorii pași (cursul 14):\n",
    "- prima dată se aplică metoda EG clasică (de la stânga la dreapta, se anulează\n",
    "elementele de sub diagonala principală a matricei $A$ folosind\n",
    "pivotul din matricea $A$)\n",
    "- apoi se scalează fiecare linie: se împart toate elementele liniei\n",
    "(cele $2n$ elemente) prin pivotul din $A$\n",
    "- se aplică EG, de la dreapta la stânga: se anulează elementele de\n",
    "deasupra diagonalei principale din $A$ folosind pivotul din matricea $A$\n",
    "\n",
    "\n",
    "### Exercițiu\n",
    "- Implementați metoda Gauss - Jordan.\n",
    "- Generați matrice cu elemente la întâmplare (folosind `numpy`) și aplicați algoritmul implementat.\n",
    "- Pentru inversele determinate, verficați dacă se respectă relația $A^{-1}A=I$."
   ],
   "metadata": {
    "collapsed": false
   }
  },
  {
   "cell_type": "code",
   "execution_count": null,
   "outputs": [],
   "source": [],
   "metadata": {
    "collapsed": false
   }
  }
 ],
 "metadata": {
  "kernelspec": {
   "display_name": "Python 3 (ipykernel)",
   "language": "python",
   "name": "python3"
  },
  "language_info": {
   "codemirror_mode": {
    "name": "ipython",
    "version": 3
   },
   "file_extension": ".py",
   "mimetype": "text/x-python",
   "name": "python",
   "nbconvert_exporter": "python",
   "pygments_lexer": "ipython3",
   "version": "3.11.5"
  }
 },
 "nbformat": 4,
 "nbformat_minor": 5
}
