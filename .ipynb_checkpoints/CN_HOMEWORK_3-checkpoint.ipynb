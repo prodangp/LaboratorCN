{
 "cells": [
  {
   "cell_type": "markdown",
   "id": "628de53f",
   "metadata": {},
   "source": [
    "# Laborator Calcul Numeric - Tema 3\n",
    "\n",
    "## Secțiunea 1 - Aproximarea funcției logaritmice (6p)"
   ]
  },
  {
   "cell_type": "code",
   "execution_count": 2,
   "id": "000f6958",
   "metadata": {},
   "outputs": [],
   "source": [
    "import math\n",
    "import numpy as np\n",
    "import matplotlib.pyplot as plt"
   ]
  },
  {
   "cell_type": "markdown",
   "id": "1384847e-be11-4cfa-8578-60aa033d230f",
   "metadata": {},
   "source": [
    "**I.1. Verificarea convergenței seriei Maclaurin pentru ln(1+x) - 3p**\n",
    "\n",
    "Seriile Maclaurin sunt aproximări ale funcțiilor folosind o sumă infinită de termeni. Pentru funcția `ln(1+x)`, putem utiliza seria Maclaurin discutată în cursul 5 pentru a obține o aproximare pentru diferite valori ale lui `x`.\n",
    "\n",
    "Seria Maclaurin pentru ln(1+x) este definită astfel:\n",
    "\n",
    "$$ \\ln(1 + x) = x - \\frac{x^2}{2} + \\frac{x^3}{3} - \\frac{x^4}{4} + \\frac{x^5}{5} - \\ldots = \\sum_{n=1}^{\\infty} (-1)^{n+1} \\frac{x^n}{n} $$\n",
    "\n",
    "- Generează un plot pentru a verifica convergența seriei. Plotează `ln(1+x)` calculat conform seriei Mclaurin și calculat cu `np.log`. Care este valoarea maximă a lui `x`, observată pe grafic, pentru care seria Maclaurin nu mai converge?\n",
    "- Modifică numărul de termeni din serie și observă cum variază precizia aproximării. Reprezintă grafic eroarea relativă în funcție de `x` pentru mai multe valori ale lui `n`. "
   ]
  },
  {
   "cell_type": "code",
   "execution_count": 22,
   "id": "d9a47ba9",
   "metadata": {},
   "outputs": [],
   "source": [
    "def maclaurin_ln_1_plus_x(x, n=50):\n",
    "    \"\"\"\n",
    "    Calculează aproximarea ln(1 + x) folosind seria Maclaurin.\n",
    "\n",
    "    :param x: Valoarea pentru care se calculează ln(1 + x).\n",
    "    :param n: Numărul de termeni din serie (default 50).\n",
    "    :return: Aproximarea ln(1 + x) folosind seria Maclaurin.\n",
    "    \"\"\"\n",
    "    raise NotImplementedError(\"Neimplementat\")"
   ]
  },
  {
   "cell_type": "code",
   "execution_count": null,
   "id": "024fce38-1ce0-430b-b42b-f1c1e5e48a95",
   "metadata": {},
   "outputs": [],
   "source": [
    "# valoarea lui x pentru care se va calcula ln(1 + x)\n",
    "x_values = np.linspace(-0.9, 1.1, 100)\n",
    "\n",
    "# calculează aproximările pentru fiecare valoare a lui x\n",
    "approximations = None\n",
    "\n",
    "# plot\n",
    "plt.plot(x_values, approximations, label='Aproximare Maclaurin')\n",
    "plt.plot(x_values, np.log(1 + x_values), label='Varianta NumPy')\n",
    "plt.xlabel('x')\n",
    "plt.ylabel('ln(1 + x)')\n",
    "plt.title('Aproximarea lui ln(1 + x) folosind seria Maclaurin')\n",
    "plt.grid(True)\n",
    "plt.legend()\n",
    "plt.show()"
   ]
  },
  {
   "cell_type": "markdown",
   "id": "964df18e-6b97-4fa6-8ec4-b938a540ee0a",
   "metadata": {},
   "source": [
    "**I.2. Aproximarea funcției ln(z) - 3p**\n",
    "\n",
    "Reamintim de la curs că funcția ln(z) poate fi aproximată folosind următoarea formulă:\n",
    "\n",
    "$$\n",
    "\\ln z = m \\cdot \\ln 2 - 2 \\sum_{k=1}^{n} \\frac{\\xi^{2k-1}}{2k - 1} - R_n(\\xi)\n",
    "$$\n",
    "\n",
    "unde:\n",
    "- $ m $ este un număr natural determinat unic, $ t \\in [\\frac{1}{2}, 1] $ este unic determinat și $ z = 2^m \\cdot t $.\n",
    "- $ \\xi \\in (0, \\frac{1}{3}] $ este dat de $ \\xi = \\frac{1 - t}{1 + t} $.\n",
    "- $ R_n(\\xi) $ este reziduul.\n",
    "\n",
    "Cerințe:\n",
    "- Obține o aproximare pentru ln(z)\n",
    "- Generează o imagine a reziduului în 2D în funcție `m` și `t`. Comentează rezultatul obținut.\n",
    "- Plecând de la imaginea generată la cerința anterioară, creează o animație modificând numărul de termeni din suma seriei Taylor"
   ]
  },
  {
   "cell_type": "code",
   "execution_count": null,
   "id": "d6fbadd9",
   "metadata": {},
   "outputs": [],
   "source": [
    "def ln_approx(z, n=10):\n",
    "    \n",
    "    # determinăm m și t\n",
    "    m = int(math.log2(z))\n",
    "    t = None\n",
    "    \n",
    "    # calculăm ξ\n",
    "    xi = None\n",
    "    \n",
    "    # calculăm termenii sumei\n",
    "    sum_terms = None\n",
    "\n",
    "    raise NotImplementedError(\"Implementarea funcției nu este completă!\")\n",
    "    \n",
    "    # calculăm ln(z) folosind dezvoltarea dată\n",
    "    ln_z = m * math.log(2) - 2 * sum_terms\n",
    "\n",
    "    \n",
    "    return ln_z"
   ]
  },
  {
   "cell_type": "code",
   "execution_count": null,
   "id": "fb8ba246-82c7-4fc8-8df1-05aec3d20c77",
   "metadata": {},
   "outputs": [],
   "source": [
    "# test\n",
    "z = 3\n",
    "approximation = ln_approx(z)\n",
    "print(\"Aproximarea ln(z) pentru z =\", z, \"este:\", approximation)"
   ]
  },
  {
   "cell_type": "code",
   "execution_count": null,
   "id": "cbad4443-1a76-4c50-8011-36c4e66b3c51",
   "metadata": {},
   "outputs": [],
   "source": []
  },
  {
   "cell_type": "code",
   "execution_count": null,
   "id": "60b3ebc1-bd99-4eae-b569-1044eaae1e1f",
   "metadata": {},
   "outputs": [],
   "source": []
  },
  {
   "cell_type": "code",
   "execution_count": null,
   "id": "a06cf679",
   "metadata": {},
   "outputs": [],
   "source": []
  },
  {
   "cell_type": "markdown",
   "id": "f0413d24-ed51-4f6d-805e-e1353e8d7034",
   "metadata": {},
   "source": [
    "## Secțiunea 2 - Calculator de logaritmi - GUI (3p)\n",
    "Implementați o aplicație GUI care să permită utilizatorului să aproximeze logaritmul unui număr dat, folosind metoda implementată la **I.2**. \n",
    "\n",
    "**Atenție!** Puteți folosi și alt IDE pentru acest exercițiu (Spyder/PyCharm/etc). \n",
    "\n",
    "Totodată, puteți utiliza Qt Designer pentru a implementa mai ușor design-ul interfeței în PyQt5 (https://realpython.com/qt-designer-python/).\n",
    "\n",
    "\n",
    "Cerințe:\n",
    "- Aplicația trebuie să permită utilizatorului să aleagă baza logaritmică (log2, ln, log10, etc).\n",
    "- Utilizatorul ar trebui să poată selecta numărul de termeni pentru seria Taylor.\n",
    "- Aplicația ar trebui să afișeze rezultatul aproximării logaritmului, precum și eroarea absolută/relativă față de valoarea obținută folosind funcția `math.log` sau `numpy.log`.\n",
    "- Pentru fiecare aproximare, aplicația ar trebui să afișeze și timpul de execuție necesar pentru calcul și o comparație cu alți timpi pentru `math.log` sau `numpy.log`.\n",
    "- Asigurați-vă că interfața grafică este intuitivă și ușor de utilizat."
   ]
  },
  {
   "cell_type": "markdown",
   "id": "bdf45021-d7ab-4276-a1f2-6f9db7db8286",
   "metadata": {},
   "source": [
    "## Secțiunea 3 - Estimarea funcției tangentă (1p)\n",
    "\n",
    "### Cerințe:\n",
    "- Găsește seria Taylor pentru funcția tangentă (sau o altă serie/metodă de aproximare).\n",
    "- Implementați o funcție în Python care să aproximeze funcția tangentă folosind seria Taylor.\n",
    "- Plotează eroarea în funcție de unghiul la care se estimează valoarea tangentei. Crește numărul de termeni din suma Taylor și reprezintă pe același grafic rezultatele.\n",
    "- Afișați și timpul de execuție mediu necesar pentru estimare și comparați cu alte variante din `math` și `numpy`."
   ]
  },
  {
   "cell_type": "code",
   "execution_count": null,
   "id": "8f7f44d8-66b2-4cfb-8f89-74a15903afa4",
   "metadata": {},
   "outputs": [],
   "source": []
  },
  {
   "cell_type": "code",
   "execution_count": null,
   "id": "f4bb14dd-1d08-42ee-aea5-251aa644abc9",
   "metadata": {},
   "outputs": [],
   "source": []
  }
 ],
 "metadata": {
  "kernelspec": {
   "display_name": "Python 3 (ipykernel)",
   "language": "python",
   "name": "python3"
  },
  "language_info": {
   "codemirror_mode": {
    "name": "ipython",
    "version": 3
   },
   "file_extension": ".py",
   "mimetype": "text/x-python",
   "name": "python",
   "nbconvert_exporter": "python",
   "pygments_lexer": "ipython3",
   "version": "3.11.5"
  }
 },
 "nbformat": 4,
 "nbformat_minor": 5
}
