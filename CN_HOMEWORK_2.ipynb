{
 "cells": [
  {
   "cell_type": "markdown",
   "id": "628de53f",
   "metadata": {},
   "source": [
    "# Laborator Calcul Numeric - Tema 2\n",
    "\n",
    "## Secțiunea 1 - NumPy (4p)"
   ]
  },
  {
   "cell_type": "code",
   "execution_count": 2,
   "id": "000f6958",
   "metadata": {},
   "outputs": [],
   "source": [
    "import numpy as np"
   ]
  },
  {
   "cell_type": "markdown",
   "id": "48876880",
   "metadata": {},
   "source": [
    "**I.1.** Calculează media pe fiecare rând, pe fiecare coloană și pe întreaga matrice dată, *m*."
   ]
  },
  {
   "cell_type": "code",
   "execution_count": 9,
   "id": "d9a47ba9",
   "metadata": {},
   "outputs": [
    {
     "data": {
      "text/plain": [
       "dtype('float64')"
      ]
     },
     "execution_count": 9,
     "metadata": {},
     "output_type": "execute_result"
    }
   ],
   "source": [
    "m = np.arange(12).reshape((3,4))\n",
    "(m - 2.0).dtype\n"
   ]
  },
  {
   "cell_type": "code",
   "execution_count": null,
   "id": "a0eb8be4-043b-4838-8f54-f6644fc66bb2",
   "metadata": {},
   "outputs": [],
   "source": []
  },
  {
   "cell_type": "markdown",
   "id": "95624fdf",
   "metadata": {},
   "source": [
    "**I.2.**  Create a 10 by 6 matrix of increasing float numbers, starting from zero and increasing in each step by 0.1, so the output matrix looks like the following:\n",
    "\n",
    "```m = [\n",
    "\n",
    "      [0. 0.1, 0.2 0.3 ... 0.9]\n",
    "\n",
    "      [1.0 1.1 1.2 1.3 ... 1.9]\n",
    "     \n",
    "       ...\n",
    "     \n",
    "      [5.0 5.1 5.2 5.3 ... 5.9]\n",
    "     \n",
    "     ]```\n",
    "After creating the matrix, set all entries with a decimal part $<0.4$ \n",
    " to zero."
   ]
  },
  {
   "cell_type": "code",
   "execution_count": null,
   "id": "d6fbadd9",
   "metadata": {},
   "outputs": [],
   "source": []
  },
  {
   "cell_type": "markdown",
   "id": "ccf248d7",
   "metadata": {},
   "source": [
    "**I.3.** Use broadcasting to create a grid of distances.\n",
    "\n",
    "Route 66 crosses the following cities in the US: Chicago, Springfield, Saint-Louis, Tulsa, Oklahoma City, Amarillo, Santa Fe, Albuquerque, Flagstaff, Los Angeles The corresponding positions in miles are: 0, 198, 303, 736, 871, 1175, 1475, 1544, 1913, 2448\n",
    "\n",
    "a) Build a 2D grid of distances among each city along Route 66"
   ]
  },
  {
   "cell_type": "code",
   "execution_count": 4,
   "id": "9ac03684",
   "metadata": {},
   "outputs": [],
   "source": [
    "# cities list\n",
    "cities_string = 'Chicago, Springfield, Saint-Louis, Tulsa, Oklahoma City, Amarillo, Santa Fe, Albuquerque, Flagstaff, Los Angeles'\n",
    "cities = cities_string.split(', ') \n",
    "\n",
    "# position list\n",
    "# ...\n",
    "\n"
   ]
  },
  {
   "cell_type": "markdown",
   "id": "ad328aab",
   "metadata": {},
   "source": [
    "b) Write a function that returns the distance between two cities on Route 66. The function's inputs are two positional arguments (the name of the cities as strings) and a keyword argument that will be the distance measurement unit (km or mile). If the city is not on the list, then raise an error (using `raise`, not by displaying a message with `print`)."
   ]
  },
  {
   "cell_type": "code",
   "execution_count": null,
   "id": "dda2e2a3",
   "metadata": {},
   "outputs": [],
   "source": []
  },
  {
   "cell_type": "code",
   "execution_count": null,
   "id": "419a64ee",
   "metadata": {},
   "outputs": [],
   "source": [
    "# test 1\n",
    "compute_distance('Santa Fe', 'Flagstaff', unit='km')"
   ]
  },
  {
   "cell_type": "code",
   "execution_count": null,
   "id": "c652e73e",
   "metadata": {},
   "outputs": [],
   "source": [
    "# test 2\n",
    "compute_distance('Chicago', 'Turnu Măgurele')"
   ]
  },
  {
   "cell_type": "markdown",
   "id": "1a30a291",
   "metadata": {},
   "source": []
  },
  {
   "cell_type": "markdown",
   "id": "2250fd67",
   "metadata": {},
   "source": [
    "\n",
    "Încarcă fișierul remote https://www.dropbox.com/s/vkl89yce7xjdq4n/regression_generated.csv?dl=1 cu Pandas și plotează un scatter plot pentru toate combinațiile posibile ale următoarelor câmpuri:\n",
    "\n",
    "features_1\n",
    "features_2\n",
    "features_3"
   ]
  },
  {
   "cell_type": "code",
   "execution_count": null,
   "id": "14ecb87c",
   "metadata": {},
   "outputs": [],
   "source": []
  },
  {
   "cell_type": "markdown",
   "id": "9d85a8c3",
   "metadata": {},
   "source": []
  },
  {
   "cell_type": "markdown",
   "id": "e511cc82",
   "metadata": {},
   "source": [
    "<img width=500 src=https://www.researchgate.net/publication/365799184/figure/fig5/AS:11431281103472864@1669694377487/The-scatter-plot-of-data-set-with-two-classes-The-data-points-are-generated-with-two.png>\n",
    "\n",
    "\n",
    "Poți încerca să faci procedura mai generală, permițând un număr mai mare de categorii (3,4,5,... clustere)."
   ]
  },
  {
   "cell_type": "code",
   "execution_count": null,
   "id": "a06cf679",
   "metadata": {},
   "outputs": [],
   "source": []
  },
  {
   "cell_type": "markdown",
   "id": "c15d5e40",
   "metadata": {},
   "source": [
    "**II.3. The Histogram of a Gaussian Distribution**\n",
    "\n",
    "a) Folosește funcția de la exercițiul anterior pentru a genera histograma unei distribuții gaussiene.\n",
    "\n",
    "b) Generează patru histograme folosind număr diferit de valori generate/număr diferit de bin-uri pentru a vedea cum se modifică reprezentarea histogramei. Plotează cele patru histograme pe aceeași figură (2x2)."
   ]
  },
  {
   "cell_type": "code",
   "execution_count": null,
   "id": "5b18c9b7",
   "metadata": {},
   "outputs": [],
   "source": []
  }
 ],
 "metadata": {
  "kernelspec": {
   "display_name": "Python 3 (ipykernel)",
   "language": "python",
   "name": "python3"
  },
  "language_info": {
   "codemirror_mode": {
    "name": "ipython",
    "version": 3
   },
   "file_extension": ".py",
   "mimetype": "text/x-python",
   "name": "python",
   "nbconvert_exporter": "python",
   "pygments_lexer": "ipython3",
   "version": "3.11.0"
  }
 },
 "nbformat": 4,
 "nbformat_minor": 5
}
