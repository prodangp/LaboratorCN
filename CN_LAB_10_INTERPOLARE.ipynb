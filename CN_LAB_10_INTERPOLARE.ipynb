{
 "cells": [
  {
   "cell_type": "markdown",
   "id": "91d86abf-d8bf-4ec0-a66c-a16a033ffa75",
   "metadata": {},
   "source": [
    "# Calcul Numeric - Laborator 10\n",
    "# Polinoame de aproximare și interpolare"
   ]
  },
  {
   "cell_type": "markdown",
   "id": "abe5608e-9a72-423d-83b6-bd381f4803d7",
   "metadata": {},
   "source": [
    "## Obiectiv\n",
    "În acest laborator, vom studia aproximarea funcțiilor prin polinoame Bernstein și interpolarea acestora pe bucăți, cu polinoame Lagrange și funcții spline."
   ]
  },
  {
   "cell_type": "markdown",
   "id": "82914210-4bcc-4227-9e47-1b62e313ecf4",
   "metadata": {},
   "source": [
    "## Polinoame Bernstein\n"
   ]
  },
  {
   "cell_type": "markdown",
   "id": "33e7468c-0469-4807-b5ec-1730da2c0f33",
   "metadata": {},
   "source": [
    "Polinoamele de aproximare Bernstein sunt o metodă de aproximare a unei funcții. Acestea sunt definite ca sume ponderate de polinoame Bernstein. Pentru un interval dat $[0, 1]$ și o funcție $f(x)$, polinoamele de aproximare Bernstein sunt definite de:\n",
    "\n",
    "$$B_n(f;x) = \\sum_{k=0}^{n} f\\left(\\frac{k}{n}\\right) C_n^k x^k (1-x)^{n-k}, \\ \\forall x\\in[0,1]$$\n",
    "\n",
    "unde $C_n^k$ reprezintă coeficientul binomial. Polinomul $B_n(f;x)$ se numește **polinom Bernstein** de ordin **n** al funcției **f** pe intervalul $[0,1]$.\n",
    "\n",
    "Teorema 1 din curs: **Șirul $(B_n)_{n\\geq 1}$ converge uniform la $f$ pe $[0,1]$**\n"
   ]
  },
  {
   "cell_type": "markdown",
   "id": "14312768",
   "metadata": {
    "collapsed": false,
    "jupyter": {
     "outputs_hidden": false
    }
   },
   "source": [
    "### Exercițiu\n",
    "- Scrieți o funcție care să construiască un polinom Bernstein. Gradul polinomului $n$ și funcția aproximată $f$ sunt date ca input. Poți folosi  `scipy.special.binom` pentru a calcula coeficienții binomiali."
   ]
  },
  {
   "cell_type": "code",
   "execution_count": null,
   "id": "ddcd52ba",
   "metadata": {
    "ExecuteTime": {
     "end_time": "2024-04-21T23:54:36.836003Z",
     "start_time": "2024-04-21T23:54:36.829010Z"
    },
    "collapsed": false,
    "jupyter": {
     "outputs_hidden": false
    }
   },
   "outputs": [],
   "source": [
    "import scipy.special as sp\n",
    "\n",
    "\n",
    "def bernstein_polynomial(f, n):\n",
    "    def bernstein(x):\n",
    "        raise NotImplementedError(\"TODO\")\n",
    "    return bernstein\n",
    "\n",
    "# test\n",
    "f = lambda x: x**2\n",
    "n = 10\n",
    "bernstein = bernstein_polynomial(f, n)\n",
    "\n",
    "print(bernstein(0.5))\n",
    "print(f(0.5))\n",
    "# pentru n suficient de mare, cele două valori de mai sus ar trebui să fie apropiate"
   ]
  },
  {
   "cell_type": "markdown",
   "id": "8ab58baa",
   "metadata": {
    "collapsed": false,
    "jupyter": {
     "outputs_hidden": false
    }
   },
   "source": [
    "- Plotați o funcție $f$ la alegere și polinomul Bernstein obținut pentru $n = 5, 10, 15$. Considerați funcția definită pe intervalul $[0, 1]$."
   ]
  },
  {
   "cell_type": "code",
   "execution_count": null,
   "id": "7dd00182",
   "metadata": {
    "ExecuteTime": {
     "end_time": "2024-04-21T23:54:38.677773Z",
     "start_time": "2024-04-21T23:54:38.569334Z"
    },
    "collapsed": false,
    "jupyter": {
     "outputs_hidden": false
    }
   },
   "outputs": [],
   "source": [
    "from matplotlib import pyplot as plt\n",
    "import numpy as np\n",
    "\n",
    "f = lambda x: x**2 * np.sin(2 * np.pi * x)\n",
    "n = [5, 10, 15]\n",
    "\n",
    "x = np.linspace(0, 1, 100)\n",
    "y = f(x)\n",
    "plt.plot(x, y, label='f(x)')\n",
    "\n",
    "\n",
    "for i in n:\n",
    "    bernstein = bernstein_polynomial(f, i)\n",
    "    raise NotImplementedError(\"TODO\")\n",
    "\n",
    "\n",
    "\n",
    "plt.legend()\n",
    "plt.show()\n"
   ]
  },
  {
   "cell_type": "markdown",
   "id": "820a4585",
   "metadata": {
    "collapsed": false,
    "jupyter": {
     "outputs_hidden": false
    }
   },
   "source": [
    "- Creați o animație care prezintă o funcție continuă (pe [0,1]) și apoi polinoamele Bernstein de grade 2, 3, 4, …, 20 pentru a observa proprietatea de aproximare. Testați și pentru alte funcții.\n",
    "\n",
    "Exemplu animație:\n",
    "</br>\n",
    "<img src=\"https://github.com/prodangp/LaboratorCN/blob/main/media/lab10/Bernstein.gif?raw=true\">"
   ]
  },
  {
   "cell_type": "code",
   "execution_count": null,
   "id": "83d08d37",
   "metadata": {
    "collapsed": false,
    "jupyter": {
     "outputs_hidden": false
    }
   },
   "outputs": [],
   "source": []
  },
  {
   "cell_type": "markdown",
   "id": "e6d6bce5",
   "metadata": {
    "collapsed": false,
    "jupyter": {
     "outputs_hidden": false
    }
   },
   "source": [
    "- Extindeți animația pentru un interval mai larg, de exemplu [0, 10] (folosiți transformări afine: scalare plus translație - vedeți în curs la slide-ul 12)."
   ]
  },
  {
   "cell_type": "code",
   "execution_count": null,
   "id": "8cae551c",
   "metadata": {
    "collapsed": false,
    "jupyter": {
     "outputs_hidden": false
    }
   },
   "outputs": [],
   "source": []
  },
  {
   "cell_type": "markdown",
   "id": "13a0d25d",
   "metadata": {
    "collapsed": false,
    "jupyter": {
     "outputs_hidden": false
    }
   },
   "source": [
    "## Interpolarea pe bucăți și cu polinoame Lagrange"
   ]
  },
  {
   "cell_type": "markdown",
   "id": "bb8c7ad7",
   "metadata": {
    "collapsed": false,
    "jupyter": {
     "outputs_hidden": false
    }
   },
   "source": [
    "Interpolarea funcțiilor de o singură variabilă este formulată după cum urmează:\n",
    "Având în vedere **nodurile** ($x_i$, $y_i$), cu $i=\\overline{1,n}$, determinați funcția (numită și interpolant) al cărei grafic trece prin toate punctele, adică $f(x_i)=y_i, \\forall i=\\overline{1,n}$. Pentru început, vom folosi polinoame pe bucăți.\n",
    "\n",
    "\n",
    "### Documentație\n",
    "- Tipurile obișnuite de interpolanți sunt implementate în modulul Python `scipy.interpolate`:\n",
    "https://docs.scipy.org/doc/scipy/reference/interpolate.html\n",
    "\n",
    "- Pentru interpolarea polinomială pe bucăți, vom folosi funcția built-in `interp1d`:\n",
    "https://docs.scipy.org/doc/scipy/reference/generated/scipy.interpolate.interp1d.html\n",
    "\n",
    "\n",
    "### Exercițiu\n",
    "- Aplicați interpolarea polinomială pe setul de date definit mai jos, testând cel puțin trei tipuri diferite de interpolare pe bucăți:  nearest (gradul 0), liniară (gradul 1) și cubică (gradul 3) folosind funcția built-in `interp1d`. Pentru a schimba tipul de interpolare vedeți parametrul `kind`."
   ]
  },
  {
   "cell_type": "code",
   "execution_count": null,
   "id": "8022e25c",
   "metadata": {
    "ExecuteTime": {
     "end_time": "2024-04-22T00:14:30.904705Z",
     "start_time": "2024-04-22T00:14:30.839650Z"
    },
    "collapsed": false,
    "jupyter": {
     "outputs_hidden": false
    }
   },
   "outputs": [],
   "source": [
    "from scipy.interpolate import interp1d\n",
    "\n",
    "# set de date - temperatura în funcție de oră\n",
    "hours = [0.0, 1.0, 2.0, 3.0, 4.0, 5.0, 6.0, 7.0, 8.0, 9.0, 10.0, 11.0, 12.0, 13.0, 14.0, 15.0, 16.0, 17.0, 18.0, 19.0, 20.0, 21.0, 22.0, 23.0, 24.]\n",
    "temperature = [22, 20.5, 19, 18.5, 18, 18, 18.5, 19, 21, 23, 24, 24.5, 25, 26, 27, 28, 28, 26, 24.5, 23, 22, 22, 21.5, 21, 22]\n",
    "\n",
    "# plot\n",
    "plt.plot(hours , temperature, 'o', label='data points')\n",
    "\n",
    "# interpolare nearest\n",
    "\n",
    "\n",
    "\n",
    "# interpolare liniară\n",
    "\n",
    "\n",
    "\n",
    "\n",
    "# interpolare cubică\n",
    "\n",
    "\n",
    "\n",
    "\n",
    "plt.show()"
   ]
  },
  {
   "cell_type": "markdown",
   "id": "bca6a2e0",
   "metadata": {
    "collapsed": false,
    "jupyter": {
     "outputs_hidden": false
    }
   },
   "source": [
    "Pentru interpolarea cubică, există o funcție unică de interpolare spline cubică $s(x)$ care satisface $s(x_i)=y_i, \\forall i=\\overline{1,n}$ și $s''(x)$ este continuă în $x=x_2$ și $x=x_{n-1}$. Aceste condiții nu conțin informații despre punctele finale ale intervalului $a=x_1$ și $b=x_n$. Vectorii x și y conțin coordonatele nodului.\n",
    "\n",
    "Vedeți aici mai multe detalii: https://docs.scipy.org/doc/scipy/reference/generated/scipy.interpolate.CubicSpline.html#scipy.interpolate.CubicSpline.\n",
    "\n",
    "\n",
    "### Exercițiu\n",
    "- Comparați tipul cubic pentru `interp1d` cu clasa `CubicSpline`"
   ]
  },
  {
   "cell_type": "code",
   "execution_count": null,
   "id": "3e763d58",
   "metadata": {
    "collapsed": false,
    "jupyter": {
     "outputs_hidden": false
    }
   },
   "outputs": [],
   "source": []
  },
  {
   "cell_type": "markdown",
   "id": "9bdb0474",
   "metadata": {
    "collapsed": false,
    "jupyter": {
     "outputs_hidden": false
    }
   },
   "source": [
    "\n",
    "Pe lângă interpolarea pe bucăți, o altă abordare a interpolării constă în determinarea polinomului unic de grad de cel mult n-1 care trece prin toate cele `n` noduri ale noastre, în forma Lagrange sau Newton. În acest laborator, vom folosi forma Lagrange.\n",
    "\n",
    "Polinomul de interpolare Lagrange este definit ca:\n",
    "$$L(x) = \\sum_{j=1}^{n} y_j l_{j,n}(x)$$\n",
    "unde $l_{j,n}(x) = \\prod_{i=1, i\\neq j}^{n} \\frac{x-x_i}{x_j-x_i}$. iar $y$ sunt valorile funcției în nodurile $x$.\n",
    "\n",
    "### Exercițiu\n",
    "- Implementați forma Lagrange. Utilizați diverse funcții de testare pentru a extrage noduri. Exemple: $e^{\\sin{x}}$, $\\sin{2x}$. Ca și în cazul polinomului Bernstein, generați o animație pentru a evidenția proprietatea de aproximare (consultă cursul).\n",
    "- Comparați rezultatele cu funcția built-in Lagrange: https://docs.scipy.org/doc/scipy/reference/generated/scipy.interpolate.lagrange.html. Pentru a compara cele două metode, puteți folosi funcția `np.linalg.norm` pentru a calcula eroarea medie pătratică între cele două funcții."
   ]
  },
  {
   "cell_type": "code",
   "execution_count": null,
   "id": "8c0adb4c-7ef6-4bb4-abab-790ce1288df5",
   "metadata": {},
   "outputs": [],
   "source": []
  },
  {
   "cell_type": "markdown",
   "id": "8b996c4d",
   "metadata": {
    "collapsed": false,
    "jupyter": {
     "outputs_hidden": false
    }
   },
   "source": [
    "### Interpolare 2D\n",
    "Formularea problemei: dată fiind grila ${x, y}$ și valorile asociate $z$, se determină funcția $z = f(x, y)$ al cărei grafic trece prin punctele date, adică satisface $f(x_m, y_n) = z_{m,n}$ pentru toate perechile $m$ și $n$ posibile.\n",
    "Analog cu cazul cu o singură variabilă, vectorul $x$ ar trebui să fie sortat crescător, adică $x_1 < x_2 < … < x_m ..$\n",
    "\n",
    "Funcția Python încorporată este interp2d din același modul: https://docs.scipy.org/doc/scipy/reference/generated/scipy.interpolate.interp2d.html#scipy.interpolate.interp2d\n",
    "\n",
    "### Exercițiu\n",
    "Interpolați funcția $z = sin(x^2+ y^2)$ pe $[-1,1]^2$.\n",
    "Outputul ar putea arăta în felul următor:\n",
    "</br>\n",
    "<img width=500 src=\"https://github.com/prodangp/LaboratorCN/blob/main/media/lab10/interp2D.png?raw=true\"/>"
   ]
  },
  {
   "cell_type": "markdown",
   "id": "50721222",
   "metadata": {
    "collapsed": false,
    "jupyter": {
     "outputs_hidden": false
    }
   },
   "source": []
  }
 ],
 "metadata": {
  "kernelspec": {
   "display_name": "Python 3 (ipykernel)",
   "language": "python",
   "name": "python3"
  },
  "language_info": {
   "codemirror_mode": {
    "name": "ipython",
    "version": 3
   },
   "file_extension": ".py",
   "mimetype": "text/x-python",
   "name": "python",
   "nbconvert_exporter": "python",
   "pygments_lexer": "ipython3",
   "version": "3.11.5"
  }
 },
 "nbformat": 4,
 "nbformat_minor": 5
}
