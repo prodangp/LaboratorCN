{
 "cells": [
  {
   "cell_type": "markdown",
   "metadata": {},
   "source": [
    "# Calcul Numeric - Laborator 4 - Data Visualization II"
   ]
  },
  {
   "cell_type": "markdown",
   "metadata": {},
   "source": [
    "### Obiectiv\n",
    "\n",
    "În acest laborator vom învăța cum să creăm animații și să automatizăm preprocesarea și vizualizarea datelor cu dezvoltarea GUI."
   ]
  },
  {
   "cell_type": "code",
   "execution_count": 4,
   "metadata": {},
   "outputs": [],
   "source": [
    "import matplotlib.pyplot as plt\n",
    "import numpy as np"
   ]
  },
  {
   "cell_type": "markdown",
   "metadata": {},
   "source": [
    "## Animații"
   ]
  },
  {
   "cell_type": "markdown",
   "metadata": {},
   "source": [
    "### ``FuncAnimation``\n",
    "\n",
    "Clasa `~matplotlib.animation.FuncAnimation` ne permite să creăm o animație prin furnizarea unei funcții care modifică iterativ datele unui grafic. Acest lucru se realizează prin utilizarea metodelor *setter* pe diverse obiecte `~matplotlib.artist.Artist` (exemple: `~matplotlib.lines.Line2D`, `~matplotlib.collections.PathCollection`, etc.). Un obiect obișnuit `~matplotlib.animation.FuncAnimation` primește un `~matplotlib.figure.Figure` pe care dorim să-l animăm și o funcție *func* care modifică datele desenate pe figură. Se folosește parametrul *frames* pentru a determina durata animației (numărul de cadre). Parametrul *interval* este folosit pentru a determina timpul în milisecunde între desenarea a două cadre. Pentru a creea o animație cu `.FuncAnimation` se urmează următorii pași:\n",
    "\n",
    "- Se desenează figura inițială, incluzând toate obiectele necesare de tip artist (îi vom numi artiști, e.g. lines, scatter plots). Salvează toți artiștii în variabile astfel încât să poată fi actualizați ulterior în timpul animației.\n",
    "- Se creează o funcție care actualizează datele din fiecare artist pentru a genera noul cadru la fiecare apel al funcției.\n",
    "- Se creează un obiect `.FuncAnimation` cu `.Figure` și funcția de la pasul anterior, împreună cu argumentele cheie care determină proprietățile animației.\n",
    "- Se folosește `.animation.Animation.save` sau `.pyplot.show` pentru a salva sau afișa animația.\n",
    "\n",
    "  \n",
    "https://matplotlib.org/stable/users/explain/animations/animations.html\n",
    "https://matplotlib.org/stable/api/_as_gen/matplotlib.animation.FuncAnimation.html#matplotlib.animation.FuncAnimation\n",
    "\n",
    "### Un simplu exemplu - animație de zgomot"
   ]
  },
  {
   "cell_type": "code",
   "execution_count": 3,
   "metadata": {},
   "outputs": [
    {
     "data": {
      "application/vnd.jupyter.widget-view+json": {
       "model_id": "aff366a88e214f89a07130d3f2fbe7e7",
       "version_major": 2,
       "version_minor": 0
      },
      "image/png": "[encoded data removed]",
      "text/html": [
       "\n",
       "            <div style=\"display: inline-block;\">\n",
       "                <div class=\"jupyter-widgets widget-label\" style=\"text-align: center;\">\n",
       "                    Figure\n",
       "                </div>\n",
       "                <img src='data:image/png;base64,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' width=640.0/>\n",
       "            </div>\n",
       "        "
      ],
      "text/plain": [
       "Canvas(toolbar=Toolbar(toolitems=[('Home', 'Reset original view', 'home', 'home'), ('Back', 'Back to previous …"
      ]
     },
     "metadata": {},
     "output_type": "display_data"
    }
   ],
   "source": [
    "import matplotlib.animation as animation\n",
    "%matplotlib widget\n",
    "\n",
    "fig, ax = plt.subplots()\n",
    "\n",
    "def update(frame):\n",
    "    # generăm zgomot aleator folosind o distribuție normală\n",
    "    noise = np.random.normal(size=(32, 32)) \n",
    "    # actualizăm imaginea\n",
    "    im = ax.imshow(noise, cmap='binary')\n",
    "    ax.text(0, 0.5, frame)\n",
    "    \n",
    "    return im\n",
    "\n",
    "\n",
    "ani = animation.FuncAnimation(fig=fig, func=update, frames=20, interval=30, repeat=False) \n",
    "# 20 de frame-uri, fiecare frame se afișează la un interval de 30 ms dupa cel precedent\n",
    "\n",
    "plt.show()"
   ]
  },
  {
   "cell_type": "markdown",
   "metadata": {},
   "source": [
    "### Animație cu lansarea unui proiectil cu diferite viteze"
   ]
  },
  {
   "cell_type": "code",
   "execution_count": null,
   "metadata": {},
   "outputs": [],
   "source": [
    "\n",
    "fig2, ax2 = plt.subplots()  # folosim alt nume de variabilă pentru fig și ax pentru a evita eventuale suprapuneri cu animația de mai sus\n",
    "t = np.linspace(0, 3, 40)\n",
    "g = -9.81\n",
    "\n",
    "\n",
    "# implementarea fizicii\n",
    "\n",
    "v0 = 12 # viteza primului proiectil\n",
    "z = g * t**2 / 2 + v0 * t\n",
    "\n",
    "v02 = 5 # viteza celui de-al doilea proiectil\n",
    "z2 = g * t**2 / 2 + v02 * t\n",
    "\n",
    "\n",
    "# definim artiștii (scatter, line plots)\n",
    "scat = ax2.scatter(t[0], z[0], c=\"b\", s=5, label=f'v0 = {v0} m/s')\n",
    "line2 = ax2.plot(t[0], z2[0], label=f'v0 = {v02} m/s')[0]\n",
    "ax2.set(xlim=[0, 3], ylim=[-4, 10], xlabel='Time [s]', ylabel='Z [m]')\n",
    "ax2.legend()\n",
    "\n",
    "\n",
    "def update(frame):\n",
    "    # pentru fiecare frame, actualizăm datele pentru fiecare artist\n",
    "    x = t[:frame]\n",
    "    y = z[:frame]\n",
    "    # actualizăm artistul scatter\n",
    "    data = np.stack([x, y]).T\n",
    "    scat.set_offsets(data)\n",
    "    # actualizăm artistul line\n",
    "    line2.set_xdata(t[:frame])\n",
    "    line2.set_ydata(z2[:frame])\n",
    "    return (scat, line2) \n",
    "\n",
    "\n",
    "ani = animation.FuncAnimation(fig=fig2, func=update, frames=40, interval=30, repeat=False)\n",
    "\n",
    "# testează salvarea unei animații sub formă de gif\n",
    "# ani.save('./animatie_test.gif')\n",
    "\n",
    "plt.show()\n"
   ]
  },
  {
   "cell_type": "markdown",
   "metadata": {},
   "source": [
    "Explorează mai multe exemple!\n",
    "- https://jakevdp.github.io/blog/2012/08/18/matplotlib-animation-tutorial/\n",
    "- https://www.geeksforgeeks.org/matplotlib-animation-funcanimation-class-in-python/\n",
    "- https://www.tutorialspoint.com/how-to-create-animations-in-python"
   ]
  },
  {
   "cell_type": "markdown",
   "metadata": {},
   "source": [
    "### Lucru în echipă\n",
    "În acest exercițiu **tu și colegii de echipă** veți simula mișcarea circulară a unui obiect.\n",
    "\n",
    "- Să considerăm un punct arbitrar pe un cerc de rază $r=1$. Definiți o funcție care să returneze coordonatele x și y pentru acest punct cunoscând poziția unghiulară $u$. Cercul este centrat în orgine la $(0, 0)$, astfel încât:\n",
    "$$x=sin(u)$$\n",
    "$$y=cos(u)$$\n",
    "- Generați imaginea unui cerc aplicând funcția implementată mai sus pe un set de valori generate uniform în intervalul $[0, 2\\pi)$. Folosiți un line plot (nu scatter).\n",
    "- Plotați un punct individual la $u=\\pi/2$ cu un marker de dimensiune 8\n",
    "- Creați animația unui obiect care se mișcă pe o traiectorie circulară descrisă de funcția de mai sus. Indiciu: incrementați valoarea unghiului $u$ pentru a mișca obiectul pe cerc - $u = u + du$. Încercați să simulați diferite viteze de rotație."
   ]
  },
  {
   "cell_type": "code",
   "execution_count": null,
   "metadata": {},
   "outputs": [],
   "source": [
    "# observați că np.sin și np.cos lucrează cu radiani! Folosiți valoarea lui pi pentru a echivala 180 de grade: np.pi = 3,14159...\n",
    "u = np.pi/4\n",
    "sin_u = np.sin(u)\n",
    "print(u, sin_u)"
   ]
  },
  {
   "cell_type": "code",
   "execution_count": null,
   "metadata": {},
   "outputs": [],
   "source": []
  },
  {
   "cell_type": "markdown",
   "metadata": {},
   "source": [
    "## Dezvoltarea aplicațiilor GUI"
   ]
  },
  {
   "cell_type": "markdown",
   "metadata": {},
   "source": [
    "Mai departe vom aborda modul în care vom putea dezvolta aplicații GUI în Python. Vom introduce și Spyder, un alt IDE pentru Python, dar puteți folosi și alte IDE-uri după bunul plac (e.g. PyCharm, VSCode, etc).\n",
    "\n",
    "Dezvoltarea GUI ne va ajuta să automatizăm preprocesarea și vizualizarea datelor. Vom dezvolta interfețe care citesc, preprocesează și manipulează datele doar apăsând pe diferite butoane. Veți implementa funcțiile care sunt declanșate de aceste butoane."
   ]
  },
  {
   "cell_type": "markdown",
   "metadata": {},
   "source": [
    "### Syder IDE\n",
    "Spyder este un IDE gratuit și open source pentru Python.\n",
    "\n",
    "Câteva caracteristici ale Spyder:\n",
    "1. **Editare:** Oferă un editor de cod cu funcții avansate precum evidențierea sintaxei, completarea automată a codului și navigarea rapidă prin fișiere.\n",
    "2. **Depanare eficientă:** Spyder vine cu un debugger eficient care permite urmărirea și depanarea codului Python pas cu pas.\n",
    "3. **Optimizare:** Furnizează instrumente de optimizare a codului pentru a identifica și remedia zonele de încetinire.\n",
    "4. **Explorare interactivă a datelor:** Permite explorarea interactivă a seturilor de date prin intermediul consolei IPython și a panourilor de date.\n",
    "5. **Integrare cu alte instrumente Python:** Spyder se integrează bine cu alte pachete și biblioteci Python, precum matplotlib, scikit-learn și altele.\n",
    "6. **Configurare ușoară:** Este ușor de configurat și personalizat în funcție de nevoile utilizatorului, cu opțiuni pentru modificarea aspectului, comenzi rapide personalizate și așa mai departe."
   ]
  },
  {
   "attachments": {},
   "cell_type": "markdown",
   "metadata": {},
   "source": [
    "#### Îl putem instala direct din Anaconda:\n",
    "<center>\n",
    "<img width=200 src=\"https://github.com/prodangp/LaboratorCN/blob/main/media/lab4/spyder_install.png?raw=true\"/>\n",
    "</center>\n",
    "\n",
    "#### Cum deschidem un nou proiect?\n",
    "1. Mergem în bara de sus și alegem Projects -> New Project...;\n",
    "Apoi, alegem un nume și salvăm proiectul undeva în PC.\n",
    "2. În stânga va apărea un panou cu numele proiectului. Dăm click dreapta și deschidem un nou fișier.\n",
    "3. Verifică faptul că totul este în regulă rulând noul fișier creat. De exemplu, scrie o instruțiune de test `print('Hello Spyder!)`.\n",
    "Vei putea vedea output-ul în consola de jos.\n",
    "\n",
    "<center>\n",
    "    <img width=800 src=\"https://github.com/prodangp/LaboratorCN/blob/main/media/lab4/spyder_project.png?raw=true\"/>\n",
    "</center>\n",
    "\n",
    "#### vei putea folosi aceeași consolă pentru a instala pachete noi cu `pip`:\n",
    "<img src=\"https://github.com/prodangp/LaboratorCN/blob/main/media/lab4/spyder_pip.png?raw=true\"/>"
   ]
  },
  {
   "attachments": {},
   "cell_type": "markdown",
   "metadata": {},
   "source": [
    "### PyQT5\n",
    "\n",
    "PyQt este o bibliotecă care îți permite să folosești framework-ul grafic Qt în Python. Qt în sine este scris în C++. Utilizându-l din Python, poți construi aplicații mult mai rapid fără a sacrifica prea mult din viteza oferită de C++.\n",
    "\n",
    "PyQt5 se referă la versiunea 5 a Qt. S-ar putea să mai găsești menționată ocazional (Py)Qt4 pe web, dar este veche și nu mai estîntreținutătă. În schimb există și PyQt6, dar diferențele față de 5 nu sunt foarte mari. Aruncă o privire aici: https://www.pythonguis.com/faq/pyqt5-vs-pyqt6/\n",
    "\n",
    "Un competitor interesant pentru PyQt este Qt for Python. API-ul său este practic identic. Spre deosebire de PyQt, este licențiat sub LGPL și poate fi utilizat gratuit în proiecte comerciale. Este susținut de compania Qt și, prin urmare, probabil de viitor. Deoarece API-urile sunt atât de similare, poți trece cu ușurință aplicațiile tale la Qt for Python mai târziu. Vezi: https://www.qt.io/qt-for-py\n",
    "\n",
    "O altă alternativă care nu folosește Qt este tkinter - https://realpython.com/python-gui-tkinter/\n",
    "\n",
    "\n",
    "##### În celula de mai jos avem un prim exemplu foarte simplu. Ar trebui să se deschidă o mică interfață atunci când executați celula. Dacă nu funcționează resetează notebook-ul (Kernel -> Restart Kernel...) și încearcă din nou, sau copiază codul în noul tău fișier Spyder și încearcă acolo. \n",
    "\n",
    "**Important:**\n",
    " - Pentru partea de interfețe grafice vom lucra mai mult în Syder pentru a gestiona mai ușor codul în multiple fișiere.\n",
    " - Salvează toate exemplele PyQt5 într-un proiect Spyder."
   ]
  },
  {
   "cell_type": "code",
   "execution_count": null,
   "metadata": {},
   "outputs": [],
   "source": [
    "from PyQt5.QtWidgets import QApplication, QWidget, QPushButton, QLabel, QVBoxLayout\n",
    "app = QApplication([])   # inițializăm aplicația\n",
    "window = QWidget()   # creez o fereastră\n",
    "layout = QVBoxLayout()  # creez un layout - VBox - vertical box - așează widget-urile pe verticală\n",
    "\n",
    "# adăugam un label la layout\n",
    "label = QLabel('Apasă butonul')\n",
    "layout.addWidget(label)    \n",
    "\n",
    "# adăgăm un buton după label\n",
    "button = QPushButton('Nu mă apăsa')\n",
    "layout.addWidget(button)   \n",
    "\n",
    "cnt = 0 # contor care sa monitorizeze de câte ori am apăsat butonul\n",
    "\n",
    "# definim o functie care va fi apelata cand butonul este apasat\n",
    "def btn_pushed():\n",
    "    global cnt\n",
    "    cnt += 1\n",
    "    print(f\"Ai apăsat butonul de {cnt} ori\")\n",
    "\n",
    "    \n",
    "# conectam butonul la functia creata\n",
    "button.clicked.connect(btn_pushed) \n",
    "\n",
    "\n",
    "window.setLayout(layout)  # adăugăm layout-ul la window\n",
    "window.show() # arătăm fereastra creată\n",
    "app.exec() # executăm aplicația"
   ]
  },
  {
   "cell_type": "markdown",
   "metadata": {},
   "source": [
    "#### Pentru proiectul final va trebui să dezvoltați o interfață grafică (GUI). Puteți folosi orice tehnologie doriți pentru a dezvolta GUI-ul, dar pe parcursul laboratorului exemplele se vor baza pe PyQt5."
   ]
  },
  {
   "cell_type": "markdown",
   "metadata": {},
   "source": [
    "### Obiectele de tip widget\n",
    "Widget-ul este elementul de bază în PyQt5. Toate widget-urile (label-uri, butoane, căsuțe de text) sunt bazate pe clasa `QWidget`.\n",
    "\n",
    "Puteți consulta următoarele resurse pentru a vă familiariza cu widget-urile elementare:\n",
    "- https://www.pythonguis.com/tutorials/pyqt-basic-widgets/\n",
    "- https://www.tutorialspoint.com/pyqt/pyqt_basic_widgets.htm\n",
    "- documentația oficială: https://doc.qt.io/\n",
    "  \n",
    "**Un widget se creează simplu invocând clasa acestuia:**\n",
    "```python\n",
    "label = QLabel(\"Textul pe care vrei să îl afișezi cu această etichetă/label.\")\n",
    "```\n",
    "Label-urile se folosesc pentru a afișa text. Le putem stiliza, de exemplu:\n",
    "- Stilizăm textul: bold, font mai mare\n",
    " ```python\n",
    "label.setFont(QFont(\"Arial\", 24, QFont.Bold))\n",
    "```\n",
    "       \n",
    "- Stilizăm fundalul și culoarea textului\n",
    "```python\n",
    "label.setStyleSheet(\"background-color: lightblue; color: darkblue;\")\n",
    "```\n",
    "\n",
    "- Aliniere text la centru\n",
    "```python\n",
    "label.setAlignment(Qt.AlignCenter)\n",
    "```\n",
    "\n",
    "La fel putem proceda și cu butoanele, căsuțele de text/radio/combo.\n",
    "\n",
    "*Sau mai avansat, putem folosi **QSS (Qt Style Sheets)** - care funcționează similar cu CSS-urile. Vezi https://www.pythontutorial.net/pyqt/qt-style-sheets/ pentru mai multe detalii.*\n"
   ]
  },
  {
   "cell_type": "markdown",
   "metadata": {},
   "source": [
    "### Exemplu QLabel"
   ]
  },
  {
   "cell_type": "code",
   "execution_count": null,
   "metadata": {},
   "outputs": [],
   "source": [
    "import sys\n",
    "from PyQt5.QtWidgets import QApplication, QLabel\n",
    "from PyQt5.QtGui import QFont\n",
    "from PyQt5.QtCore import Qt\n",
    "\n",
    "def main():\n",
    "    app = QApplication(sys.argv)\n",
    "\n",
    "    # Creăm un QLabel\n",
    "    label = QLabel(\"Exemplu QLabel\")\n",
    "\n",
    "    # Stilizăm textul: bold, font mai mare\n",
    "    label.setFont(QFont(\"Arial\", 24\n",
    "                        , QFont.Bold))\n",
    "\n",
    "    # Stilizăm fundalul și culoarea textului\n",
    "    label.setStyleSheet(\"background-color: lightblue; color: darkblue;\")\n",
    "\n",
    "    # Aliniere text la centru\n",
    "    label.setAlignment(Qt.AlignCenter)\n",
    "    \n",
    "    # Afișăm fereastra\n",
    "    label.show()\n",
    "    sys.exit(app.exec_())\n",
    "\n",
    "if __name__ == '__main__':\n",
    "    main()"
   ]
  },
  {
   "cell_type": "markdown",
   "metadata": {},
   "source": [
    "### Exercițiu\n",
    "\n",
    "- Copiază codurile de mai sus în Spyder și verifică dacă funcționează corespunzător.\n",
    "- Încearcă să adaugi cu `layout.addWidget()` și alte widget-uri în layout: https://www.pythonguis.com/tutorials/pyqt-basic-widgets/\n",
    "- Customizează widget-urile adăugate.\n"
   ]
  },
  {
   "cell_type": "markdown",
   "metadata": {},
   "source": [
    "## BONUS\n",
    "Acesta este un exercițiu opțional. Rezolvarea completă a acestui exercițiu vă poate aduce punctaj suplimentar la nota de la laborator (+10p).\n",
    "\n",
    "Creează un calculator minimalist pentru funcții trigonometrice/logaritmi folosind widget-uri potrivite (https://www.pythonguis.com/tutorials/pyqt-basic-widgets/ - găsești aici tot ce trebuie). \n",
    "\n",
    "**Cerințe specifice:**\n",
    " - Asigurați-vă că interfața grafică este intuitivă și ușor de utilizat.\n",
    " - Aplicația trebuie să permită utilizatorului să aleagă baza logaritmică (log2, ln, log10, etc).\n",
    " - Aplicația trebuie să permită utilizatorului să aleagă funcția trigonometrică (sin, cos, tg, ctg).\n",
    " - Utilizatorul introduce valoarea argumentului `x`, iar GUI-ul afișează cu un `QLabel` valoarea obținută.\n",
    " - Implementează QSS pentru a customiza design-ul aplicației. Be creative!"
   ]
  }
 ],
 "metadata": {
  "kernelspec": {
   "display_name": "Python 3 (ipykernel)",
   "language": "python",
   "name": "python3"
  },
  "language_info": {
   "codemirror_mode": {
    "name": "ipython",
    "version": 3
   },
   "file_extension": ".py",
   "mimetype": "text/x-python",
   "name": "python",
   "nbconvert_exporter": "python",
   "pygments_lexer": "ipython3",
   "version": "3.11.0"
  }
 },
 "nbformat": 4,
 "nbformat_minor": 4
}
