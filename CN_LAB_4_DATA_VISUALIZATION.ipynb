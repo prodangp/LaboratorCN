{
 "cells": [
  {
   "cell_type": "markdown",
   "metadata": {},
   "source": [
    "# Calcul Numeric - Laborator 4 - Data Visualization II"
   ]
  },
  {
   "cell_type": "markdown",
   "metadata": {},
   "source": [
    "### Obiectiv\n",
    "\n",
    "În acest laborator vom învăța cum să creăm animații și să automatizăm preprocesarea și vizualizarea datelor cu dezvoltarea GUI."
   ]
  },
  {
   "cell_type": "code",
   "execution_count": 1,
   "metadata": {},
   "outputs": [],
   "source": [
    "import matplotlib.pyplot as plt\n",
    "import numpy as np"
   ]
  },
  {
   "cell_type": "markdown",
   "metadata": {},
   "source": [
    "### Requirements\n",
    "Pentru a lucra cu animații ai nevoie de IPython. Îl vei putea instala folosind următoarea comandă:"
   ]
  },
  {
   "cell_type": "code",
   "execution_count": 2,
   "metadata": {},
   "outputs": [
    {
     "name": "stdout",
     "output_type": "stream",
     "text": [
      "Requirement already satisfied: ipympl in c:\\users\\georg\\anaconda3\\envs\\didactic\\lib\\site-packages (0.9.7)\n",
      "Requirement already satisfied: ipython<10 in c:\\users\\georg\\appdata\\roaming\\python\\python311\\site-packages (from ipympl) (8.22.1)\n",
      "Requirement already satisfied: ipywidgets<9,>=7.6.0 in c:\\users\\georg\\anaconda3\\envs\\didactic\\lib\\site-packages (from ipympl) (8.1.5)\n",
      "Requirement already satisfied: matplotlib<4,>=3.5.0 in c:\\users\\georg\\anaconda3\\envs\\didactic\\lib\\site-packages (from ipympl) (3.10.1)\n",
      "Requirement already satisfied: numpy in c:\\users\\georg\\anaconda3\\envs\\didactic\\lib\\site-packages (from ipympl) (1.26.4)\n",
      "Requirement already satisfied: pillow in c:\\users\\georg\\anaconda3\\envs\\didactic\\lib\\site-packages (from ipympl) (11.1.0)\n",
      "Requirement already satisfied: traitlets<6 in c:\\users\\georg\\appdata\\roaming\\python\\python311\\site-packages (from ipympl) (5.14.1)\n",
      "Requirement already satisfied: decorator in c:\\users\\georg\\appdata\\roaming\\python\\python311\\site-packages (from ipython<10->ipympl) (5.1.1)\n",
      "Requirement already satisfied: jedi>=0.16 in c:\\users\\georg\\appdata\\roaming\\python\\python311\\site-packages (from ipython<10->ipympl) (0.19.1)\n",
      "Requirement already satisfied: matplotlib-inline in c:\\users\\georg\\appdata\\roaming\\python\\python311\\site-packages (from ipython<10->ipympl) (0.1.6)\n",
      "Requirement already satisfied: prompt-toolkit<3.1.0,>=3.0.41 in c:\\users\\georg\\appdata\\roaming\\python\\python311\\site-packages (from ipython<10->ipympl) (3.0.43)\n",
      "Requirement already satisfied: pygments>=2.4.0 in c:\\users\\georg\\appdata\\roaming\\python\\python311\\site-packages (from ipython<10->ipympl) (2.17.2)\n",
      "Requirement already satisfied: stack-data in c:\\users\\georg\\appdata\\roaming\\python\\python311\\site-packages (from ipython<10->ipympl) (0.6.3)\n",
      "Requirement already satisfied: colorama in c:\\users\\georg\\appdata\\roaming\\python\\python311\\site-packages (from ipython<10->ipympl) (0.4.6)\n",
      "Requirement already satisfied: comm>=0.1.3 in c:\\users\\georg\\appdata\\roaming\\python\\python311\\site-packages (from ipywidgets<9,>=7.6.0->ipympl) (0.2.1)\n",
      "Requirement already satisfied: widgetsnbextension~=4.0.12 in c:\\users\\georg\\anaconda3\\envs\\didactic\\lib\\site-packages (from ipywidgets<9,>=7.6.0->ipympl) (4.0.13)\n",
      "Requirement already satisfied: jupyterlab-widgets~=3.0.12 in c:\\users\\georg\\anaconda3\\envs\\didactic\\lib\\site-packages (from ipywidgets<9,>=7.6.0->ipympl) (3.0.13)\n",
      "Requirement already satisfied: contourpy>=1.0.1 in c:\\users\\georg\\anaconda3\\envs\\didactic\\lib\\site-packages (from matplotlib<4,>=3.5.0->ipympl) (1.3.1)\n",
      "Requirement already satisfied: cycler>=0.10 in c:\\users\\georg\\anaconda3\\envs\\didactic\\lib\\site-packages (from matplotlib<4,>=3.5.0->ipympl) (0.12.1)\n",
      "Requirement already satisfied: fonttools>=4.22.0 in c:\\users\\georg\\anaconda3\\envs\\didactic\\lib\\site-packages (from matplotlib<4,>=3.5.0->ipympl) (4.56.0)\n",
      "Requirement already satisfied: kiwisolver>=1.3.1 in c:\\users\\georg\\anaconda3\\envs\\didactic\\lib\\site-packages (from matplotlib<4,>=3.5.0->ipympl) (1.4.8)\n",
      "Requirement already satisfied: packaging>=20.0 in c:\\users\\georg\\anaconda3\\envs\\didactic\\lib\\site-packages (from matplotlib<4,>=3.5.0->ipympl) (24.2)\n",
      "Requirement already satisfied: pyparsing>=2.3.1 in c:\\users\\georg\\anaconda3\\envs\\didactic\\lib\\site-packages (from matplotlib<4,>=3.5.0->ipympl) (3.2.1)\n",
      "Requirement already satisfied: python-dateutil>=2.7 in c:\\users\\georg\\anaconda3\\envs\\didactic\\lib\\site-packages (from matplotlib<4,>=3.5.0->ipympl) (2.9.0.post0)\n",
      "Requirement already satisfied: parso<0.9.0,>=0.8.3 in c:\\users\\georg\\appdata\\roaming\\python\\python311\\site-packages (from jedi>=0.16->ipython<10->ipympl) (0.8.3)\n",
      "Requirement already satisfied: wcwidth in c:\\users\\georg\\appdata\\roaming\\python\\python311\\site-packages (from prompt-toolkit<3.1.0,>=3.0.41->ipython<10->ipympl) (0.2.13)\n",
      "Requirement already satisfied: six>=1.5 in c:\\users\\georg\\appdata\\roaming\\python\\python311\\site-packages (from python-dateutil>=2.7->matplotlib<4,>=3.5.0->ipympl) (1.16.0)\n",
      "Requirement already satisfied: executing>=1.2.0 in c:\\users\\georg\\appdata\\roaming\\python\\python311\\site-packages (from stack-data->ipython<10->ipympl) (2.0.1)\n",
      "Requirement already satisfied: asttokens>=2.1.0 in c:\\users\\georg\\appdata\\roaming\\python\\python311\\site-packages (from stack-data->ipython<10->ipympl) (2.4.1)\n",
      "Requirement already satisfied: pure-eval in c:\\users\\georg\\appdata\\roaming\\python\\python311\\site-packages (from stack-data->ipython<10->ipympl) (0.2.2)\n"
     ]
    }
   ],
   "source": [
    "!pip install ipympl"
   ]
  },
  {
   "cell_type": "markdown",
   "metadata": {},
   "source": [
    "În caz că întâmpini erori la executarea animațiilor, încearcă sa faci update la matplotlib sau la Python."
   ]
  },
  {
   "cell_type": "markdown",
   "metadata": {},
   "source": [
    "## Animații"
   ]
  },
  {
   "cell_type": "markdown",
   "metadata": {},
   "source": [
    "### ``FuncAnimation``\n",
    "\n",
    "Clasa `~matplotlib.animation.FuncAnimation` ne permite să creăm o animație prin furnizarea unei funcții care modifică iterativ datele unui grafic. Acest lucru se realizează prin utilizarea metodelor *setter* pe diverse obiecte `~matplotlib.artist.Artist` (exemple: `~matplotlib.lines.Line2D`, `~matplotlib.collections.PathCollection`, etc.). Un obiect obișnuit `~matplotlib.animation.FuncAnimation` primește un `~matplotlib.figure.Figure` pe care dorim să-l animăm și o funcție *func* care modifică datele desenate pe figură. Se folosește parametrul *frames* pentru a determina durata animației (numărul de cadre). Parametrul *interval* este folosit pentru a determina timpul în milisecunde între desenarea a două cadre. Pentru a creea o animație cu `.FuncAnimation` se urmează următorii pași:\n",
    "\n",
    "- Se desenează figura inițială, incluzând toate obiectele necesare de tip artist (îi vom numi artiști, e.g. lines, scatter plots). Salvează toți artiștii în variabile astfel încât să poată fi actualizați ulterior în timpul animației.\n",
    "- Se creează o funcție care actualizează datele din fiecare artist pentru a genera noul cadru la fiecare apel al funcției.\n",
    "- Se creează un obiect `.FuncAnimation` cu `.Figure` și funcția de la pasul anterior, împreună cu argumentele cheie care determină proprietățile animației.\n",
    "- Se folosește `.animation.Animation.save` sau `.pyplot.show` pentru a salva sau afișa animația.\n",
    "\n",
    "  \n",
    "https://matplotlib.org/stable/users/explain/animations/animations.html\n",
    "https://matplotlib.org/stable/api/_as_gen/matplotlib.animation.FuncAnimation.html#matplotlib.animation.FuncAnimation\n",
    "\n",
    "### Un simplu exemplu - animație de zgomot"
   ]
  },
  {
   "cell_type": "code",
   "execution_count": 3,
   "metadata": {},
   "outputs": [
    {
     "data": {
      "application/vnd.jupyter.widget-view+json": {
       "model_id": "940406ea49c64fe2ac724819bc64613e",
       "version_major": 2,
       "version_minor": 0
      },
      "image/png": "[encoded data removed]",
      "text/html": [
       "\n",
       "            <div style=\"display: inline-block;\">\n",
       "                <div class=\"jupyter-widgets widget-label\" style=\"text-align: center;\">\n",
       "                    Figure\n",
       "                </div>\n",
       "                <img src='data:image/png;base64,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' width=640.0/>\n",
       "            </div>\n",
       "        "
      ],
      "text/plain": [
       "Canvas(toolbar=Toolbar(toolitems=[('Home', 'Reset original view', 'home', 'home'), ('Back', 'Back to previous …"
      ]
     },
     "metadata": {},
     "output_type": "display_data"
    }
   ],
   "source": [
    "import matplotlib.animation as animation\n",
    "%matplotlib widget\n",
    "\n",
    "fig, ax = plt.subplots()\n",
    "\n",
    "def update(frame):\n",
    "    # generăm zgomot aleator folosind o distribuție normală\n",
    "    noise = np.random.normal(size=(32, 32)) \n",
    "    # actualizăm imaginea\n",
    "    im = ax.imshow(noise, cmap='binary')\n",
    "    ax.set_title(frame)\n",
    "\n",
    "    return im\n",
    "\n",
    "\n",
    "ani = animation.FuncAnimation(fig=fig, func=update, frames=20, interval=30, repeat=False) \n",
    "# 20 de frame-uri, fiecare frame se afișează la un interval de 30 ms dupa cel precedent\n",
    "ani.save('./animatie.gif')\n",
    "plt.show()"
   ]
  },
  {
   "cell_type": "markdown",
   "metadata": {},
   "source": [
    "### Animație cu lansarea unui proiectil cu diferite viteze"
   ]
  },
  {
   "cell_type": "code",
   "execution_count": 4,
   "metadata": {},
   "outputs": [
    {
     "data": {
      "application/vnd.jupyter.widget-view+json": {
       "model_id": "7ca68829d55d4736ae8a685a2d8423e9",
       "version_major": 2,
       "version_minor": 0
      },
      "image/png": "[encoded data removed]",
      "text/html": [
       "\n",
       "            <div style=\"display: inline-block;\">\n",
       "                <div class=\"jupyter-widgets widget-label\" style=\"text-align: center;\">\n",
       "                    Figure\n",
       "                </div>\n",
       "                <img src='data:image/png;base64,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' width=640.0/>\n",
       "            </div>\n",
       "        "
      ],
      "text/plain": [
       "Canvas(toolbar=Toolbar(toolitems=[('Home', 'Reset original view', 'home', 'home'), ('Back', 'Back to previous …"
      ]
     },
     "metadata": {},
     "output_type": "display_data"
    }
   ],
   "source": [
    "\n",
    "fig2, ax2 = plt.subplots()  # folosim alt nume de variabilă pentru fig și ax pentru a evita eventuale suprapuneri cu animația de mai sus\n",
    "t = np.linspace(0, 3, 40)\n",
    "g = -9.81\n",
    "\n",
    "\n",
    "# implementarea fizicii\n",
    "\n",
    "v0 = 12 # viteza primului proiectil\n",
    "z = g * t**2 / 2 + v0 * t\n",
    "\n",
    "v02 = 5 # viteza celui de-al doilea proiectil\n",
    "z2 = g * t**2 / 2 + v02 * t\n",
    "\n",
    "\n",
    "# definim artiștii (scatter, line plots)\n",
    "scat = ax2.scatter(t[0], z[0], c=\"b\", s=5, label=f'v0 = {v0} m/s')\n",
    "line2 = ax2.plot(t[0], z2[0], label=f'v0 = {v02} m/s')[0]\n",
    "ax2.set(xlim=[0, 3], ylim=[-4, 10], xlabel='Time [s]', ylabel='Z [m]')\n",
    "ax2.legend()\n",
    "\n",
    "\n",
    "def update(frame):\n",
    "    # pentru fiecare frame, actualizăm datele pentru fiecare artist\n",
    "    x = t[:frame]\n",
    "    y = z[:frame]\n",
    "    # actualizăm artistul scatter\n",
    "    data = np.stack([x, y]).T\n",
    "    scat.set_offsets(data)\n",
    "    # actualizăm artistul line\n",
    "    line2.set_xdata(t[:frame])\n",
    "    line2.set_ydata(z2[:frame])\n",
    "    return (scat, line2) \n",
    "\n",
    "\n",
    "ani = animation.FuncAnimation(fig=fig2, func=update, frames=40, interval=30, repeat=False)\n",
    "\n",
    "# testează salvarea unei animații sub formă de gif\n",
    "# ani.save('./animatie_test.gif')\n",
    "\n",
    "plt.show()\n"
   ]
  },
  {
   "cell_type": "markdown",
   "metadata": {},
   "source": [
    "Explorează mai multe exemple!\n",
    "- https://jakevdp.github.io/blog/2012/08/18/matplotlib-animation-tutorial/\n",
    "- https://www.geeksforgeeks.org/matplotlib-animation-funcanimation-class-in-python/\n",
    "- https://www.tutorialspoint.com/how-to-create-animations-in-python"
   ]
  },
  {
   "cell_type": "markdown",
   "metadata": {},
   "source": [
    "### Lucru în echipă\n",
    "În acest exercițiu **tu și colegii de echipă** veți simula mișcarea circulară a unui obiect.\n",
    "\n",
    "- Să considerăm un punct arbitrar pe un cerc de rază $r=1$. Definiți o funcție care să returneze coordonatele x și y pentru acest punct cunoscând poziția unghiulară $u$. Cercul este centrat în orgine la $(0, 0)$, astfel încât:\n",
    "$$x=sin(u)$$\n",
    "$$y=cos(u)$$\n",
    "- Generați imaginea unui cerc aplicând funcția implementată mai sus pe un set de valori generate uniform în intervalul $[0, 2\\pi)$. Folosiți un line plot (nu scatter).\n",
    "- Plotați un punct individual la $u=\\pi/2$ cu un marker de dimensiune 8\n",
    "- Creați animația unui obiect care se mișcă pe o traiectorie circulară descrisă de funcția de mai sus. Indiciu: incrementați valoarea unghiului $u$ pentru a mișca obiectul pe cerc - $u = u + du$. Încercați să simulați diferite viteze de rotație."
   ]
  },
  {
   "cell_type": "code",
   "execution_count": 5,
   "metadata": {},
   "outputs": [
    {
     "name": "stdout",
     "output_type": "stream",
     "text": [
      "0.7853981633974483 0.7071067811865476\n"
     ]
    }
   ],
   "source": [
    "# observați că np.sin și np.cos lucrează cu radiani! Folosiți valoarea lui pi pentru a echivala 180 de grade: np.pi = 3,14159...\n",
    "u = np.pi/4\n",
    "sin_u = np.sin(u)\n",
    "print(u, sin_u)"
   ]
  },
  {
   "cell_type": "code",
   "execution_count": null,
   "metadata": {},
   "outputs": [],
   "source": []
  },
  {
   "cell_type": "markdown",
   "metadata": {},
   "source": [
    "## Dezvoltarea aplicațiilor GUI"
   ]
  },
  {
   "cell_type": "markdown",
   "metadata": {},
   "source": [
    "Mai departe vom aborda modul în care vom putea dezvolta aplicații GUI în Python. Vom introduce și Spyder, un alt IDE pentru Python, dar puteți folosi și alte IDE-uri după bunul plac (e.g. PyCharm, VSCode, etc).\n",
    "\n",
    "Dezvoltarea GUI ne va ajuta să automatizăm preprocesarea și vizualizarea datelor. Vom dezvolta interfețe care citesc, preprocesează și manipulează datele doar apăsând pe diferite butoane. Veți implementa funcțiile care sunt declanșate de aceste butoane."
   ]
  },
  {
   "cell_type": "markdown",
   "metadata": {},
   "source": [
    "### Syder IDE\n",
    "Spyder este un IDE gratuit și open source pentru Python.\n",
    "\n",
    "Câteva caracteristici ale Spyder:\n",
    "1. **Editare:** Oferă un editor de cod cu funcții avansate precum evidențierea sintaxei, completarea automată a codului și navigarea rapidă prin fișiere.\n",
    "2. **Depanare eficientă:** Spyder vine cu un debugger eficient care permite urmărirea și depanarea codului Python pas cu pas.\n",
    "3. **Optimizare:** Furnizează instrumente de optimizare a codului pentru a identifica și remedia zonele de încetinire.\n",
    "4. **Explorare interactivă a datelor:** Permite explorarea interactivă a seturilor de date prin intermediul consolei IPython și a panourilor de date.\n",
    "5. **Integrare cu alte instrumente Python:** Spyder se integrează bine cu alte pachete și biblioteci Python, precum matplotlib, scikit-learn și altele.\n",
    "6. **Configurare ușoară:** Este ușor de configurat și personalizat în funcție de nevoile utilizatorului, cu opțiuni pentru modificarea aspectului, comenzi rapide personalizate și așa mai departe."
   ]
  },
  {
   "attachments": {},
   "cell_type": "markdown",
   "metadata": {},
   "source": [
    "#### Îl putem instala direct din Anaconda:\n",
    "<center>\n",
    "<img width=200 src=\"https://github.com/prodangp/LaboratorCN/blob/main/media/lab4/spyder_install.png?raw=true\"/>\n",
    "</center>\n",
    "\n",
    "#### Cum deschidem un nou proiect?\n",
    "1. Mergem în bara de sus și alegem Projects -> New Project...;\n",
    "Apoi, alegem un nume și salvăm proiectul undeva în PC.\n",
    "2. În stânga va apărea un panou cu numele proiectului. Dăm click dreapta și deschidem un nou fișier.\n",
    "3. Verifică faptul că totul este în regulă rulând noul fișier creat. De exemplu, scrie o instruțiune de test `print('Hello Spyder!)`.\n",
    "Vei putea vedea output-ul în consola de jos.\n",
    "\n",
    "<center>\n",
    "    <img width=800 src=\"https://github.com/prodangp/LaboratorCN/blob/main/media/lab4/spyder_project.png?raw=true\"/>\n",
    "</center>\n",
    "\n",
    "#### vei putea folosi aceeași consolă pentru a instala pachete noi cu `pip`:\n",
    "<img src=\"https://github.com/prodangp/LaboratorCN/blob/main/media/lab4/spyder_pip.png?raw=true\"/>"
   ]
  },
  {
   "attachments": {},
   "cell_type": "markdown",
   "metadata": {},
   "source": [
    "### PyQT5\n",
    "\n",
    "PyQt este o bibliotecă care îți permite să folosești framework-ul grafic Qt în Python. Qt în sine este scris în C++. Utilizându-l din Python, poți construi aplicații mult mai rapid fără a sacrifica prea mult din viteza oferită de C++.\n",
    "\n",
    "PyQt5 se referă la versiunea 5 a Qt. S-ar putea să mai găsești menționată ocazional (Py)Qt4 pe web, dar este veche și nu mai estîntreținutătă. În schimb există și PyQt6, dar diferențele față de 5 nu sunt foarte mari. Aruncă o privire aici: https://www.pythonguis.com/faq/pyqt5-vs-pyqt6/\n",
    "\n",
    "Un competitor interesant pentru PyQt este Qt for Python. API-ul său este practic identic. Spre deosebire de PyQt, este licențiat sub LGPL și poate fi utilizat gratuit în proiecte comerciale. Este susținut de compania Qt și, prin urmare, probabil de viitor. Deoarece API-urile sunt atât de similare, poți trece cu ușurință aplicațiile tale la Qt for Python mai târziu. Vezi: https://www.qt.io/qt-for-py\n",
    "\n",
    "O altă alternativă care nu folosește Qt este tkinter - https://realpython.com/python-gui-tkinter/\n",
    "\n",
    "\n",
    "##### În celula de mai jos avem un prim exemplu foarte simplu. Ar trebui să se deschidă o mică interfață atunci când executați celula. Dacă nu funcționează resetează notebook-ul (Kernel -> Restart Kernel...) și încearcă din nou, sau copiază codul în noul tău fișier Spyder și încearcă acolo. \n",
    "\n",
    "**Important:**\n",
    " - Pentru partea de interfețe grafice vom lucra mai mult în Syder pentru a gestiona mai ușor codul în multiple fișiere.\n",
    " - Salvează toate exemplele PyQt5 într-un proiect Spyder."
   ]
  },
  {
   "cell_type": "code",
   "execution_count": 6,
   "metadata": {},
   "outputs": [
    {
     "name": "stdout",
     "output_type": "stream",
     "text": [
      "Ai apăsat butonul de 1 ori\n",
      "Ai apăsat butonul de 2 ori\n",
      "Ai apăsat butonul de 3 ori\n",
      "Ai apăsat butonul de 4 ori\n",
      "Ai apăsat butonul de 5 ori\n"
     ]
    },
    {
     "data": {
      "text/plain": [
       "0"
      ]
     },
     "execution_count": 6,
     "metadata": {},
     "output_type": "execute_result"
    }
   ],
   "source": [
    "from PyQt5.QtWidgets import QApplication, QWidget, QPushButton, QLabel, QVBoxLayout\n",
    "app = QApplication([])   # inițializăm aplicația\n",
    "window = QWidget()   # creez o fereastră\n",
    "layout = QHBoxLayout()  # creez un layout - VBox - vertical box - așează widget-urile pe verticală\n",
    "\n",
    "# adăugam un label la layout\n",
    "label = QLabel('Apasă butonul')\n",
    "layout.addWidget(label)    \n",
    "\n",
    "# adăgăm un buton după label\n",
    "button = QPushButton('Nu mă apăsa')\n",
    "layout.addWidget(button)   \n",
    "\n",
    "cnt = 0 # contor care sa monitorizeze de câte ori am apăsat butonul\n",
    "\n",
    "# definim o functie care va fi apelata cand butonul este apasat\n",
    "def btn_pushed():\n",
    "    global cnt\n",
    "    cnt += 1\n",
    "    print(f\"Ai apăsat butonul de {cnt} ori\")\n",
    "\n",
    "    \n",
    "# conectam butonul la functia creata\n",
    "button.clicked.connect(btn_pushed) \n",
    "\n",
    "\n",
    "window.setLayout(layout)  # adăugăm layout-ul la window\n",
    "window.show() # arătăm fereastra creată\n",
    "app.exec() # executăm aplicația"
   ]
  },
  {
   "cell_type": "markdown",
   "metadata": {},
   "source": [
    "#### Pentru proiectul final va trebui să dezvoltați o interfață grafică (GUI). Puteți folosi orice tehnologie doriți pentru a dezvolta GUI-ul, dar pe parcursul laboratorului exemplele se vor baza pe PyQt5."
   ]
  },
  {
   "cell_type": "markdown",
   "metadata": {},
   "source": [
    "### Obiectele de tip widget\n",
    "Widget-ul este elementul de bază în PyQt5. Toate widget-urile (label-uri, butoane, căsuțe de text) sunt bazate pe clasa `QWidget`.\n",
    "\n",
    "Puteți consulta următoarele resurse pentru a vă familiariza cu widget-urile elementare:\n",
    "- https://www.pythonguis.com/tutorials/pyqt-basic-widgets/\n",
    "- https://www.tutorialspoint.com/pyqt/pyqt_basic_widgets.htm\n",
    "- documentația oficială: https://doc.qt.io/\n",
    "  \n",
    "**Un widget se creează simplu invocând clasa acestuia:**\n",
    "```python\n",
    "label = QLabel(\"Textul pe care vrei să îl afișezi cu această etichetă/label.\")\n",
    "```\n",
    "Label-urile se folosesc pentru a afișa text. Le putem stiliza, de exemplu:\n",
    "- Stilizăm textul: bold, font mai mare\n",
    " ```python\n",
    "label.setFont(QFont(\"Arial\", 24, QFont.Bold))\n",
    "```\n",
    "       \n",
    "- Stilizăm fundalul și culoarea textului\n",
    "```python\n",
    "label.setStyleSheet(\"background-color: lightblue; color: darkblue;\")\n",
    "```\n",
    "\n",
    "- Aliniere text la centru\n",
    "```python\n",
    "label.setAlignment(Qt.AlignCenter)\n",
    "```\n",
    "\n",
    "La fel putem proceda și cu butoanele, căsuțele de text/radio/combo.\n",
    "\n",
    "*Sau mai avansat, putem folosi **QSS (Qt Style Sheets)** - care funcționează similar cu CSS-urile. Vezi https://www.pythontutorial.net/pyqt/qt-style-sheets/ pentru mai multe detalii.*\n"
   ]
  },
  {
   "cell_type": "markdown",
   "metadata": {},
   "source": [
    "### Exemplu QLabel"
   ]
  },
  {
   "cell_type": "code",
   "execution_count": null,
   "metadata": {},
   "outputs": [],
   "source": [
    "import sys\n",
    "from PyQt5.QtWidgets import QApplication, QLabel\n",
    "from PyQt5.QtGui import QFont\n",
    "from PyQt5.QtCore import Qt\n",
    "\n",
    "def main():\n",
    "    app = QApplication(sys.argv)\n",
    "\n",
    "    # Creăm un QLabel\n",
    "    label = QLabel(\"Exemplu QLabel\")\n",
    "\n",
    "    # Stilizăm textul: bold, font mai mare\n",
    "    label.setFont(QFont(\"Arial\", 24\n",
    "                        , QFont.Bold))\n",
    "\n",
    "    # Stilizăm fundalul și culoarea textului\n",
    "    label.setStyleSheet(\"background-color: lightblue; color: darkblue;\")\n",
    "\n",
    "    # Aliniere text la centru\n",
    "    label.setAlignment(Qt.AlignCenter)\n",
    "    \n",
    "    # Afișăm fereastra\n",
    "    label.show()\n",
    "    sys.exit(app.exec_())\n",
    "\n",
    "if __name__ == '__main__':\n",
    "    main()"
   ]
  },
  {
   "cell_type": "markdown",
   "metadata": {},
   "source": [
    "### Exercițiu\n",
    "\n",
    "- Copiază codurile de mai sus în Spyder și verifică dacă funcționează corespunzător.\n",
    "- Încearcă să adaugi cu `layout.addWidget()` și alte widget-uri în layout: https://www.pythonguis.com/tutorials/pyqt-basic-widgets/\n",
    "- Customizează widget-urile adăugate.\n"
   ]
  },
  {
   "cell_type": "markdown",
   "metadata": {},
   "source": [
    "## BONUS\n",
    "Acesta este un exercițiu opțional. Rezolvarea completă a acestui exercițiu vă poate aduce punctaj suplimentar la nota de la laborator (+10p).\n",
    "\n",
    "Creează un calculator minimalist pentru funcții trigonometrice/logaritmi folosind widget-uri potrivite (https://www.pythonguis.com/tutorials/pyqt-basic-widgets/ - găsești aici tot ce trebuie). \n",
    "\n",
    "**Cerințe specifice:**\n",
    " - Asigurați-vă că interfața grafică este intuitivă și ușor de utilizat.\n",
    " - Aplicația trebuie să permită utilizatorului să aleagă baza logaritmică (log2, ln, log10, etc).\n",
    " - Aplicația trebuie să permită utilizatorului să aleagă funcția trigonometrică (sin, cos, tg, ctg).\n",
    " - Utilizatorul introduce valoarea argumentului `x`, iar GUI-ul afișează cu un `QLabel` valoarea obținută.\n",
    " - Implementează QSS pentru a customiza design-ul aplicației. Be creative!"
   ]
  }
 ],
 "metadata": {
  "kernelspec": {
   "display_name": "Python 3 (ipykernel)",
   "language": "python",
   "name": "python3"
  },
  "language_info": {
   "codemirror_mode": {
    "name": "ipython",
    "version": 3
   },
   "file_extension": ".py",
   "mimetype": "text/x-python",
   "name": "python",
   "nbconvert_exporter": "python",
   "pygments_lexer": "ipython3",
   "version": "3.11.0"
  }
 },
 "nbformat": 4,
 "nbformat_minor": 4
}
