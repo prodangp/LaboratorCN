{
 "cells": [
  {
   "cell_type": "markdown",
   "id": "91d86abf-d8bf-4ec0-a66c-a16a033ffa75",
   "metadata": {},
   "source": [
    "# Calcul Numeric - Temă Bonus 2\n",
    "# Ecuația lui Kepler și cometa Halley"
   ]
  },
  {
   "cell_type": "markdown",
   "id": "fda01c98-e831-4e0f-90cc-0214cddc55aa",
   "metadata": {},
   "source": [
    "În acest exercițiu vom folosi metode numerice pentru a rezolva ecuația lui Kepler și pentru a calcula traiectoria cometei Halley în jurul Soarelui. Vom crea o animație care prezintă evoluția cometei pe parcursul unei perioade orbitale, evidențiind traiectoria sa eliptică.\n",
    "\n",
    "Cometa Halley a fost descoperită de astronomul englez Edmond Halley în 1705, deși a fost observată și în alte perioade anterioare. Halley a remarcat că cometa a apărut la intervale regulate și a prezis corect revenirea sa în 1758, demonstrând astfel natura periodică a cometei. Are o perioadă orbitală de aproximativ **76 de ani**. Astfel, revine în apropierea Pământului aproximativ o dată la fiecare două generații umane.\n",
    "\n",
    "Traiectoria orbitei lui Halley poate fi descrisă în funcție de timp folosind ecuația lui Kepler:\n",
    "$$M=E−e⋅sin(E)$$\n",
    "\n",
    "unde:\n",
    "\n",
    "- $M$ este anomalia medie, crește liniar cu timpul, $M=2\\pi\\dfrac{t-t_0}{P}$ cu $P=76$ ani.\n",
    "- $E$ este anomalia excentrică, care reprezintă unghiul între poziția actuală a corpului și poziția sa pe cercul de excentricitate (vezi figura).\n",
    "- $e$ este excentricitatea orbitei, care caracterizează cât de „ovală” este orbita. Pentru orbite circulare, excentricitatea este zero, iar pentru orbite eliptice, excentricitatea este între 0 și 1. Pentru cometa Halley, avem o orbită foarte excentrică: $e=0.967$.\n",
    "\n",
    "\n",
    "\n",
    "\n",
    "### Informații utile\n",
    "- Perioada cometei este $P=76$ ani\n",
    "- Ultima trecere la periheliu (punctul cel mai apropriat de Soare de pe orbita cometei) a fost în anul 1986 pentru care vom considera $t_0=0$\n",
    "- Cometa va reveni în anul 2061\n",
    "- Excentricitatea orbitei: $e=0.967$.\n",
    "- Ecuația elipsei este următoarea:\n",
    "  $$\\frac{x^2}{a^2}+\\frac{y^2}{b^2}=1$$\n",
    "unde $a$ este semi-axa mare, iar $b$ semi-axa mică a elipsei. Avem $e=\\sqrt{1-\\dfrac{b^2}{a^2}}$.\n",
    "- Pentru cometa Halley avem $a=0.6$ UA (unități astronomice)."
   ]
  },
  {
   "cell_type": "markdown",
   "id": "20fe8f21-54ff-437b-a6ef-f4e0aad96f14",
   "metadata": {},
   "source": [
    "![](https://upload.wikimedia.org/wikipedia/commons/5/51/Halley%27s_Comet_animation.gif)"
   ]
  },
  {
   "cell_type": "code",
   "execution_count": null,
   "id": "4bfbf075-50f8-4fc6-9097-56459b722aa7",
   "metadata": {},
   "outputs": [],
   "source": []
  }
 ],
 "metadata": {
  "kernelspec": {
   "display_name": "Python 3 (ipykernel)",
   "language": "python",
   "name": "python3"
  },
  "language_info": {
   "codemirror_mode": {
    "name": "ipython",
    "version": 3
   },
   "file_extension": ".py",
   "mimetype": "text/x-python",
   "name": "python",
   "nbconvert_exporter": "python",
   "pygments_lexer": "ipython3",
   "version": "3.11.5"
  }
 },
 "nbformat": 4,
 "nbformat_minor": 5
}
